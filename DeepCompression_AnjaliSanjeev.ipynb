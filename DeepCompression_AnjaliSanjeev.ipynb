{
  "cells": [
    {
      "cell_type": "markdown",
      "metadata": {
        "id": "e5R6wAblFg7k"
      },
      "source": [
        "# Dependency Installations\n"
      ]
    },
    {
      "cell_type": "code",
      "execution_count": 3,
      "metadata": {
        "id": "4laaomRvFako"
      },
      "outputs": [],
      "source": [
        "!pip install -q tensorflow tensorflow-datasets matplotlib tensorflow-model-optimization tf-keras"
      ]
    },
    {
      "cell_type": "markdown",
      "metadata": {
        "id": "nUhMXgZVFl0w"
      },
      "source": [
        "# Import Statements\n"
      ]
    },
    {
      "cell_type": "code",
      "execution_count": 4,
      "metadata": {
        "id": "7_fQZr1SFUEV"
      },
      "outputs": [],
      "source": [
        "import tensorflow as tf\n",
        "import tensorflow_datasets as tfds\n",
        "from tensorflow.keras.models import Model\n",
        "from tensorflow.keras.optimizers import Adam\n",
        "from tensorflow_model_optimization.python.core.keras.compat import keras\n",
        "import tensorflow_model_optimization as tfmot\n",
        "import numpy as np\n",
        "import matplotlib.pyplot as plt\n",
        "import tempfile\n",
        "import os\n",
        "import zipfile"
      ]
    },
    {
      "cell_type": "markdown",
      "metadata": {
        "id": "7rpOWgctFp9S"
      },
      "source": [
        "# Helper Methods\n"
      ]
    },
    {
      "cell_type": "markdown",
      "metadata": {
        "id": "0HcM-ZuqGNj0"
      },
      "source": [
        "## Image Preprocessing Method\n"
      ]
    },
    {
      "cell_type": "code",
      "execution_count": 5,
      "metadata": {
        "id": "vJ3KFa4KFwQY"
      },
      "outputs": [],
      "source": [
        "# Resizing for ResNet50 model and custom student model\n",
        "def preprocess(image, label):\n",
        "    image = tf.image.resize(image, (224, 224))\n",
        "    image = tf.keras.applications.resnet.preprocess_input(image)\n",
        "    return image, label"
      ]
    },
    {
      "cell_type": "markdown",
      "metadata": {
        "id": "2pP1WJmCGHhZ"
      },
      "source": [
        "## Label Counting Function\n"
      ]
    },
    {
      "cell_type": "code",
      "execution_count": 6,
      "metadata": {
        "id": "w4t5NyHTF0No"
      },
      "outputs": [],
      "source": [
        "def count_labels(dataset):\n",
        "    label_counter = Counter()\n",
        "    for _, label in dataset:\n",
        "        label_counter[label.numpy()] += 1\n",
        "    return label_counter"
      ]
    },
    {
      "cell_type": "markdown",
      "metadata": {
        "id": "PwiOKhzuGesi"
      },
      "source": [
        "## Image Visualization Function\n"
      ]
    },
    {
      "cell_type": "code",
      "execution_count": 7,
      "metadata": {
        "id": "QtqsTTtVGhSi"
      },
      "outputs": [],
      "source": [
        "def visualize_dataset(ds, num_images=9):\n",
        "    plt.figure(figsize=(10, 10))\n",
        "    for images, labels in ds.take(1):\n",
        "        for i in range(num_images):\n",
        "            ax = plt.subplot(3, 3, i + 1)\n",
        "            plt.imshow((images[i].numpy() + 1) / 2)\n",
        "            plt.title(ds_info.features['label'].int2str(labels[i]))\n",
        "            plt.axis('off')\n",
        "    plt.show()"
      ]
    },
    {
      "cell_type": "markdown",
      "metadata": {
        "id": "Lda6TP5NG3Z0"
      },
      "source": [
        "## Training Accuracy and Loss Metric Visualizing Function\n"
      ]
    },
    {
      "cell_type": "code",
      "execution_count": 8,
      "metadata": {
        "id": "qGL44FsVG_Dy"
      },
      "outputs": [],
      "source": [
        "def plot_training_history(history):\n",
        "    acc = history.history['accuracy']\n",
        "    val_acc = history.history['val_accuracy']\n",
        "    loss = history.history['loss']\n",
        "    val_loss = history.history['val_loss']\n",
        "    epochs = range(1, len(acc) + 1)\n",
        "\n",
        "    plt.figure(figsize=(12, 5))\n",
        "    plt.subplot(1, 2, 1)\n",
        "    plt.plot(epochs, acc, 'bo-', label='Training acc')\n",
        "    plt.plot(epochs, val_acc, 'r*-', label='Validation acc')\n",
        "    plt.title('Training and validation accuracy')\n",
        "    plt.xlabel('Epochs')\n",
        "    plt.ylabel('Accuracy')\n",
        "    plt.legend()\n",
        "\n",
        "    plt.subplot(1, 2, 2)\n",
        "    plt.plot(epochs, loss, 'bo-', label='Training loss')\n",
        "    plt.plot(epochs, val_loss, 'r*-', label='Validation loss')\n",
        "    plt.title('Training and validation loss')\n",
        "    plt.xlabel('Epochs')\n",
        "    plt.ylabel('Loss')\n",
        "    plt.legend()\n",
        "\n",
        "    plt.show()"
      ]
    },
    {
      "cell_type": "markdown",
      "metadata": {
        "id": "O2hIr5tRI3oR"
      },
      "source": [
        "## Method to create a Conv block\n"
      ]
    },
    {
      "cell_type": "code",
      "execution_count": 9,
      "metadata": {
        "id": "KPWu47S7JBK-"
      },
      "outputs": [],
      "source": [
        "def conv_block(x, filters, stride):\n",
        "    x = keras.layers.DepthwiseConv2D(kernel_size=3, strides=stride, padding='same')(x)\n",
        "    x = keras.layers.BatchNormalization()(x)\n",
        "    x = keras.layers.ReLU(6.)(x)\n",
        "\n",
        "    x = keras.layers.Conv2D(filters, kernel_size=1, strides=1, padding='same')(x)\n",
        "    x = keras.layers.BatchNormalization()(x)\n",
        "    x = keras.layers.ReLU(6.)(x)\n",
        "\n",
        "    return x"
      ]
    },
    {
      "cell_type": "markdown",
      "metadata": {
        "id": "9OcZVTjtJIUs"
      },
      "source": [
        "## Method to Create Custom Model\n"
      ]
    },
    {
      "cell_type": "code",
      "execution_count": 11,
      "metadata": {
        "id": "hNo0_Qk1JH3h"
      },
      "outputs": [],
      "source": [
        "def build_custom_model(input_shape, num_classes):\n",
        "    inputs = keras.layers.Input(shape=input_shape)\n",
        "\n",
        "    x = keras.layers.Conv2D(16, kernel_size=3, strides=2, padding='same')(inputs)\n",
        "    x = keras.layers.BatchNormalization()(x)\n",
        "    x = keras.layers.ReLU(6.)(x)\n",
        "\n",
        "    x = conv_block(x, filters=32, stride=1)\n",
        "    x = conv_block(x, filters=64, stride=2) \n",
        "    x = conv_block(x, filters=128, stride=1)\n",
        "\n",
        "    x = keras.layers.GlobalAveragePooling2D()(x)\n",
        "    outputs = keras.layers.Dense(num_classes, activation='softmax')(x)\n",
        "\n",
        "    model = keras.models.Model(inputs=inputs, outputs=outputs)\n",
        "    return model"
      ]
    },
    {
      "cell_type": "markdown",
      "metadata": {
        "id": "qgrvKUWTMfwG"
      },
      "source": [
        "## Distillation Loss Function\n"
      ]
    },
    {
      "cell_type": "code",
      "execution_count": 12,
      "metadata": {
        "id": "S9AuuJ2yMckE"
      },
      "outputs": [],
      "source": [
        "def distillation_loss_with_kl(y_true, y_pred, teacher_logits, temperature=3.0, alpha=0.5):\n",
        "    teacher_soft = tf.nn.softmax(teacher_logits / temperature)\n",
        "    student_soft = tf.nn.softmax(y_pred / temperature)\n",
        "\n",
        "    hard_loss = tf.reduce_mean(tf.keras.losses.sparse_categorical_crossentropy(y_true, y_pred))\n",
        "\n",
        "    kl_loss = tf.reduce_mean(tf.keras.losses.KLDivergence()(teacher_soft, student_soft))\n",
        "\n",
        "    loss = alpha * kl_loss + (1 - alpha) * hard_loss\n",
        "    return loss"
      ]
    },
    {
      "cell_type": "markdown",
      "metadata": {
        "id": "DjxFzd5eM1m1"
      },
      "source": [
        "## Distillation Training Function\n"
      ]
    },
    {
      "cell_type": "code",
      "execution_count": 13,
      "metadata": {
        "id": "KlManp5SMr0h"
      },
      "outputs": [],
      "source": [
        "@tf.function\n",
        "def train_step(images, labels, teacher_model, student_model, optimizer):\n",
        "    with tf.GradientTape() as tape:\n",
        "        # Student Logits\n",
        "        student_logits = student_model(images, training=True)\n",
        "\n",
        "        # Teacher Logits\n",
        "        teacher_logits = teacher_model(images, training=False)\n",
        "\n",
        "        loss = distillation_loss_with_kl(labels, student_logits, teacher_logits)\n",
        "\n",
        "    gradients = tape.gradient(loss, student_model.trainable_variables)\n",
        "    optimizer.apply_gradients(zip(gradients, student_model.trainable_variables))\n",
        "\n",
        "    accuracy = tf.reduce_mean(tf.keras.metrics.sparse_categorical_accuracy(labels, student_logits))\n",
        "    return loss, accuracy"
      ]
    },
    {
      "cell_type": "markdown",
      "metadata": {
        "id": "xlzWYYAcS8aY"
      },
      "source": []
    },
    {
      "cell_type": "code",
      "execution_count": 14,
      "metadata": {
        "id": "4nRkbv7lS8He"
      },
      "outputs": [],
      "source": [
        "def get_gzipped_model_size(file):\n",
        "  _, zipped_file = tempfile.mkstemp('.zip')\n",
        "  with zipfile.ZipFile(zipped_file, 'w', compression=zipfile.ZIP_DEFLATED) as f:\n",
        "    f.write(file)\n",
        "\n",
        "  return os.path.getsize(zipped_file)\n"
      ]
    },
    {
      "cell_type": "markdown",
      "metadata": {
        "id": "uVILDb6DHE9V"
      },
      "source": [
        "# Dataset\n"
      ]
    },
    {
      "cell_type": "markdown",
      "metadata": {
        "id": "42FxUlroHIQZ"
      },
      "source": [
        "## Loading Data from Tensorflow-Datasets\n"
      ]
    },
    {
      "cell_type": "code",
      "execution_count": 15,
      "metadata": {
        "id": "S6w-pzZZHGxy"
      },
      "outputs": [],
      "source": [
        "(ds_train, ds_validation, ds_test), ds_info = tfds.load(\n",
        "    'tf_flowers',\n",
        "    split=['train[:80%]', 'train[80%:90%]', 'train[90%:]'],\n",
        "    as_supervised=True,\n",
        "    with_info=True\n",
        ")"
      ]
    },
    {
      "cell_type": "markdown",
      "metadata": {
        "id": "kZIJrNQRHTou"
      },
      "source": [
        "## Preprocessing Data\n"
      ]
    },
    {
      "cell_type": "code",
      "execution_count": 16,
      "metadata": {
        "id": "9YHIuP9mHV6d"
      },
      "outputs": [],
      "source": [
        "ds_train = ds_train.map(preprocess).batch(32).prefetch(tf.data.AUTOTUNE)\n",
        "ds_validation = ds_validation.map(preprocess).batch(32).prefetch(tf.data.AUTOTUNE)\n",
        "ds_test = ds_test.map(preprocess).batch(32).prefetch(tf.data.AUTOTUNE)"
      ]
    },
    {
      "cell_type": "markdown",
      "metadata": {
        "id": "Y9dXZeEYHZ4S"
      },
      "source": [
        "## Visualizing Train Data\n"
      ]
    },
    {
      "cell_type": "code",
      "execution_count": 17,
      "metadata": {
        "colab": {
          "base_uri": "https://localhost:8080/",
          "height": 990
        },
        "id": "-V7dLb-bHb64",
        "outputId": "95ce4a97-5734-483d-8f07-5068bf9b6aad"
      },
      "outputs": [
        {
          "name": "stderr",
          "output_type": "stream",
          "text": [
            "2024-05-05 05:12:52.351748: W tensorflow/core/kernels/data/cache_dataset_ops.cc:858] The calling iterator did not fully read the dataset being cached. In order to avoid unexpected truncation of the dataset, the partially cached contents of the dataset  will be discarded. This can happen if you have an input pipeline similar to `dataset.cache().take(k).repeat()`. You should use `dataset.take(k).cache().repeat()` instead.\n",
            "WARNING:matplotlib.image:Clipping input data to the valid range for imshow with RGB data ([0..1] for floats or [0..255] for integers).\n",
            "WARNING:matplotlib.image:Clipping input data to the valid range for imshow with RGB data ([0..1] for floats or [0..255] for integers).\n",
            "WARNING:matplotlib.image:Clipping input data to the valid range for imshow with RGB data ([0..1] for floats or [0..255] for integers).\n",
            "WARNING:matplotlib.image:Clipping input data to the valid range for imshow with RGB data ([0..1] for floats or [0..255] for integers).\n",
            "WARNING:matplotlib.image:Clipping input data to the valid range for imshow with RGB data ([0..1] for floats or [0..255] for integers).\n",
            "WARNING:matplotlib.image:Clipping input data to the valid range for imshow with RGB data ([0..1] for floats or [0..255] for integers).\n",
            "WARNING:matplotlib.image:Clipping input data to the valid range for imshow with RGB data ([0..1] for floats or [0..255] for integers).\n",
            "WARNING:matplotlib.image:Clipping input data to the valid range for imshow with RGB data ([0..1] for floats or [0..255] for integers).\n",
            "WARNING:matplotlib.image:Clipping input data to the valid range for imshow with RGB data ([0..1] for floats or [0..255] for integers).\n",
            "2024-05-05 05:12:52.407454: W tensorflow/core/framework/local_rendezvous.cc:404] Local rendezvous is aborting with status: OUT_OF_RANGE: End of sequence\n"
          ]
        },
        {
          "data": {
            "image/png": "[encoded data removed]",
            "text/plain": [
              "<Figure size 1000x1000 with 9 Axes>"
            ]
          },
          "metadata": {},
          "output_type": "display_data"
        }
      ],
      "source": [
        "visualize_dataset(ds_train)"
      ]
    },
    {
      "cell_type": "markdown",
      "metadata": {
        "id": "56ilT5ICHh-S"
      },
      "source": [
        "# Baseline Teacher Model - ResNet50\n"
      ]
    },
    {
      "cell_type": "markdown",
      "metadata": {
        "id": "fXq43qSQHvnZ"
      },
      "source": [
        "## Teacher Model Definition\n"
      ]
    },
    {
      "cell_type": "code",
      "execution_count": 18,
      "metadata": {
        "id": "LYb7L6xZHmMi"
      },
      "outputs": [],
      "source": [
        "base_model = tf.keras.applications.ResNet50(\n",
        "    input_shape=(224, 224, 3),\n",
        "    include_top=False,\n",
        "    weights='imagenet'\n",
        ")\n",
        "base_model.trainable = False\n",
        "\n",
        "teacher_model = tf.keras.Sequential([\n",
        "    base_model,\n",
        "    tf.keras.layers.GlobalAveragePooling2D(),\n",
        "    tf.keras.layers.Dense(256, activation='relu'),\n",
        "    tf.keras.layers.Dense(5, activation='softmax')\n",
        "])"
      ]
    },
    {
      "cell_type": "markdown",
      "metadata": {
        "id": "DhbHZgD5H2dg"
      },
      "source": [
        "## Compiling Teacher Model\n"
      ]
    },
    {
      "cell_type": "code",
      "execution_count": 19,
      "metadata": {
        "id": "l-gXUU57H4Uz"
      },
      "outputs": [],
      "source": [
        "teacher_model.compile(\n",
        "    optimizer=tf.keras.optimizers.Adam(learning_rate=0.0001),\n",
        "    loss=tf.keras.losses.SparseCategoricalCrossentropy(),\n",
        "    metrics=['accuracy']\n",
        ")"
      ]
    },
    {
      "cell_type": "markdown",
      "metadata": {
        "id": "nnrwrsqSH7AG"
      },
      "source": [
        "## Training Teacher Model - With Save Checkpoint Callback\n"
      ]
    },
    {
      "cell_type": "code",
      "execution_count": 20,
      "metadata": {
        "id": "dN48T_KgID5w"
      },
      "outputs": [
        {
          "name": "stdout",
          "output_type": "stream",
          "text": [
            "Epoch 1/10\n",
            "\u001b[1m92/92\u001b[0m \u001b[32m━━━━━━━━━━━━━━━━━━━━\u001b[0m\u001b[37m\u001b[0m \u001b[1m74s\u001b[0m 759ms/step - accuracy: 0.5574 - loss: 1.1820 - val_accuracy: 0.8501 - val_loss: 0.4197\n",
            "Epoch 2/10\n",
            "\u001b[1m92/92\u001b[0m \u001b[32m━━━━━━━━━━━━━━━━━━━━\u001b[0m\u001b[37m\u001b[0m \u001b[1m64s\u001b[0m 699ms/step - accuracy: 0.9012 - loss: 0.3202 - val_accuracy: 0.8692 - val_loss: 0.3430\n",
            "Epoch 3/10\n",
            "\u001b[1m92/92\u001b[0m \u001b[32m━━━━━━━━━━━━━━━━━━━━\u001b[0m\u001b[37m\u001b[0m \u001b[1m64s\u001b[0m 695ms/step - accuracy: 0.9354 - loss: 0.2148 - val_accuracy: 0.8828 - val_loss: 0.3158\n",
            "Epoch 4/10\n",
            "\u001b[1m92/92\u001b[0m \u001b[32m━━━━━━━━━━━━━━━━━━━━\u001b[0m\u001b[37m\u001b[0m \u001b[1m68s\u001b[0m 739ms/step - accuracy: 0.9557 - loss: 0.1586 - val_accuracy: 0.8883 - val_loss: 0.3021\n",
            "Epoch 5/10\n",
            "\u001b[1m92/92\u001b[0m \u001b[32m━━━━━━━━━━━━━━━━━━━━\u001b[0m\u001b[37m\u001b[0m \u001b[1m63s\u001b[0m 686ms/step - accuracy: 0.9749 - loss: 0.1226 - val_accuracy: 0.8937 - val_loss: 0.2930\n",
            "Epoch 6/10\n",
            "\u001b[1m92/92\u001b[0m \u001b[32m━━━━━━━━━━━━━━━━━━━━\u001b[0m\u001b[37m\u001b[0m \u001b[1m63s\u001b[0m 685ms/step - accuracy: 0.9868 - loss: 0.0977 - val_accuracy: 0.8937 - val_loss: 0.2863\n",
            "Epoch 7/10\n",
            "\u001b[1m92/92\u001b[0m \u001b[32m━━━━━━━━━━━━━━━━━━━━\u001b[0m\u001b[37m\u001b[0m \u001b[1m65s\u001b[0m 705ms/step - accuracy: 0.9887 - loss: 0.0794 - val_accuracy: 0.8937 - val_loss: 0.2813\n",
            "Epoch 8/10\n",
            "\u001b[1m92/92\u001b[0m \u001b[32m━━━━━━━━━━━━━━━━━━━━\u001b[0m\u001b[37m\u001b[0m \u001b[1m64s\u001b[0m 697ms/step - accuracy: 0.9930 - loss: 0.0656 - val_accuracy: 0.8937 - val_loss: 0.2775\n",
            "Epoch 9/10\n",
            "\u001b[1m92/92\u001b[0m \u001b[32m━━━━━━━━━━━━━━━━━━━━\u001b[0m\u001b[37m\u001b[0m \u001b[1m64s\u001b[0m 694ms/step - accuracy: 0.9962 - loss: 0.0548 - val_accuracy: 0.8965 - val_loss: 0.2757\n",
            "Epoch 10/10\n",
            "\u001b[1m92/92\u001b[0m \u001b[32m━━━━━━━━━━━━━━━━━━━━\u001b[0m\u001b[37m\u001b[0m \u001b[1m64s\u001b[0m 694ms/step - accuracy: 0.9970 - loss: 0.0461 - val_accuracy: 0.8965 - val_loss: 0.2761\n"
          ]
        }
      ],
      "source": [
        "model_checkpoint_callback = tf.keras.callbacks.ModelCheckpoint(\n",
        "    'models/teacher_model.keras',\n",
        "    monitor='val_loss',\n",
        "    verbose=0,\n",
        "    save_best_only=True\n",
        ")\n",
        "\n",
        "teacher_history = teacher_model.fit(\n",
        "    ds_train,\n",
        "    validation_data=ds_validation,\n",
        "    epochs=10,\n",
        "    callbacks=[model_checkpoint_callback]\n",
        ")"
      ]
    },
    {
      "cell_type": "markdown",
      "metadata": {
        "id": "gclbGxRVIJz6"
      },
      "source": [
        "## Evaluate on Test Dataset\n"
      ]
    },
    {
      "cell_type": "code",
      "execution_count": 21,
      "metadata": {
        "id": "Id9hi13WIMhj"
      },
      "outputs": [
        {
          "name": "stdout",
          "output_type": "stream",
          "text": [
            "\u001b[1m12/12\u001b[0m \u001b[32m━━━━━━━━━━━━━━━━━━━━\u001b[0m\u001b[37m\u001b[0m \u001b[1m7s\u001b[0m 597ms/step - accuracy: 0.9217 - loss: 0.2156\n"
          ]
        },
        {
          "data": {
            "text/plain": [
              "[0.20061607658863068, 0.9264305233955383]"
            ]
          },
          "execution_count": 21,
          "metadata": {},
          "output_type": "execute_result"
        }
      ],
      "source": [
        "teacher_model.evaluate(ds_test)"
      ]
    },
    {
      "cell_type": "markdown",
      "metadata": {
        "id": "Pu_UILRgIRp_"
      },
      "source": [
        "## Displaying Training Metrics\n"
      ]
    },
    {
      "cell_type": "code",
      "execution_count": 22,
      "metadata": {
        "id": "Lt9jUQxXIXhY"
      },
      "outputs": [
        {
          "data": {
            "image/png": "[encoded data removed]",
            "text/plain": [
              "<Figure size 1200x500 with 2 Axes>"
            ]
          },
          "metadata": {},
          "output_type": "display_data"
        }
      ],
      "source": [
        "plot_training_history(teacher_history)"
      ]
    },
    {
      "cell_type": "markdown",
      "metadata": {
        "id": "_UfOX-4OLQqm"
      },
      "source": [
        "# Student Model\n"
      ]
    },
    {
      "cell_type": "code",
      "execution_count": 23,
      "metadata": {
        "id": "u4DLFHFqIz2S"
      },
      "outputs": [
        {
          "name": "stdout",
          "output_type": "stream",
          "text": [
            "Model: \"model\"\n",
            "_________________________________________________________________\n",
            " Layer (type)                Output Shape              Param #   \n",
            "=================================================================\n",
            " input_1 (InputLayer)        [(None, 224, 224, 3)]     0         \n",
            "                                                                 \n",
            " conv2d (Conv2D)             (None, 112, 112, 16)      448       \n",
            "                                                                 \n",
            " batch_normalization (Batch  (None, 112, 112, 16)      64        \n",
            " Normalization)                                                  \n",
            "                                                                 \n",
            " re_lu (ReLU)                (None, 112, 112, 16)      0         \n",
            "                                                                 \n",
            " depthwise_conv2d (Depthwis  (None, 112, 112, 16)      160       \n",
            " eConv2D)                                                        \n",
            "                                                                 \n",
            " batch_normalization_1 (Bat  (None, 112, 112, 16)      64        \n",
            " chNormalization)                                                \n",
            "                                                                 \n",
            " re_lu_1 (ReLU)              (None, 112, 112, 16)      0         \n",
            "                                                                 \n",
            " conv2d_1 (Conv2D)           (None, 112, 112, 32)      544       \n",
            "                                                                 \n",
            " batch_normalization_2 (Bat  (None, 112, 112, 32)      128       \n",
            " chNormalization)                                                \n",
            "                                                                 \n",
            " re_lu_2 (ReLU)              (None, 112, 112, 32)      0         \n",
            "                                                                 \n",
            " depthwise_conv2d_1 (Depthw  (None, 56, 56, 32)        320       \n",
            " iseConv2D)                                                      \n",
            "                                                                 \n",
            " batch_normalization_3 (Bat  (None, 56, 56, 32)        128       \n",
            " chNormalization)                                                \n",
            "                                                                 \n",
            " re_lu_3 (ReLU)              (None, 56, 56, 32)        0         \n",
            "                                                                 \n",
            " conv2d_2 (Conv2D)           (None, 56, 56, 64)        2112      \n",
            "                                                                 \n",
            " batch_normalization_4 (Bat  (None, 56, 56, 64)        256       \n",
            " chNormalization)                                                \n",
            "                                                                 \n",
            " re_lu_4 (ReLU)              (None, 56, 56, 64)        0         \n",
            "                                                                 \n",
            " depthwise_conv2d_2 (Depthw  (None, 56, 56, 64)        640       \n",
            " iseConv2D)                                                      \n",
            "                                                                 \n",
            " batch_normalization_5 (Bat  (None, 56, 56, 64)        256       \n",
            " chNormalization)                                                \n",
            "                                                                 \n",
            " re_lu_5 (ReLU)              (None, 56, 56, 64)        0         \n",
            "                                                                 \n",
            " conv2d_3 (Conv2D)           (None, 56, 56, 128)       8320      \n",
            "                                                                 \n",
            " batch_normalization_6 (Bat  (None, 56, 56, 128)       512       \n",
            " chNormalization)                                                \n",
            "                                                                 \n",
            " re_lu_6 (ReLU)              (None, 56, 56, 128)       0         \n",
            "                                                                 \n",
            " global_average_pooling2d (  (None, 128)               0         \n",
            " GlobalAveragePooling2D)                                         \n",
            "                                                                 \n",
            " dense (Dense)               (None, 5)                 645       \n",
            "                                                                 \n",
            "=================================================================\n",
            "Total params: 14597 (57.02 KB)\n",
            "Trainable params: 13893 (54.27 KB)\n",
            "Non-trainable params: 704 (2.75 KB)\n",
            "_________________________________________________________________\n"
          ]
        }
      ],
      "source": [
        "student_model = build_custom_model(input_shape=(224, 224, 3), num_classes=5)\n",
        "student_model.summary()"
      ]
    },
    {
      "cell_type": "markdown",
      "metadata": {
        "id": "PJexFfROIW7I"
      },
      "source": [
        "# Student Training - Without Knowledge Distillation\n"
      ]
    },
    {
      "cell_type": "markdown",
      "metadata": {
        "id": "1FwzBbreLqDA"
      },
      "source": [
        "## Cloning Student Model\n"
      ]
    },
    {
      "cell_type": "code",
      "execution_count": 24,
      "metadata": {
        "id": "37om1XdgLsxF"
      },
      "outputs": [
        {
          "name": "stderr",
          "output_type": "stream",
          "text": [
            "WARNING:absl:At this time, the v2.11+ optimizer `tf.keras.optimizers.Adam` runs slowly on M1/M2 Macs, please use the legacy TF-Keras optimizer instead, located at `tf.keras.optimizers.legacy.Adam`.\n"
          ]
        }
      ],
      "source": [
        "cloned_student_model = keras.models.clone_model(student_model)\n",
        "cloned_student_model.set_weights(student_model.get_weights())\n",
        "\n",
        "cloned_student_model.compile(\n",
        "    optimizer=keras.optimizers.Adam(learning_rate=0.0001),\n",
        "    loss=tf.keras.losses.SparseCategoricalCrossentropy(),\n",
        "    metrics=['accuracy']\n",
        ")"
      ]
    },
    {
      "cell_type": "markdown",
      "metadata": {
        "id": "dtxkqub9LsVA"
      },
      "source": [
        "## Training Cloned Student Model\n"
      ]
    },
    {
      "cell_type": "code",
      "execution_count": 25,
      "metadata": {
        "id": "Jy30f_F5LxUk"
      },
      "outputs": [
        {
          "name": "stdout",
          "output_type": "stream",
          "text": [
            "Epoch 1/30\n"
          ]
        },
        {
          "name": "stdout",
          "output_type": "stream",
          "text": [
            "92/92 [==============================] - 25s 171ms/step - loss: 1.6240 - accuracy: 0.2163 - val_loss: 1.6615 - val_accuracy: 0.2425\n",
            "Epoch 2/30\n",
            "92/92 [==============================] - 15s 165ms/step - loss: 1.3629 - accuracy: 0.4418 - val_loss: 1.7739 - val_accuracy: 0.2425\n",
            "Epoch 3/30\n",
            "92/92 [==============================] - 15s 165ms/step - loss: 1.2532 - accuracy: 0.4911 - val_loss: 1.8395 - val_accuracy: 0.2425\n",
            "Epoch 4/30\n",
            "92/92 [==============================] - 15s 168ms/step - loss: 1.1992 - accuracy: 0.5194 - val_loss: 1.6541 - val_accuracy: 0.2725\n",
            "Epoch 5/30\n",
            "92/92 [==============================] - 16s 179ms/step - loss: 1.1632 - accuracy: 0.5381 - val_loss: 1.3541 - val_accuracy: 0.3896\n",
            "Epoch 6/30\n",
            "92/92 [==============================] - 16s 168ms/step - loss: 1.1351 - accuracy: 0.5497 - val_loss: 1.1626 - val_accuracy: 0.5395\n",
            "Epoch 7/30\n",
            "92/92 [==============================] - 16s 169ms/step - loss: 1.1112 - accuracy: 0.5630 - val_loss: 1.0904 - val_accuracy: 0.6022\n",
            "Epoch 8/30\n",
            "92/92 [==============================] - 15s 167ms/step - loss: 1.0905 - accuracy: 0.5753 - val_loss: 1.0616 - val_accuracy: 0.6076\n",
            "Epoch 9/30\n",
            "92/92 [==============================] - 15s 167ms/step - loss: 1.0717 - accuracy: 0.5838 - val_loss: 1.0449 - val_accuracy: 0.6240\n",
            "Epoch 10/30\n",
            "92/92 [==============================] - 15s 167ms/step - loss: 1.0545 - accuracy: 0.5947 - val_loss: 1.0330 - val_accuracy: 0.6267\n",
            "Epoch 11/30\n",
            "92/92 [==============================] - 15s 167ms/step - loss: 1.0386 - accuracy: 0.6018 - val_loss: 1.0213 - val_accuracy: 0.6322\n",
            "Epoch 12/30\n",
            "92/92 [==============================] - 16s 170ms/step - loss: 1.0238 - accuracy: 0.6080 - val_loss: 1.0122 - val_accuracy: 0.6322\n",
            "Epoch 13/30\n",
            "92/92 [==============================] - 15s 168ms/step - loss: 1.0099 - accuracy: 0.6114 - val_loss: 1.0042 - val_accuracy: 0.6349\n",
            "Epoch 14/30\n",
            "92/92 [==============================] - 16s 169ms/step - loss: 0.9970 - accuracy: 0.6158 - val_loss: 0.9951 - val_accuracy: 0.6322\n",
            "Epoch 15/30\n",
            "92/92 [==============================] - 15s 168ms/step - loss: 0.9851 - accuracy: 0.6189 - val_loss: 0.9877 - val_accuracy: 0.6294\n",
            "Epoch 16/30\n",
            "92/92 [==============================] - 16s 171ms/step - loss: 0.9740 - accuracy: 0.6270 - val_loss: 0.9831 - val_accuracy: 0.6294\n",
            "Epoch 17/30\n",
            "92/92 [==============================] - 17s 184ms/step - loss: 0.9637 - accuracy: 0.6304 - val_loss: 0.9753 - val_accuracy: 0.6349\n",
            "Epoch 18/30\n",
            "92/92 [==============================] - 15s 162ms/step - loss: 0.9541 - accuracy: 0.6332 - val_loss: 0.9688 - val_accuracy: 0.6403\n",
            "Epoch 19/30\n",
            "92/92 [==============================] - 15s 163ms/step - loss: 0.9451 - accuracy: 0.6366 - val_loss: 0.9628 - val_accuracy: 0.6403\n",
            "Epoch 20/30\n",
            "92/92 [==============================] - 15s 165ms/step - loss: 0.9367 - accuracy: 0.6400 - val_loss: 0.9555 - val_accuracy: 0.6458\n",
            "Epoch 21/30\n",
            "92/92 [==============================] - 15s 168ms/step - loss: 0.9287 - accuracy: 0.6451 - val_loss: 0.9511 - val_accuracy: 0.6594\n",
            "Epoch 22/30\n",
            "92/92 [==============================] - 15s 168ms/step - loss: 0.9211 - accuracy: 0.6485 - val_loss: 0.9423 - val_accuracy: 0.6540\n",
            "Epoch 23/30\n",
            "92/92 [==============================] - 16s 170ms/step - loss: 0.9140 - accuracy: 0.6499 - val_loss: 0.9358 - val_accuracy: 0.6621\n",
            "Epoch 24/30\n",
            "92/92 [==============================] - 16s 171ms/step - loss: 0.9072 - accuracy: 0.6540 - val_loss: 0.9361 - val_accuracy: 0.6649\n",
            "Epoch 25/30\n",
            "92/92 [==============================] - 16s 170ms/step - loss: 0.9007 - accuracy: 0.6577 - val_loss: 0.9264 - val_accuracy: 0.6649\n",
            "Epoch 26/30\n",
            "92/92 [==============================] - 15s 166ms/step - loss: 0.8945 - accuracy: 0.6604 - val_loss: 0.9232 - val_accuracy: 0.6676\n",
            "Epoch 27/30\n",
            "92/92 [==============================] - 15s 166ms/step - loss: 0.8885 - accuracy: 0.6625 - val_loss: 0.9210 - val_accuracy: 0.6730\n",
            "Epoch 28/30\n",
            "92/92 [==============================] - 15s 166ms/step - loss: 0.8828 - accuracy: 0.6659 - val_loss: 0.9181 - val_accuracy: 0.6703\n",
            "Epoch 29/30\n",
            "92/92 [==============================] - 15s 167ms/step - loss: 0.8771 - accuracy: 0.6679 - val_loss: 0.9115 - val_accuracy: 0.6757\n",
            "Epoch 30/30\n",
            "92/92 [==============================] - 15s 166ms/step - loss: 0.8715 - accuracy: 0.6706 - val_loss: 0.9088 - val_accuracy: 0.6730\n"
          ]
        }
      ],
      "source": [
        "cloned_model_checkpoint_callback = keras.callbacks.ModelCheckpoint(\n",
        "    'models/cloned_student_model.keras',\n",
        "    monitor='val_loss',\n",
        "    verbose=0,\n",
        "    save_best_only=True\n",
        ")\n",
        "\n",
        "cloned_student_history = cloned_student_model.fit(\n",
        "    ds_train,\n",
        "    validation_data=ds_validation,\n",
        "    epochs=30,\n",
        "    callbacks=[cloned_model_checkpoint_callback]\n",
        ")"
      ]
    },
    {
      "cell_type": "markdown",
      "metadata": {
        "id": "-9KJa6PaMRau"
      },
      "source": [
        "## Evaluating Cloned Student Model on Test Dataset\n"
      ]
    },
    {
      "cell_type": "code",
      "execution_count": 26,
      "metadata": {
        "id": "-W7CuMADMWjB"
      },
      "outputs": [
        {
          "name": "stdout",
          "output_type": "stream",
          "text": [
            "12/12 [==============================] - 1s 40ms/step - loss: 0.8426 - accuracy: 0.6812\n"
          ]
        },
        {
          "data": {
            "text/plain": [
              "[0.8426492810249329, 0.6811988949775696]"
            ]
          },
          "execution_count": 26,
          "metadata": {},
          "output_type": "execute_result"
        }
      ],
      "source": [
        "cloned_student_model.evaluate(ds_test)"
      ]
    },
    {
      "cell_type": "markdown",
      "metadata": {
        "id": "qb02Qu4uMCER"
      },
      "source": [
        "## Displaying Training Loss and Accuracy Metrics\n"
      ]
    },
    {
      "cell_type": "code",
      "execution_count": 27,
      "metadata": {
        "id": "ulTo5LBLMBlt"
      },
      "outputs": [
        {
          "data": {
            "image/png": "[encoded data removed]",
            "text/plain": [
              "<Figure size 1200x500 with 2 Axes>"
            ]
          },
          "metadata": {},
          "output_type": "display_data"
        }
      ],
      "source": [
        "plot_training_history(cloned_student_history)"
      ]
    },
    {
      "cell_type": "markdown",
      "metadata": {
        "id": "cqjikwW5NKjk"
      },
      "source": [
        "# Student - Knowledge Distillation\n"
      ]
    },
    {
      "cell_type": "markdown",
      "metadata": {
        "id": "dHu6jKNKNU-i"
      },
      "source": [
        "## Training With Distillation\n"
      ]
    },
    {
      "cell_type": "code",
      "execution_count": 28,
      "metadata": {
        "id": "6zfskwgTNSKc"
      },
      "outputs": [
        {
          "name": "stderr",
          "output_type": "stream",
          "text": [
            "WARNING:absl:At this time, the v2.11+ optimizer `tf.keras.optimizers.Adam` runs slowly on M1/M2 Macs, please use the legacy TF-Keras optimizer instead, located at `tf.keras.optimizers.legacy.Adam`.\n"
          ]
        },
        {
          "name": "stdout",
          "output_type": "stream",
          "text": [
            "Epoch 1, Loss: 1.024646520614624, Accuracy: 0.09375\n",
            "Epoch 1, Loss: 0.8690168857574463, Accuracy: 0.1875\n",
            "Epoch 1, Loss: 0.8604925870895386, Accuracy: 0.25\n",
            "Epoch 1, Loss: 0.7987650036811829, Accuracy: 0.1875\n",
            "Epoch 1, Loss: 0.855283260345459, Accuracy: 0.125\n",
            "Epoch 1, Loss: 0.854914128780365, Accuracy: 0.0625\n",
            "Epoch 1, Loss: 0.6955879330635071, Accuracy: 0.4375\n",
            "Epoch 1, Loss: 0.739283561706543, Accuracy: 0.28125\n",
            "Epoch 1, Loss: 0.7358559370040894, Accuracy: 0.21875\n",
            "Epoch 1, Loss: 0.7421603202819824, Accuracy: 0.3125\n",
            "Epoch 1, Loss: 0.730446457862854, Accuracy: 0.28125\n",
            "Epoch 1, Loss: 0.732571005821228, Accuracy: 0.375\n",
            "Epoch 1, Loss: 0.6410750150680542, Accuracy: 0.6875\n",
            "Epoch 1, Loss: 0.7300629615783691, Accuracy: 0.34375\n",
            "Epoch 1, Loss: 0.6707764863967896, Accuracy: 0.53125\n",
            "Epoch 1, Loss: 0.6614928841590881, Accuracy: 0.4375\n",
            "Epoch 1, Loss: 0.6845016479492188, Accuracy: 0.4375\n",
            "Epoch 1, Loss: 0.6169411540031433, Accuracy: 0.71875\n",
            "Epoch 1, Loss: 0.6921178698539734, Accuracy: 0.3125\n",
            "Epoch 1, Loss: 0.6334691643714905, Accuracy: 0.59375\n",
            "Epoch 1, Loss: 0.6932236552238464, Accuracy: 0.4375\n",
            "Epoch 1, Loss: 0.736132025718689, Accuracy: 0.3125\n",
            "Epoch 1, Loss: 0.632959246635437, Accuracy: 0.625\n",
            "Epoch 1, Loss: 0.6005268096923828, Accuracy: 0.4375\n",
            "Epoch 1, Loss: 0.5682100653648376, Accuracy: 0.5625\n",
            "Epoch 1, Loss: 0.6345576047897339, Accuracy: 0.46875\n",
            "Epoch 1, Loss: 0.6730525493621826, Accuracy: 0.3125\n",
            "Epoch 1, Loss: 0.5877170562744141, Accuracy: 0.46875\n",
            "Epoch 1, Loss: 0.5764166116714478, Accuracy: 0.5\n",
            "Epoch 1, Loss: 0.6927044987678528, Accuracy: 0.46875\n",
            "Epoch 1, Loss: 0.5646765232086182, Accuracy: 0.625\n",
            "Epoch 1, Loss: 0.5609691739082336, Accuracy: 0.5\n",
            "Epoch 1, Loss: 0.8229905366897583, Accuracy: 0.25\n",
            "Epoch 1, Loss: 0.7602354884147644, Accuracy: 0.3125\n",
            "Epoch 1, Loss: 0.5308291912078857, Accuracy: 0.75\n",
            "Epoch 1, Loss: 0.6605439782142639, Accuracy: 0.4375\n",
            "Epoch 1, Loss: 0.5984182953834534, Accuracy: 0.40625\n",
            "Epoch 1, Loss: 0.5021228194236755, Accuracy: 0.59375\n",
            "Epoch 1, Loss: 0.6771986484527588, Accuracy: 0.40625\n",
            "Epoch 1, Loss: 0.6888056993484497, Accuracy: 0.28125\n",
            "Epoch 1, Loss: 0.5694189667701721, Accuracy: 0.5625\n",
            "Epoch 1, Loss: 0.5779513716697693, Accuracy: 0.59375\n",
            "Epoch 1, Loss: 0.5756328105926514, Accuracy: 0.5\n",
            "Epoch 1, Loss: 0.6492646336555481, Accuracy: 0.53125\n",
            "Epoch 1, Loss: 0.5687001943588257, Accuracy: 0.5625\n",
            "Epoch 1, Loss: 0.61719810962677, Accuracy: 0.46875\n",
            "Epoch 1, Loss: 0.4988206923007965, Accuracy: 0.53125\n",
            "Epoch 1, Loss: 0.5806618332862854, Accuracy: 0.59375\n",
            "Epoch 1, Loss: 0.6739364862442017, Accuracy: 0.46875\n",
            "Epoch 1, Loss: 0.6459267139434814, Accuracy: 0.5\n",
            "Epoch 1, Loss: 0.6728397011756897, Accuracy: 0.34375\n",
            "Epoch 1, Loss: 0.5971841216087341, Accuracy: 0.5\n",
            "Epoch 1, Loss: 0.5198068618774414, Accuracy: 0.59375\n",
            "Epoch 1, Loss: 0.6184958219528198, Accuracy: 0.46875\n",
            "Epoch 1, Loss: 0.5778601765632629, Accuracy: 0.53125\n",
            "Epoch 1, Loss: 0.5451258420944214, Accuracy: 0.53125\n",
            "Epoch 1, Loss: 0.6854987144470215, Accuracy: 0.40625\n",
            "Epoch 1, Loss: 0.6579052209854126, Accuracy: 0.40625\n",
            "Epoch 1, Loss: 0.5369550585746765, Accuracy: 0.53125\n",
            "Epoch 1, Loss: 0.6381021738052368, Accuracy: 0.5625\n",
            "Epoch 1, Loss: 0.5383750200271606, Accuracy: 0.5\n",
            "Epoch 1, Loss: 0.5300220847129822, Accuracy: 0.5625\n",
            "Epoch 1, Loss: 0.5433619618415833, Accuracy: 0.59375\n",
            "Epoch 1, Loss: 0.5322696566581726, Accuracy: 0.53125\n",
            "Epoch 1, Loss: 0.5189220905303955, Accuracy: 0.53125\n",
            "Epoch 1, Loss: 0.523277759552002, Accuracy: 0.53125\n",
            "Epoch 1, Loss: 0.6068421006202698, Accuracy: 0.53125\n",
            "Epoch 1, Loss: 0.6675001978874207, Accuracy: 0.4375\n",
            "Epoch 1, Loss: 0.5759406089782715, Accuracy: 0.59375\n",
            "Epoch 1, Loss: 0.5293674468994141, Accuracy: 0.65625\n",
            "Epoch 1, Loss: 0.5731051564216614, Accuracy: 0.5\n",
            "Epoch 1, Loss: 0.5068745017051697, Accuracy: 0.53125\n",
            "Epoch 1, Loss: 0.6000216603279114, Accuracy: 0.53125\n",
            "Epoch 1, Loss: 0.5632919669151306, Accuracy: 0.5\n",
            "Epoch 1, Loss: 0.5164411664009094, Accuracy: 0.6875\n",
            "Epoch 1, Loss: 0.6259053945541382, Accuracy: 0.46875\n",
            "Epoch 1, Loss: 0.5287268757820129, Accuracy: 0.625\n",
            "Epoch 1, Loss: 0.6323181986808777, Accuracy: 0.53125\n",
            "Epoch 1, Loss: 0.5621050596237183, Accuracy: 0.5625\n",
            "Epoch 1, Loss: 0.5908817052841187, Accuracy: 0.5625\n",
            "Epoch 1, Loss: 0.6268523931503296, Accuracy: 0.59375\n",
            "Epoch 1, Loss: 0.5086619257926941, Accuracy: 0.53125\n",
            "Epoch 1, Loss: 0.6222133040428162, Accuracy: 0.5\n",
            "Epoch 1, Loss: 0.5590733289718628, Accuracy: 0.5625\n",
            "Epoch 1, Loss: 0.7061371803283691, Accuracy: 0.4375\n",
            "Epoch 1, Loss: 0.593869149684906, Accuracy: 0.625\n",
            "Epoch 1, Loss: 0.47189435362815857, Accuracy: 0.59375\n",
            "Epoch 1, Loss: 0.4434630870819092, Accuracy: 0.65625\n",
            "Epoch 1, Loss: 0.5706297159194946, Accuracy: 0.4375\n",
            "Epoch 1, Loss: 0.42551514506340027, Accuracy: 0.71875\n",
            "Epoch 1, Loss: 0.49107980728149414, Accuracy: 0.625\n",
            "Epoch 1, Loss: 0.5828898549079895, Accuracy: 0.5416666865348816\n"
          ]
        },
        {
          "name": "stderr",
          "output_type": "stream",
          "text": [
            "2024-05-05 05:33:23.658871: W tensorflow/core/framework/local_rendezvous.cc:404] Local rendezvous is aborting with status: OUT_OF_RANGE: End of sequence\n"
          ]
        },
        {
          "name": "stdout",
          "output_type": "stream",
          "text": [
            "12/12 [==============================] - 1s 42ms/step - loss: 1.7223 - accuracy: 0.2425\n",
            "Epoch 2, Loss: 0.5719746351242065, Accuracy: 0.46875\n",
            "Epoch 2, Loss: 0.5294126868247986, Accuracy: 0.59375\n",
            "Epoch 2, Loss: 0.5669530034065247, Accuracy: 0.5625\n",
            "Epoch 2, Loss: 0.5868734121322632, Accuracy: 0.53125\n",
            "Epoch 2, Loss: 0.5600423216819763, Accuracy: 0.625\n",
            "Epoch 2, Loss: 0.47881051898002625, Accuracy: 0.65625\n",
            "Epoch 2, Loss: 0.6906052827835083, Accuracy: 0.4375\n",
            "Epoch 2, Loss: 0.5211743116378784, Accuracy: 0.5625\n",
            "Epoch 2, Loss: 0.464674174785614, Accuracy: 0.6875\n",
            "Epoch 2, Loss: 0.5606206059455872, Accuracy: 0.53125\n",
            "Epoch 2, Loss: 0.5378339886665344, Accuracy: 0.53125\n",
            "Epoch 2, Loss: 0.5692062973976135, Accuracy: 0.625\n",
            "Epoch 2, Loss: 0.4745003283023834, Accuracy: 0.6875\n",
            "Epoch 2, Loss: 0.48688533902168274, Accuracy: 0.6875\n",
            "Epoch 2, Loss: 0.5358936786651611, Accuracy: 0.59375\n",
            "Epoch 2, Loss: 0.5529584288597107, Accuracy: 0.65625\n",
            "Epoch 2, Loss: 0.5345175862312317, Accuracy: 0.59375\n",
            "Epoch 2, Loss: 0.46837711334228516, Accuracy: 0.6875\n",
            "Epoch 2, Loss: 0.5299915671348572, Accuracy: 0.53125\n",
            "Epoch 2, Loss: 0.5087258815765381, Accuracy: 0.59375\n",
            "Epoch 2, Loss: 0.6253093481063843, Accuracy: 0.65625\n",
            "Epoch 2, Loss: 0.6515156626701355, Accuracy: 0.375\n",
            "Epoch 2, Loss: 0.526870846748352, Accuracy: 0.5625\n",
            "Epoch 2, Loss: 0.49377745389938354, Accuracy: 0.53125\n",
            "Epoch 2, Loss: 0.48111268877983093, Accuracy: 0.5625\n",
            "Epoch 2, Loss: 0.5093932151794434, Accuracy: 0.59375\n",
            "Epoch 2, Loss: 0.5574870109558105, Accuracy: 0.5625\n",
            "Epoch 2, Loss: 0.5141816735267639, Accuracy: 0.625\n",
            "Epoch 2, Loss: 0.46083298325538635, Accuracy: 0.65625\n",
            "Epoch 2, Loss: 0.6502904891967773, Accuracy: 0.46875\n",
            "Epoch 2, Loss: 0.5320355296134949, Accuracy: 0.5625\n",
            "Epoch 2, Loss: 0.5123061537742615, Accuracy: 0.5625\n",
            "Epoch 2, Loss: 0.7325370907783508, Accuracy: 0.3125\n",
            "Epoch 2, Loss: 0.691236674785614, Accuracy: 0.28125\n",
            "Epoch 2, Loss: 0.47268274426460266, Accuracy: 0.625\n",
            "Epoch 2, Loss: 0.6134215593338013, Accuracy: 0.46875\n",
            "Epoch 2, Loss: 0.49078139662742615, Accuracy: 0.5625\n",
            "Epoch 2, Loss: 0.4276435971260071, Accuracy: 0.71875\n",
            "Epoch 2, Loss: 0.5813133120536804, Accuracy: 0.5\n",
            "Epoch 2, Loss: 0.5972217917442322, Accuracy: 0.46875\n",
            "Epoch 2, Loss: 0.46055254340171814, Accuracy: 0.65625\n",
            "Epoch 2, Loss: 0.529524028301239, Accuracy: 0.5625\n",
            "Epoch 2, Loss: 0.49704205989837646, Accuracy: 0.59375\n",
            "Epoch 2, Loss: 0.5559032559394836, Accuracy: 0.53125\n",
            "Epoch 2, Loss: 0.4961192309856415, Accuracy: 0.625\n",
            "Epoch 2, Loss: 0.5074885487556458, Accuracy: 0.59375\n",
            "Epoch 2, Loss: 0.44448912143707275, Accuracy: 0.5625\n",
            "Epoch 2, Loss: 0.47299936413764954, Accuracy: 0.75\n",
            "Epoch 2, Loss: 0.5915720462799072, Accuracy: 0.5\n",
            "Epoch 2, Loss: 0.5742248296737671, Accuracy: 0.53125\n",
            "Epoch 2, Loss: 0.6000717282295227, Accuracy: 0.4375\n",
            "Epoch 2, Loss: 0.5360857844352722, Accuracy: 0.5625\n",
            "Epoch 2, Loss: 0.486766517162323, Accuracy: 0.5625\n",
            "Epoch 2, Loss: 0.5776582360267639, Accuracy: 0.46875\n",
            "Epoch 2, Loss: 0.4994186758995056, Accuracy: 0.59375\n",
            "Epoch 2, Loss: 0.4818439483642578, Accuracy: 0.625\n",
            "Epoch 2, Loss: 0.5916063189506531, Accuracy: 0.53125\n",
            "Epoch 2, Loss: 0.6038820743560791, Accuracy: 0.5\n",
            "Epoch 2, Loss: 0.47081804275512695, Accuracy: 0.5625\n",
            "Epoch 2, Loss: 0.5544239282608032, Accuracy: 0.59375\n",
            "Epoch 2, Loss: 0.4479025602340698, Accuracy: 0.53125\n",
            "Epoch 2, Loss: 0.46279457211494446, Accuracy: 0.625\n",
            "Epoch 2, Loss: 0.4476300776004791, Accuracy: 0.65625\n",
            "Epoch 2, Loss: 0.4961782395839691, Accuracy: 0.59375\n",
            "Epoch 2, Loss: 0.4505186378955841, Accuracy: 0.75\n",
            "Epoch 2, Loss: 0.45692178606987, Accuracy: 0.625\n",
            "Epoch 2, Loss: 0.5326054096221924, Accuracy: 0.5625\n",
            "Epoch 2, Loss: 0.6365069150924683, Accuracy: 0.53125\n",
            "Epoch 2, Loss: 0.5266918540000916, Accuracy: 0.625\n",
            "Epoch 2, Loss: 0.4476669728755951, Accuracy: 0.75\n",
            "Epoch 2, Loss: 0.48781535029411316, Accuracy: 0.59375\n",
            "Epoch 2, Loss: 0.4247797429561615, Accuracy: 0.65625\n",
            "Epoch 2, Loss: 0.5540071129798889, Accuracy: 0.5\n",
            "Epoch 2, Loss: 0.4697735607624054, Accuracy: 0.65625\n",
            "Epoch 2, Loss: 0.4812265634536743, Accuracy: 0.65625\n",
            "Epoch 2, Loss: 0.5856541395187378, Accuracy: 0.46875\n",
            "Epoch 2, Loss: 0.48394322395324707, Accuracy: 0.625\n",
            "Epoch 2, Loss: 0.570245087146759, Accuracy: 0.53125\n",
            "Epoch 2, Loss: 0.5336975455284119, Accuracy: 0.625\n",
            "Epoch 2, Loss: 0.5085384845733643, Accuracy: 0.65625\n",
            "Epoch 2, Loss: 0.5521544218063354, Accuracy: 0.5625\n",
            "Epoch 2, Loss: 0.4667181670665741, Accuracy: 0.625\n",
            "Epoch 2, Loss: 0.5961504578590393, Accuracy: 0.53125\n",
            "Epoch 2, Loss: 0.5287880897521973, Accuracy: 0.53125\n",
            "Epoch 2, Loss: 0.6423787474632263, Accuracy: 0.46875\n",
            "Epoch 2, Loss: 0.5222995281219482, Accuracy: 0.6875\n",
            "Epoch 2, Loss: 0.406257688999176, Accuracy: 0.75\n",
            "Epoch 2, Loss: 0.3933328688144684, Accuracy: 0.71875\n",
            "Epoch 2, Loss: 0.5223032236099243, Accuracy: 0.65625\n",
            "Epoch 2, Loss: 0.35399559140205383, Accuracy: 0.71875\n",
            "Epoch 2, Loss: 0.4194483458995819, Accuracy: 0.78125\n",
            "Epoch 2, Loss: 0.50807124376297, Accuracy: 0.625\n",
            " 3/12 [======>.......................] - ETA: 0s - loss: 2.1020 - accuracy: 0.2500"
          ]
        },
        {
          "name": "stderr",
          "output_type": "stream",
          "text": [
            "2024-05-05 05:34:38.183804: W tensorflow/core/framework/local_rendezvous.cc:404] Local rendezvous is aborting with status: OUT_OF_RANGE: End of sequence\n"
          ]
        },
        {
          "name": "stdout",
          "output_type": "stream",
          "text": [
            "12/12 [==============================] - 1s 40ms/step - loss: 2.0325 - accuracy: 0.2425\n",
            "Epoch 3, Loss: 0.5166398286819458, Accuracy: 0.53125\n",
            "Epoch 3, Loss: 0.495411217212677, Accuracy: 0.625\n",
            "Epoch 3, Loss: 0.47523343563079834, Accuracy: 0.65625\n",
            "Epoch 3, Loss: 0.5513951182365417, Accuracy: 0.5625\n",
            "Epoch 3, Loss: 0.5031454563140869, Accuracy: 0.65625\n",
            "Epoch 3, Loss: 0.42556077241897583, Accuracy: 0.75\n",
            "Epoch 3, Loss: 0.6848505139350891, Accuracy: 0.4375\n",
            "Epoch 3, Loss: 0.46297985315322876, Accuracy: 0.59375\n",
            "Epoch 3, Loss: 0.42446091771125793, Accuracy: 0.625\n",
            "Epoch 3, Loss: 0.5139471888542175, Accuracy: 0.5625\n",
            "Epoch 3, Loss: 0.4822236895561218, Accuracy: 0.6875\n",
            "Epoch 3, Loss: 0.5190399885177612, Accuracy: 0.625\n",
            "Epoch 3, Loss: 0.43706902861595154, Accuracy: 0.75\n",
            "Epoch 3, Loss: 0.42111170291900635, Accuracy: 0.71875\n",
            "Epoch 3, Loss: 0.4948039948940277, Accuracy: 0.5625\n",
            "Epoch 3, Loss: 0.49954384565353394, Accuracy: 0.625\n",
            "Epoch 3, Loss: 0.501918375492096, Accuracy: 0.59375\n",
            "Epoch 3, Loss: 0.419027715921402, Accuracy: 0.75\n",
            "Epoch 3, Loss: 0.47941309213638306, Accuracy: 0.59375\n",
            "Epoch 3, Loss: 0.4388771951198578, Accuracy: 0.6875\n",
            "Epoch 3, Loss: 0.5712055563926697, Accuracy: 0.6875\n",
            "Epoch 3, Loss: 0.6031395792961121, Accuracy: 0.40625\n",
            "Epoch 3, Loss: 0.47842326760292053, Accuracy: 0.65625\n",
            "Epoch 3, Loss: 0.4541977345943451, Accuracy: 0.59375\n",
            "Epoch 3, Loss: 0.4353615641593933, Accuracy: 0.71875\n",
            "Epoch 3, Loss: 0.46244388818740845, Accuracy: 0.6875\n",
            "Epoch 3, Loss: 0.5405458807945251, Accuracy: 0.59375\n",
            "Epoch 3, Loss: 0.459651380777359, Accuracy: 0.625\n",
            "Epoch 3, Loss: 0.4189426600933075, Accuracy: 0.65625\n",
            "Epoch 3, Loss: 0.6436650156974792, Accuracy: 0.5\n",
            "Epoch 3, Loss: 0.5189478993415833, Accuracy: 0.5625\n",
            "Epoch 3, Loss: 0.5031143426895142, Accuracy: 0.5625\n",
            "Epoch 3, Loss: 0.6696912050247192, Accuracy: 0.40625\n",
            "Epoch 3, Loss: 0.6593999862670898, Accuracy: 0.40625\n",
            "Epoch 3, Loss: 0.446860134601593, Accuracy: 0.625\n",
            "Epoch 3, Loss: 0.5929741263389587, Accuracy: 0.59375\n",
            "Epoch 3, Loss: 0.44546765089035034, Accuracy: 0.625\n",
            "Epoch 3, Loss: 0.3952586352825165, Accuracy: 0.78125\n",
            "Epoch 3, Loss: 0.5297257304191589, Accuracy: 0.59375\n",
            "Epoch 3, Loss: 0.5652104020118713, Accuracy: 0.59375\n",
            "Epoch 3, Loss: 0.41415971517562866, Accuracy: 0.65625\n",
            "Epoch 3, Loss: 0.5058059692382812, Accuracy: 0.59375\n",
            "Epoch 3, Loss: 0.44760367274284363, Accuracy: 0.59375\n",
            "Epoch 3, Loss: 0.49560755491256714, Accuracy: 0.59375\n",
            "Epoch 3, Loss: 0.4472367763519287, Accuracy: 0.625\n",
            "Epoch 3, Loss: 0.44840872287750244, Accuracy: 0.71875\n",
            "Epoch 3, Loss: 0.3984733521938324, Accuracy: 0.71875\n",
            "Epoch 3, Loss: 0.41809630393981934, Accuracy: 0.75\n",
            "Epoch 3, Loss: 0.5343098640441895, Accuracy: 0.5625\n",
            "Epoch 3, Loss: 0.5186689496040344, Accuracy: 0.53125\n",
            "Epoch 3, Loss: 0.5441824197769165, Accuracy: 0.59375\n",
            "Epoch 3, Loss: 0.5028715133666992, Accuracy: 0.65625\n",
            "Epoch 3, Loss: 0.4702523946762085, Accuracy: 0.65625\n",
            "Epoch 3, Loss: 0.5369318723678589, Accuracy: 0.5625\n",
            "Epoch 3, Loss: 0.4495222866535187, Accuracy: 0.625\n",
            "Epoch 3, Loss: 0.45335814356803894, Accuracy: 0.625\n",
            "Epoch 3, Loss: 0.515108585357666, Accuracy: 0.59375\n",
            "Epoch 3, Loss: 0.5777559876441956, Accuracy: 0.53125\n",
            "Epoch 3, Loss: 0.4435206949710846, Accuracy: 0.53125\n",
            "Epoch 3, Loss: 0.5407451391220093, Accuracy: 0.625\n",
            "Epoch 3, Loss: 0.41574349999427795, Accuracy: 0.65625\n",
            "Epoch 3, Loss: 0.44791674613952637, Accuracy: 0.65625\n",
            "Epoch 3, Loss: 0.41722023487091064, Accuracy: 0.6875\n",
            "Epoch 3, Loss: 0.4833645522594452, Accuracy: 0.5625\n",
            "Epoch 3, Loss: 0.41461411118507385, Accuracy: 0.6875\n",
            "Epoch 3, Loss: 0.4285312294960022, Accuracy: 0.6875\n",
            "Epoch 3, Loss: 0.5307418704032898, Accuracy: 0.59375\n",
            "Epoch 3, Loss: 0.6139650344848633, Accuracy: 0.625\n",
            "Epoch 3, Loss: 0.5052685141563416, Accuracy: 0.5625\n",
            "Epoch 3, Loss: 0.39926236867904663, Accuracy: 0.84375\n",
            "Epoch 3, Loss: 0.452641099691391, Accuracy: 0.59375\n",
            "Epoch 3, Loss: 0.38788506388664246, Accuracy: 0.71875\n",
            "Epoch 3, Loss: 0.5126899480819702, Accuracy: 0.625\n",
            "Epoch 3, Loss: 0.4057368338108063, Accuracy: 0.78125\n",
            "Epoch 3, Loss: 0.46257275342941284, Accuracy: 0.6875\n",
            "Epoch 3, Loss: 0.5522481799125671, Accuracy: 0.4375\n",
            "Epoch 3, Loss: 0.44045567512512207, Accuracy: 0.6875\n",
            "Epoch 3, Loss: 0.529940664768219, Accuracy: 0.59375\n",
            "Epoch 3, Loss: 0.4995456039905548, Accuracy: 0.625\n",
            "Epoch 3, Loss: 0.4580548107624054, Accuracy: 0.59375\n",
            "Epoch 3, Loss: 0.49063023924827576, Accuracy: 0.59375\n",
            "Epoch 3, Loss: 0.4307892322540283, Accuracy: 0.6875\n",
            "Epoch 3, Loss: 0.5789163708686829, Accuracy: 0.5\n",
            "Epoch 3, Loss: 0.49447187781333923, Accuracy: 0.59375\n",
            "Epoch 3, Loss: 0.5766286253929138, Accuracy: 0.5625\n",
            "Epoch 3, Loss: 0.46815967559814453, Accuracy: 0.6875\n",
            "Epoch 3, Loss: 0.37304097414016724, Accuracy: 0.71875\n",
            "Epoch 3, Loss: 0.36560526490211487, Accuracy: 0.71875\n",
            "Epoch 3, Loss: 0.4811847507953644, Accuracy: 0.71875\n",
            "Epoch 3, Loss: 0.30630970001220703, Accuracy: 0.75\n",
            "Epoch 3, Loss: 0.36309629678726196, Accuracy: 0.78125\n",
            "Epoch 3, Loss: 0.4857422709465027, Accuracy: 0.5833333134651184\n",
            " 3/12 [======>.......................] - ETA: 0s - loss: 2.1145 - accuracy: 0.2500"
          ]
        },
        {
          "name": "stderr",
          "output_type": "stream",
          "text": [
            "2024-05-05 05:35:50.351764: W tensorflow/core/framework/local_rendezvous.cc:404] Local rendezvous is aborting with status: OUT_OF_RANGE: End of sequence\n"
          ]
        },
        {
          "name": "stdout",
          "output_type": "stream",
          "text": [
            "12/12 [==============================] - 1s 41ms/step - loss: 2.0413 - accuracy: 0.2507\n",
            "Epoch 4, Loss: 0.5003374814987183, Accuracy: 0.59375\n",
            "Epoch 4, Loss: 0.4793287515640259, Accuracy: 0.6875\n",
            "Epoch 4, Loss: 0.42235827445983887, Accuracy: 0.75\n",
            "Epoch 4, Loss: 0.5312284827232361, Accuracy: 0.5625\n",
            "Epoch 4, Loss: 0.4890522062778473, Accuracy: 0.65625\n",
            "Epoch 4, Loss: 0.3938252329826355, Accuracy: 0.71875\n",
            "Epoch 4, Loss: 0.6881880760192871, Accuracy: 0.53125\n",
            "Epoch 4, Loss: 0.44064846634864807, Accuracy: 0.59375\n",
            "Epoch 4, Loss: 0.3977777361869812, Accuracy: 0.625\n",
            "Epoch 4, Loss: 0.48563581705093384, Accuracy: 0.625\n",
            "Epoch 4, Loss: 0.44245588779449463, Accuracy: 0.71875\n",
            "Epoch 4, Loss: 0.5004945993423462, Accuracy: 0.65625\n",
            "Epoch 4, Loss: 0.4188675284385681, Accuracy: 0.75\n",
            "Epoch 4, Loss: 0.39938652515411377, Accuracy: 0.75\n",
            "Epoch 4, Loss: 0.4603741466999054, Accuracy: 0.625\n",
            "Epoch 4, Loss: 0.46836110949516296, Accuracy: 0.59375\n",
            "Epoch 4, Loss: 0.4819188714027405, Accuracy: 0.625\n",
            "Epoch 4, Loss: 0.3926123082637787, Accuracy: 0.71875\n",
            "Epoch 4, Loss: 0.46405741572380066, Accuracy: 0.59375\n",
            "Epoch 4, Loss: 0.4243148863315582, Accuracy: 0.6875\n",
            "Epoch 4, Loss: 0.5540103912353516, Accuracy: 0.65625\n",
            "Epoch 4, Loss: 0.5845628976821899, Accuracy: 0.5\n",
            "Epoch 4, Loss: 0.454626202583313, Accuracy: 0.59375\n",
            "Epoch 4, Loss: 0.423991858959198, Accuracy: 0.6875\n",
            "Epoch 4, Loss: 0.39634886384010315, Accuracy: 0.8125\n",
            "Epoch 4, Loss: 0.4411901533603668, Accuracy: 0.6875\n",
            "Epoch 4, Loss: 0.5202113389968872, Accuracy: 0.59375\n",
            "Epoch 4, Loss: 0.4151035249233246, Accuracy: 0.6875\n",
            "Epoch 4, Loss: 0.3855297267436981, Accuracy: 0.71875\n",
            "Epoch 4, Loss: 0.6345744729042053, Accuracy: 0.53125\n",
            "Epoch 4, Loss: 0.5003339052200317, Accuracy: 0.59375\n",
            "Epoch 4, Loss: 0.4816876947879791, Accuracy: 0.5625\n",
            "Epoch 4, Loss: 0.6246220469474792, Accuracy: 0.46875\n",
            "Epoch 4, Loss: 0.6173158288002014, Accuracy: 0.4375\n",
            "Epoch 4, Loss: 0.4357834458351135, Accuracy: 0.59375\n",
            "Epoch 4, Loss: 0.6069076657295227, Accuracy: 0.59375\n",
            "Epoch 4, Loss: 0.41280868649482727, Accuracy: 0.6875\n",
            "Epoch 4, Loss: 0.3784120976924896, Accuracy: 0.75\n",
            "Epoch 4, Loss: 0.5096285343170166, Accuracy: 0.5625\n",
            "Epoch 4, Loss: 0.5359959602355957, Accuracy: 0.59375\n",
            "Epoch 4, Loss: 0.39337781071662903, Accuracy: 0.6875\n",
            "Epoch 4, Loss: 0.5063706636428833, Accuracy: 0.625\n",
            "Epoch 4, Loss: 0.41631773114204407, Accuracy: 0.65625\n",
            "Epoch 4, Loss: 0.4506903886795044, Accuracy: 0.65625\n",
            "Epoch 4, Loss: 0.42086195945739746, Accuracy: 0.65625\n",
            "Epoch 4, Loss: 0.4076385498046875, Accuracy: 0.75\n",
            "Epoch 4, Loss: 0.36612996459007263, Accuracy: 0.71875\n",
            "Epoch 4, Loss: 0.3784633278846741, Accuracy: 0.75\n",
            "Epoch 4, Loss: 0.4953106641769409, Accuracy: 0.65625\n",
            "Epoch 4, Loss: 0.48125219345092773, Accuracy: 0.5625\n",
            "Epoch 4, Loss: 0.5092861652374268, Accuracy: 0.5625\n",
            "Epoch 4, Loss: 0.47950857877731323, Accuracy: 0.6875\n",
            "Epoch 4, Loss: 0.4483785331249237, Accuracy: 0.65625\n",
            "Epoch 4, Loss: 0.5041207075119019, Accuracy: 0.59375\n",
            "Epoch 4, Loss: 0.40970900654792786, Accuracy: 0.6875\n",
            "Epoch 4, Loss: 0.4411148726940155, Accuracy: 0.6875\n",
            "Epoch 4, Loss: 0.4795496463775635, Accuracy: 0.65625\n",
            "Epoch 4, Loss: 0.5311986804008484, Accuracy: 0.59375\n",
            "Epoch 4, Loss: 0.4210790991783142, Accuracy: 0.53125\n",
            "Epoch 4, Loss: 0.5168381929397583, Accuracy: 0.625\n",
            "Epoch 4, Loss: 0.38584551215171814, Accuracy: 0.75\n",
            "Epoch 4, Loss: 0.41563910245895386, Accuracy: 0.65625\n",
            "Epoch 4, Loss: 0.3897123634815216, Accuracy: 0.6875\n",
            "Epoch 4, Loss: 0.4713817834854126, Accuracy: 0.625\n",
            "Epoch 4, Loss: 0.3967483341693878, Accuracy: 0.75\n",
            "Epoch 4, Loss: 0.3935483992099762, Accuracy: 0.6875\n",
            "Epoch 4, Loss: 0.5294337272644043, Accuracy: 0.59375\n",
            "Epoch 4, Loss: 0.5965450406074524, Accuracy: 0.5625\n",
            "Epoch 4, Loss: 0.4880489408969879, Accuracy: 0.625\n",
            "Epoch 4, Loss: 0.35451433062553406, Accuracy: 0.8125\n",
            "Epoch 4, Loss: 0.435578852891922, Accuracy: 0.65625\n",
            "Epoch 4, Loss: 0.369924932718277, Accuracy: 0.78125\n",
            "Epoch 4, Loss: 0.48446449637413025, Accuracy: 0.625\n",
            "Epoch 4, Loss: 0.39148736000061035, Accuracy: 0.71875\n",
            "Epoch 4, Loss: 0.4442247450351715, Accuracy: 0.71875\n",
            "Epoch 4, Loss: 0.5279702544212341, Accuracy: 0.5\n",
            "Epoch 4, Loss: 0.4085842967033386, Accuracy: 0.6875\n",
            "Epoch 4, Loss: 0.517206609249115, Accuracy: 0.59375\n",
            "Epoch 4, Loss: 0.4712446331977844, Accuracy: 0.65625\n",
            "Epoch 4, Loss: 0.4256291389465332, Accuracy: 0.6875\n",
            "Epoch 4, Loss: 0.4519536793231964, Accuracy: 0.625\n",
            "Epoch 4, Loss: 0.3995353579521179, Accuracy: 0.71875\n",
            "Epoch 4, Loss: 0.5676396489143372, Accuracy: 0.5625\n",
            "Epoch 4, Loss: 0.4864867329597473, Accuracy: 0.59375\n",
            "Epoch 4, Loss: 0.5208691358566284, Accuracy: 0.59375\n",
            "Epoch 4, Loss: 0.4198820888996124, Accuracy: 0.71875\n",
            "Epoch 4, Loss: 0.3479682207107544, Accuracy: 0.6875\n",
            "Epoch 4, Loss: 0.3489689230918884, Accuracy: 0.75\n",
            "Epoch 4, Loss: 0.4479733407497406, Accuracy: 0.65625\n",
            "Epoch 4, Loss: 0.2834111452102661, Accuracy: 0.84375\n",
            "Epoch 4, Loss: 0.3355194926261902, Accuracy: 0.78125\n",
            "Epoch 4, Loss: 0.4627363085746765, Accuracy: 0.7083333134651184\n",
            " 3/12 [======>.......................] - ETA: 0s - loss: 1.7600 - accuracy: 0.3125"
          ]
        },
        {
          "name": "stderr",
          "output_type": "stream",
          "text": [
            "2024-05-05 05:37:01.727910: W tensorflow/core/framework/local_rendezvous.cc:404] Local rendezvous is aborting with status: OUT_OF_RANGE: End of sequence\n"
          ]
        },
        {
          "name": "stdout",
          "output_type": "stream",
          "text": [
            "12/12 [==============================] - 1s 42ms/step - loss: 1.6698 - accuracy: 0.3188\n",
            "Epoch 5, Loss: 0.4777611494064331, Accuracy: 0.65625\n",
            "Epoch 5, Loss: 0.49073171615600586, Accuracy: 0.71875\n",
            "Epoch 5, Loss: 0.3922397792339325, Accuracy: 0.75\n",
            "Epoch 5, Loss: 0.5122714638710022, Accuracy: 0.5625\n",
            "Epoch 5, Loss: 0.44276440143585205, Accuracy: 0.71875\n",
            "Epoch 5, Loss: 0.35815608501434326, Accuracy: 0.75\n",
            "Epoch 5, Loss: 0.6637153029441833, Accuracy: 0.53125\n",
            "Epoch 5, Loss: 0.4297816753387451, Accuracy: 0.59375\n",
            "Epoch 5, Loss: 0.3714990019798279, Accuracy: 0.75\n",
            "Epoch 5, Loss: 0.48025786876678467, Accuracy: 0.625\n",
            "Epoch 5, Loss: 0.40896469354629517, Accuracy: 0.6875\n",
            "Epoch 5, Loss: 0.4821924567222595, Accuracy: 0.625\n",
            "Epoch 5, Loss: 0.3856676518917084, Accuracy: 0.75\n",
            "Epoch 5, Loss: 0.37249743938446045, Accuracy: 0.78125\n",
            "Epoch 5, Loss: 0.4214174747467041, Accuracy: 0.5625\n",
            "Epoch 5, Loss: 0.4466567933559418, Accuracy: 0.625\n",
            "Epoch 5, Loss: 0.45518115162849426, Accuracy: 0.625\n",
            "Epoch 5, Loss: 0.3662332594394684, Accuracy: 0.71875\n",
            "Epoch 5, Loss: 0.4200687110424042, Accuracy: 0.625\n",
            "Epoch 5, Loss: 0.3946842849254608, Accuracy: 0.71875\n",
            "Epoch 5, Loss: 0.5231475830078125, Accuracy: 0.71875\n",
            "Epoch 5, Loss: 0.549045979976654, Accuracy: 0.53125\n",
            "Epoch 5, Loss: 0.42216795682907104, Accuracy: 0.65625\n",
            "Epoch 5, Loss: 0.4101034998893738, Accuracy: 0.65625\n",
            "Epoch 5, Loss: 0.3792766034603119, Accuracy: 0.8125\n",
            "Epoch 5, Loss: 0.41751495003700256, Accuracy: 0.6875\n",
            "Epoch 5, Loss: 0.4887605309486389, Accuracy: 0.625\n",
            "Epoch 5, Loss: 0.39453956484794617, Accuracy: 0.65625\n",
            "Epoch 5, Loss: 0.3588032126426697, Accuracy: 0.78125\n",
            "Epoch 5, Loss: 0.597576379776001, Accuracy: 0.59375\n",
            "Epoch 5, Loss: 0.48872724175453186, Accuracy: 0.625\n",
            "Epoch 5, Loss: 0.46724826097488403, Accuracy: 0.6875\n",
            "Epoch 5, Loss: 0.5790473818778992, Accuracy: 0.4375\n",
            "Epoch 5, Loss: 0.5847977995872498, Accuracy: 0.46875\n",
            "Epoch 5, Loss: 0.41370734572410583, Accuracy: 0.65625\n",
            "Epoch 5, Loss: 0.593572735786438, Accuracy: 0.59375\n",
            "Epoch 5, Loss: 0.3775205910205841, Accuracy: 0.6875\n",
            "Epoch 5, Loss: 0.3725460469722748, Accuracy: 0.71875\n",
            "Epoch 5, Loss: 0.4878632128238678, Accuracy: 0.53125\n",
            "Epoch 5, Loss: 0.5181231498718262, Accuracy: 0.5625\n",
            "Epoch 5, Loss: 0.36420783400535583, Accuracy: 0.78125\n",
            "Epoch 5, Loss: 0.49472281336784363, Accuracy: 0.59375\n",
            "Epoch 5, Loss: 0.39842599630355835, Accuracy: 0.71875\n",
            "Epoch 5, Loss: 0.404984712600708, Accuracy: 0.71875\n",
            "Epoch 5, Loss: 0.3868369460105896, Accuracy: 0.6875\n",
            "Epoch 5, Loss: 0.3846205770969391, Accuracy: 0.75\n",
            "Epoch 5, Loss: 0.36026665568351746, Accuracy: 0.75\n",
            "Epoch 5, Loss: 0.33923789858818054, Accuracy: 0.78125\n",
            "Epoch 5, Loss: 0.4610963761806488, Accuracy: 0.6875\n",
            "Epoch 5, Loss: 0.4644804298877716, Accuracy: 0.5625\n",
            "Epoch 5, Loss: 0.4824412763118744, Accuracy: 0.5625\n",
            "Epoch 5, Loss: 0.4670785069465637, Accuracy: 0.6875\n",
            "Epoch 5, Loss: 0.42781785130500793, Accuracy: 0.6875\n",
            "Epoch 5, Loss: 0.47535744309425354, Accuracy: 0.625\n",
            "Epoch 5, Loss: 0.3620683252811432, Accuracy: 0.75\n",
            "Epoch 5, Loss: 0.41925960779190063, Accuracy: 0.75\n",
            "Epoch 5, Loss: 0.43530553579330444, Accuracy: 0.65625\n",
            "Epoch 5, Loss: 0.46603015065193176, Accuracy: 0.625\n",
            "Epoch 5, Loss: 0.42276298999786377, Accuracy: 0.5625\n",
            "Epoch 5, Loss: 0.4928519129753113, Accuracy: 0.71875\n",
            "Epoch 5, Loss: 0.3612636625766754, Accuracy: 0.75\n",
            "Epoch 5, Loss: 0.3926578462123871, Accuracy: 0.65625\n",
            "Epoch 5, Loss: 0.36391544342041016, Accuracy: 0.65625\n",
            "Epoch 5, Loss: 0.4809209704399109, Accuracy: 0.59375\n",
            "Epoch 5, Loss: 0.37096837162971497, Accuracy: 0.78125\n",
            "Epoch 5, Loss: 0.3586328625679016, Accuracy: 0.78125\n",
            "Epoch 5, Loss: 0.5198200345039368, Accuracy: 0.625\n",
            "Epoch 5, Loss: 0.5896218419075012, Accuracy: 0.5625\n",
            "Epoch 5, Loss: 0.47519269585609436, Accuracy: 0.59375\n",
            "Epoch 5, Loss: 0.3332959711551666, Accuracy: 0.8125\n",
            "Epoch 5, Loss: 0.42344677448272705, Accuracy: 0.6875\n",
            "Epoch 5, Loss: 0.3500857651233673, Accuracy: 0.8125\n",
            "Epoch 5, Loss: 0.46024733781814575, Accuracy: 0.6875\n",
            "Epoch 5, Loss: 0.3576728403568268, Accuracy: 0.78125\n",
            "Epoch 5, Loss: 0.4096354842185974, Accuracy: 0.71875\n",
            "Epoch 5, Loss: 0.49339619278907776, Accuracy: 0.5\n",
            "Epoch 5, Loss: 0.3849221467971802, Accuracy: 0.6875\n",
            "Epoch 5, Loss: 0.50953608751297, Accuracy: 0.5625\n",
            "Epoch 5, Loss: 0.44176459312438965, Accuracy: 0.65625\n",
            "Epoch 5, Loss: 0.38597944378852844, Accuracy: 0.71875\n",
            "Epoch 5, Loss: 0.4417397677898407, Accuracy: 0.65625\n",
            "Epoch 5, Loss: 0.37211963534355164, Accuracy: 0.75\n",
            "Epoch 5, Loss: 0.5444807410240173, Accuracy: 0.5625\n",
            "Epoch 5, Loss: 0.4782967269420624, Accuracy: 0.5625\n",
            "Epoch 5, Loss: 0.48596954345703125, Accuracy: 0.625\n",
            "Epoch 5, Loss: 0.37656286358833313, Accuracy: 0.75\n",
            "Epoch 5, Loss: 0.3278851807117462, Accuracy: 0.65625\n",
            "Epoch 5, Loss: 0.3310316801071167, Accuracy: 0.78125\n",
            "Epoch 5, Loss: 0.4196189045906067, Accuracy: 0.6875\n",
            "Epoch 5, Loss: 0.2737962007522583, Accuracy: 0.84375\n",
            "Epoch 5, Loss: 0.32993146777153015, Accuracy: 0.78125\n",
            "Epoch 5, Loss: 0.45661434531211853, Accuracy: 0.625\n",
            " 3/12 [======>.......................] - ETA: 0s - loss: 1.2425 - accuracy: 0.4896"
          ]
        },
        {
          "name": "stderr",
          "output_type": "stream",
          "text": [
            "2024-05-05 05:38:12.675898: W tensorflow/core/framework/local_rendezvous.cc:404] Local rendezvous is aborting with status: OUT_OF_RANGE: End of sequence\n"
          ]
        },
        {
          "name": "stdout",
          "output_type": "stream",
          "text": [
            "12/12 [==============================] - 1s 40ms/step - loss: 1.1975 - accuracy: 0.4986\n",
            "Epoch 6, Loss: 0.4704403579235077, Accuracy: 0.71875\n",
            "Epoch 6, Loss: 0.4806048572063446, Accuracy: 0.71875\n",
            "Epoch 6, Loss: 0.3853083550930023, Accuracy: 0.75\n",
            "Epoch 6, Loss: 0.48887568712234497, Accuracy: 0.59375\n",
            "Epoch 6, Loss: 0.4238895773887634, Accuracy: 0.71875\n",
            "Epoch 6, Loss: 0.3599119782447815, Accuracy: 0.75\n",
            "Epoch 6, Loss: 0.6427140831947327, Accuracy: 0.53125\n",
            "Epoch 6, Loss: 0.41042840480804443, Accuracy: 0.625\n",
            "Epoch 6, Loss: 0.34664976596832275, Accuracy: 0.78125\n",
            "Epoch 6, Loss: 0.47319096326828003, Accuracy: 0.59375\n",
            "Epoch 6, Loss: 0.3873259425163269, Accuracy: 0.71875\n",
            "Epoch 6, Loss: 0.44789257645606995, Accuracy: 0.65625\n",
            "Epoch 6, Loss: 0.34740689396858215, Accuracy: 0.78125\n",
            "Epoch 6, Loss: 0.33873677253723145, Accuracy: 0.78125\n",
            "Epoch 6, Loss: 0.39700520038604736, Accuracy: 0.625\n",
            "Epoch 6, Loss: 0.42615237832069397, Accuracy: 0.6875\n",
            "Epoch 6, Loss: 0.4113866090774536, Accuracy: 0.625\n",
            "Epoch 6, Loss: 0.34334278106689453, Accuracy: 0.75\n",
            "Epoch 6, Loss: 0.4225606322288513, Accuracy: 0.59375\n",
            "Epoch 6, Loss: 0.37513238191604614, Accuracy: 0.84375\n",
            "Epoch 6, Loss: 0.5181345343589783, Accuracy: 0.65625\n",
            "Epoch 6, Loss: 0.5159498453140259, Accuracy: 0.5\n",
            "Epoch 6, Loss: 0.39240390062332153, Accuracy: 0.71875\n",
            "Epoch 6, Loss: 0.41059067845344543, Accuracy: 0.65625\n",
            "Epoch 6, Loss: 0.36315974593162537, Accuracy: 0.8125\n",
            "Epoch 6, Loss: 0.39611583948135376, Accuracy: 0.75\n",
            "Epoch 6, Loss: 0.4622877240180969, Accuracy: 0.6875\n",
            "Epoch 6, Loss: 0.3786929249763489, Accuracy: 0.6875\n",
            "Epoch 6, Loss: 0.3384847939014435, Accuracy: 0.8125\n",
            "Epoch 6, Loss: 0.5669530034065247, Accuracy: 0.625\n",
            "Epoch 6, Loss: 0.4766205847263336, Accuracy: 0.59375\n",
            "Epoch 6, Loss: 0.4339597225189209, Accuracy: 0.75\n",
            "Epoch 6, Loss: 0.5563473105430603, Accuracy: 0.46875\n",
            "Epoch 6, Loss: 0.5427299737930298, Accuracy: 0.59375\n",
            "Epoch 6, Loss: 0.38681653141975403, Accuracy: 0.6875\n",
            "Epoch 6, Loss: 0.5851596593856812, Accuracy: 0.59375\n",
            "Epoch 6, Loss: 0.3496975898742676, Accuracy: 0.65625\n",
            "Epoch 6, Loss: 0.36207714676856995, Accuracy: 0.6875\n",
            "Epoch 6, Loss: 0.46493443846702576, Accuracy: 0.5625\n",
            "Epoch 6, Loss: 0.4963805377483368, Accuracy: 0.53125\n",
            "Epoch 6, Loss: 0.35354897379875183, Accuracy: 0.75\n",
            "Epoch 6, Loss: 0.486446738243103, Accuracy: 0.625\n",
            "Epoch 6, Loss: 0.39010584354400635, Accuracy: 0.71875\n",
            "Epoch 6, Loss: 0.3574821352958679, Accuracy: 0.75\n",
            "Epoch 6, Loss: 0.36820685863494873, Accuracy: 0.6875\n",
            "Epoch 6, Loss: 0.37243419885635376, Accuracy: 0.78125\n",
            "Epoch 6, Loss: 0.32807761430740356, Accuracy: 0.8125\n",
            "Epoch 6, Loss: 0.3147618770599365, Accuracy: 0.84375\n",
            "Epoch 6, Loss: 0.4297938644886017, Accuracy: 0.6875\n",
            "Epoch 6, Loss: 0.4313691258430481, Accuracy: 0.65625\n",
            "Epoch 6, Loss: 0.4515428841114044, Accuracy: 0.59375\n",
            "Epoch 6, Loss: 0.42615437507629395, Accuracy: 0.6875\n",
            "Epoch 6, Loss: 0.411352276802063, Accuracy: 0.71875\n",
            "Epoch 6, Loss: 0.451188325881958, Accuracy: 0.65625\n",
            "Epoch 6, Loss: 0.34352806210517883, Accuracy: 0.75\n",
            "Epoch 6, Loss: 0.4004175066947937, Accuracy: 0.78125\n",
            "Epoch 6, Loss: 0.4074496924877167, Accuracy: 0.65625\n",
            "Epoch 6, Loss: 0.4329405725002289, Accuracy: 0.65625\n",
            "Epoch 6, Loss: 0.37922608852386475, Accuracy: 0.6875\n",
            "Epoch 6, Loss: 0.4716263711452484, Accuracy: 0.75\n",
            "Epoch 6, Loss: 0.3300371766090393, Accuracy: 0.75\n",
            "Epoch 6, Loss: 0.37756896018981934, Accuracy: 0.6875\n",
            "Epoch 6, Loss: 0.337240993976593, Accuracy: 0.75\n",
            "Epoch 6, Loss: 0.4849564731121063, Accuracy: 0.59375\n",
            "Epoch 6, Loss: 0.35094767808914185, Accuracy: 0.8125\n",
            "Epoch 6, Loss: 0.34269675612449646, Accuracy: 0.78125\n",
            "Epoch 6, Loss: 0.5010533332824707, Accuracy: 0.59375\n",
            "Epoch 6, Loss: 0.5802544355392456, Accuracy: 0.5625\n",
            "Epoch 6, Loss: 0.4571423828601837, Accuracy: 0.65625\n",
            "Epoch 6, Loss: 0.3193238079547882, Accuracy: 0.8125\n",
            "Epoch 6, Loss: 0.41866642236709595, Accuracy: 0.6875\n",
            "Epoch 6, Loss: 0.3277663588523865, Accuracy: 0.8125\n",
            "Epoch 6, Loss: 0.44960057735443115, Accuracy: 0.6875\n",
            "Epoch 6, Loss: 0.3630279004573822, Accuracy: 0.75\n",
            "Epoch 6, Loss: 0.3754344880580902, Accuracy: 0.75\n",
            "Epoch 6, Loss: 0.5023863911628723, Accuracy: 0.53125\n",
            "Epoch 6, Loss: 0.3658721148967743, Accuracy: 0.6875\n",
            "Epoch 6, Loss: 0.4773326516151428, Accuracy: 0.59375\n",
            "Epoch 6, Loss: 0.4396151304244995, Accuracy: 0.65625\n",
            "Epoch 6, Loss: 0.3756822645664215, Accuracy: 0.75\n",
            "Epoch 6, Loss: 0.41459718346595764, Accuracy: 0.65625\n",
            "Epoch 6, Loss: 0.3503841161727905, Accuracy: 0.75\n",
            "Epoch 6, Loss: 0.5315874814987183, Accuracy: 0.65625\n",
            "Epoch 6, Loss: 0.4473741054534912, Accuracy: 0.59375\n",
            "Epoch 6, Loss: 0.4615505337715149, Accuracy: 0.6875\n",
            "Epoch 6, Loss: 0.34815070033073425, Accuracy: 0.78125\n",
            "Epoch 6, Loss: 0.3181731700897217, Accuracy: 0.6875\n",
            "Epoch 6, Loss: 0.31700581312179565, Accuracy: 0.78125\n",
            "Epoch 6, Loss: 0.3951270282268524, Accuracy: 0.78125\n",
            "Epoch 6, Loss: 0.2637942433357239, Accuracy: 0.8125\n",
            "Epoch 6, Loss: 0.33233681321144104, Accuracy: 0.78125\n",
            "Epoch 6, Loss: 0.4369198679924011, Accuracy: 0.6666666865348816\n",
            " 3/12 [======>.......................] - ETA: 0s - loss: 0.9778 - accuracy: 0.5833"
          ]
        },
        {
          "name": "stderr",
          "output_type": "stream",
          "text": [
            "2024-05-05 05:39:26.147940: W tensorflow/core/framework/local_rendezvous.cc:404] Local rendezvous is aborting with status: OUT_OF_RANGE: End of sequence\n"
          ]
        },
        {
          "name": "stdout",
          "output_type": "stream",
          "text": [
            "12/12 [==============================] - 1s 41ms/step - loss: 0.9607 - accuracy: 0.6376\n",
            "Epoch 7, Loss: 0.4431351125240326, Accuracy: 0.71875\n",
            "Epoch 7, Loss: 0.46955281496047974, Accuracy: 0.71875\n",
            "Epoch 7, Loss: 0.3817068338394165, Accuracy: 0.75\n",
            "Epoch 7, Loss: 0.47756531834602356, Accuracy: 0.59375\n",
            "Epoch 7, Loss: 0.3827531337738037, Accuracy: 0.71875\n",
            "Epoch 7, Loss: 0.3276664912700653, Accuracy: 0.78125\n",
            "Epoch 7, Loss: 0.61814284324646, Accuracy: 0.59375\n",
            "Epoch 7, Loss: 0.3940596878528595, Accuracy: 0.65625\n",
            "Epoch 7, Loss: 0.32795295119285583, Accuracy: 0.78125\n",
            "Epoch 7, Loss: 0.4374888837337494, Accuracy: 0.65625\n",
            "Epoch 7, Loss: 0.3736913800239563, Accuracy: 0.71875\n",
            "Epoch 7, Loss: 0.4419482350349426, Accuracy: 0.6875\n",
            "Epoch 7, Loss: 0.32757464051246643, Accuracy: 0.8125\n",
            "Epoch 7, Loss: 0.3160018026828766, Accuracy: 0.8125\n",
            "Epoch 7, Loss: 0.38042643666267395, Accuracy: 0.65625\n",
            "Epoch 7, Loss: 0.4118403196334839, Accuracy: 0.71875\n",
            "Epoch 7, Loss: 0.39216700196266174, Accuracy: 0.6875\n",
            "Epoch 7, Loss: 0.3382057845592499, Accuracy: 0.75\n",
            "Epoch 7, Loss: 0.40906551480293274, Accuracy: 0.625\n",
            "Epoch 7, Loss: 0.364158570766449, Accuracy: 0.8125\n",
            "Epoch 7, Loss: 0.5083078145980835, Accuracy: 0.65625\n",
            "Epoch 7, Loss: 0.48152902722358704, Accuracy: 0.5625\n",
            "Epoch 7, Loss: 0.3749031722545624, Accuracy: 0.71875\n",
            "Epoch 7, Loss: 0.40377891063690186, Accuracy: 0.65625\n",
            "Epoch 7, Loss: 0.35389313101768494, Accuracy: 0.8125\n",
            "Epoch 7, Loss: 0.38279300928115845, Accuracy: 0.78125\n",
            "Epoch 7, Loss: 0.4321455955505371, Accuracy: 0.75\n",
            "Epoch 7, Loss: 0.36449453234672546, Accuracy: 0.75\n",
            "Epoch 7, Loss: 0.3205172121524811, Accuracy: 0.78125\n",
            "Epoch 7, Loss: 0.5262302756309509, Accuracy: 0.6875\n",
            "Epoch 7, Loss: 0.45784488320350647, Accuracy: 0.59375\n",
            "Epoch 7, Loss: 0.41914263367652893, Accuracy: 0.75\n",
            "Epoch 7, Loss: 0.5157085061073303, Accuracy: 0.53125\n",
            "Epoch 7, Loss: 0.5169644951820374, Accuracy: 0.625\n",
            "Epoch 7, Loss: 0.3751630187034607, Accuracy: 0.6875\n",
            "Epoch 7, Loss: 0.58912193775177, Accuracy: 0.59375\n",
            "Epoch 7, Loss: 0.3351597785949707, Accuracy: 0.6875\n",
            "Epoch 7, Loss: 0.36131128668785095, Accuracy: 0.71875\n",
            "Epoch 7, Loss: 0.44643542170524597, Accuracy: 0.59375\n",
            "Epoch 7, Loss: 0.4684326648712158, Accuracy: 0.59375\n",
            "Epoch 7, Loss: 0.34305575489997864, Accuracy: 0.75\n",
            "Epoch 7, Loss: 0.4696112275123596, Accuracy: 0.625\n",
            "Epoch 7, Loss: 0.38581469655036926, Accuracy: 0.71875\n",
            "Epoch 7, Loss: 0.3318910300731659, Accuracy: 0.75\n",
            "Epoch 7, Loss: 0.3475794494152069, Accuracy: 0.78125\n",
            "Epoch 7, Loss: 0.35186856985092163, Accuracy: 0.78125\n",
            "Epoch 7, Loss: 0.3198516070842743, Accuracy: 0.8125\n",
            "Epoch 7, Loss: 0.3007716238498688, Accuracy: 0.75\n",
            "Epoch 7, Loss: 0.41792240738868713, Accuracy: 0.6875\n",
            "Epoch 7, Loss: 0.4187139868736267, Accuracy: 0.65625\n",
            "Epoch 7, Loss: 0.443774551153183, Accuracy: 0.5625\n",
            "Epoch 7, Loss: 0.40399253368377686, Accuracy: 0.6875\n",
            "Epoch 7, Loss: 0.39914020895957947, Accuracy: 0.71875\n",
            "Epoch 7, Loss: 0.4299873113632202, Accuracy: 0.6875\n",
            "Epoch 7, Loss: 0.3283957540988922, Accuracy: 0.78125\n",
            "Epoch 7, Loss: 0.3817633092403412, Accuracy: 0.78125\n",
            "Epoch 7, Loss: 0.38877806067466736, Accuracy: 0.6875\n",
            "Epoch 7, Loss: 0.4127289652824402, Accuracy: 0.65625\n",
            "Epoch 7, Loss: 0.35651564598083496, Accuracy: 0.75\n",
            "Epoch 7, Loss: 0.46112412214279175, Accuracy: 0.6875\n",
            "Epoch 7, Loss: 0.3126086890697479, Accuracy: 0.8125\n",
            "Epoch 7, Loss: 0.3579816520214081, Accuracy: 0.71875\n",
            "Epoch 7, Loss: 0.31791073083877563, Accuracy: 0.71875\n",
            "Epoch 7, Loss: 0.49066781997680664, Accuracy: 0.59375\n",
            "Epoch 7, Loss: 0.3243257403373718, Accuracy: 0.8125\n",
            "Epoch 7, Loss: 0.33200985193252563, Accuracy: 0.78125\n",
            "Epoch 7, Loss: 0.4878702461719513, Accuracy: 0.65625\n",
            "Epoch 7, Loss: 0.5614812970161438, Accuracy: 0.5625\n",
            "Epoch 7, Loss: 0.4383062720298767, Accuracy: 0.65625\n",
            "Epoch 7, Loss: 0.3129102289676666, Accuracy: 0.8125\n",
            "Epoch 7, Loss: 0.4157642424106598, Accuracy: 0.65625\n",
            "Epoch 7, Loss: 0.3245392143726349, Accuracy: 0.8125\n",
            "Epoch 7, Loss: 0.44508761167526245, Accuracy: 0.65625\n",
            "Epoch 7, Loss: 0.345405250787735, Accuracy: 0.8125\n",
            "Epoch 7, Loss: 0.3610798418521881, Accuracy: 0.75\n",
            "Epoch 7, Loss: 0.48389673233032227, Accuracy: 0.5625\n",
            "Epoch 7, Loss: 0.3424961268901825, Accuracy: 0.75\n",
            "Epoch 7, Loss: 0.45976510643959045, Accuracy: 0.65625\n",
            "Epoch 7, Loss: 0.4299694299697876, Accuracy: 0.65625\n",
            "Epoch 7, Loss: 0.35992178320884705, Accuracy: 0.71875\n",
            "Epoch 7, Loss: 0.4029915928840637, Accuracy: 0.59375\n",
            "Epoch 7, Loss: 0.33177152276039124, Accuracy: 0.78125\n",
            "Epoch 7, Loss: 0.5401852130889893, Accuracy: 0.65625\n",
            "Epoch 7, Loss: 0.43142926692962646, Accuracy: 0.625\n",
            "Epoch 7, Loss: 0.44471609592437744, Accuracy: 0.71875\n",
            "Epoch 7, Loss: 0.328460156917572, Accuracy: 0.78125\n",
            "Epoch 7, Loss: 0.3109232783317566, Accuracy: 0.71875\n",
            "Epoch 7, Loss: 0.3182944655418396, Accuracy: 0.8125\n",
            "Epoch 7, Loss: 0.3626203238964081, Accuracy: 0.8125\n",
            "Epoch 7, Loss: 0.25783467292785645, Accuracy: 0.8125\n",
            "Epoch 7, Loss: 0.30938971042633057, Accuracy: 0.8125\n",
            "Epoch 7, Loss: 0.4233490526676178, Accuracy: 0.6666666865348816\n",
            " 3/12 [======>.......................] - ETA: 0s - loss: 0.8796 - accuracy: 0.6667"
          ]
        },
        {
          "name": "stderr",
          "output_type": "stream",
          "text": [
            "2024-05-05 05:40:41.121005: W tensorflow/core/framework/local_rendezvous.cc:404] Local rendezvous is aborting with status: OUT_OF_RANGE: End of sequence\n"
          ]
        },
        {
          "name": "stdout",
          "output_type": "stream",
          "text": [
            "12/12 [==============================] - 1s 42ms/step - loss: 0.8813 - accuracy: 0.6730\n",
            "Epoch 8, Loss: 0.4223456382751465, Accuracy: 0.71875\n",
            "Epoch 8, Loss: 0.4457181990146637, Accuracy: 0.75\n",
            "Epoch 8, Loss: 0.366283655166626, Accuracy: 0.75\n",
            "Epoch 8, Loss: 0.45932748913764954, Accuracy: 0.59375\n",
            "Epoch 8, Loss: 0.36214447021484375, Accuracy: 0.75\n",
            "Epoch 8, Loss: 0.3175206780433655, Accuracy: 0.78125\n",
            "Epoch 8, Loss: 0.6178097128868103, Accuracy: 0.59375\n",
            "Epoch 8, Loss: 0.3840939402580261, Accuracy: 0.65625\n",
            "Epoch 8, Loss: 0.32937347888946533, Accuracy: 0.78125\n",
            "Epoch 8, Loss: 0.4298515021800995, Accuracy: 0.65625\n",
            "Epoch 8, Loss: 0.3603955805301666, Accuracy: 0.71875\n",
            "Epoch 8, Loss: 0.44765180349349976, Accuracy: 0.6875\n",
            "Epoch 8, Loss: 0.30097371339797974, Accuracy: 0.84375\n",
            "Epoch 8, Loss: 0.3129979968070984, Accuracy: 0.875\n",
            "Epoch 8, Loss: 0.3666364550590515, Accuracy: 0.6875\n",
            "Epoch 8, Loss: 0.41827934980392456, Accuracy: 0.71875\n",
            "Epoch 8, Loss: 0.38210949301719666, Accuracy: 0.71875\n",
            "Epoch 8, Loss: 0.31803610920906067, Accuracy: 0.78125\n",
            "Epoch 8, Loss: 0.3967263996601105, Accuracy: 0.625\n",
            "Epoch 8, Loss: 0.3599916696548462, Accuracy: 0.78125\n",
            "Epoch 8, Loss: 0.5220381617546082, Accuracy: 0.65625\n",
            "Epoch 8, Loss: 0.46211931109428406, Accuracy: 0.625\n",
            "Epoch 8, Loss: 0.3686993420124054, Accuracy: 0.75\n",
            "Epoch 8, Loss: 0.4181053638458252, Accuracy: 0.6875\n",
            "Epoch 8, Loss: 0.3426952064037323, Accuracy: 0.78125\n",
            "Epoch 8, Loss: 0.37700700759887695, Accuracy: 0.78125\n",
            "Epoch 8, Loss: 0.4129958748817444, Accuracy: 0.75\n",
            "Epoch 8, Loss: 0.35954537987709045, Accuracy: 0.75\n",
            "Epoch 8, Loss: 0.3091731369495392, Accuracy: 0.78125\n",
            "Epoch 8, Loss: 0.5213844180107117, Accuracy: 0.6875\n",
            "Epoch 8, Loss: 0.4557781517505646, Accuracy: 0.625\n",
            "Epoch 8, Loss: 0.41107961535453796, Accuracy: 0.75\n",
            "Epoch 8, Loss: 0.49203798174858093, Accuracy: 0.5625\n",
            "Epoch 8, Loss: 0.5151795148849487, Accuracy: 0.59375\n",
            "Epoch 8, Loss: 0.36800751090049744, Accuracy: 0.6875\n",
            "Epoch 8, Loss: 0.5832270383834839, Accuracy: 0.59375\n",
            "Epoch 8, Loss: 0.3314374089241028, Accuracy: 0.6875\n",
            "Epoch 8, Loss: 0.36329564452171326, Accuracy: 0.6875\n",
            "Epoch 8, Loss: 0.42050063610076904, Accuracy: 0.65625\n",
            "Epoch 8, Loss: 0.44544050097465515, Accuracy: 0.625\n",
            "Epoch 8, Loss: 0.34070220589637756, Accuracy: 0.75\n",
            "Epoch 8, Loss: 0.46591800451278687, Accuracy: 0.625\n",
            "Epoch 8, Loss: 0.38131436705589294, Accuracy: 0.75\n",
            "Epoch 8, Loss: 0.33460062742233276, Accuracy: 0.75\n",
            "Epoch 8, Loss: 0.32885414361953735, Accuracy: 0.75\n",
            "Epoch 8, Loss: 0.33530718088150024, Accuracy: 0.78125\n",
            "Epoch 8, Loss: 0.31980642676353455, Accuracy: 0.8125\n",
            "Epoch 8, Loss: 0.28203728795051575, Accuracy: 0.75\n",
            "Epoch 8, Loss: 0.4006175100803375, Accuracy: 0.65625\n",
            "Epoch 8, Loss: 0.4264664649963379, Accuracy: 0.71875\n",
            "Epoch 8, Loss: 0.4347057342529297, Accuracy: 0.5625\n",
            "Epoch 8, Loss: 0.3966185450553894, Accuracy: 0.71875\n",
            "Epoch 8, Loss: 0.3952777683734894, Accuracy: 0.71875\n",
            "Epoch 8, Loss: 0.4148412048816681, Accuracy: 0.71875\n",
            "Epoch 8, Loss: 0.31141722202301025, Accuracy: 0.78125\n",
            "Epoch 8, Loss: 0.36890777945518494, Accuracy: 0.8125\n",
            "Epoch 8, Loss: 0.3720698654651642, Accuracy: 0.71875\n",
            "Epoch 8, Loss: 0.40429365634918213, Accuracy: 0.625\n",
            "Epoch 8, Loss: 0.3397351801395416, Accuracy: 0.75\n",
            "Epoch 8, Loss: 0.45461541414260864, Accuracy: 0.6875\n",
            "Epoch 8, Loss: 0.298613965511322, Accuracy: 0.8125\n",
            "Epoch 8, Loss: 0.3381030857563019, Accuracy: 0.71875\n",
            "Epoch 8, Loss: 0.3029431402683258, Accuracy: 0.75\n",
            "Epoch 8, Loss: 0.4822480082511902, Accuracy: 0.625\n",
            "Epoch 8, Loss: 0.30880963802337646, Accuracy: 0.8125\n",
            "Epoch 8, Loss: 0.32409873604774475, Accuracy: 0.78125\n",
            "Epoch 8, Loss: 0.46930328011512756, Accuracy: 0.65625\n",
            "Epoch 8, Loss: 0.5449065566062927, Accuracy: 0.59375\n",
            "Epoch 8, Loss: 0.42534929513931274, Accuracy: 0.65625\n",
            "Epoch 8, Loss: 0.3163081407546997, Accuracy: 0.78125\n",
            "Epoch 8, Loss: 0.4170667827129364, Accuracy: 0.6875\n",
            "Epoch 8, Loss: 0.3263288736343384, Accuracy: 0.8125\n",
            "Epoch 8, Loss: 0.43835169076919556, Accuracy: 0.65625\n",
            "Epoch 8, Loss: 0.32891184091567993, Accuracy: 0.8125\n",
            "Epoch 8, Loss: 0.35631218552589417, Accuracy: 0.75\n",
            "Epoch 8, Loss: 0.4666181802749634, Accuracy: 0.5625\n",
            "Epoch 8, Loss: 0.3403204381465912, Accuracy: 0.75\n",
            "Epoch 8, Loss: 0.4316565990447998, Accuracy: 0.6875\n",
            "Epoch 8, Loss: 0.4200652539730072, Accuracy: 0.6875\n",
            "Epoch 8, Loss: 0.3484274446964264, Accuracy: 0.75\n",
            "Epoch 8, Loss: 0.39787033200263977, Accuracy: 0.6875\n",
            "Epoch 8, Loss: 0.32507088780403137, Accuracy: 0.75\n",
            "Epoch 8, Loss: 0.5287742614746094, Accuracy: 0.65625\n",
            "Epoch 8, Loss: 0.42348411679267883, Accuracy: 0.65625\n",
            "Epoch 8, Loss: 0.4365863502025604, Accuracy: 0.6875\n",
            "Epoch 8, Loss: 0.31615543365478516, Accuracy: 0.8125\n",
            "Epoch 8, Loss: 0.3008442223072052, Accuracy: 0.71875\n",
            "Epoch 8, Loss: 0.3104865550994873, Accuracy: 0.84375\n",
            "Epoch 8, Loss: 0.3446553945541382, Accuracy: 0.78125\n",
            "Epoch 8, Loss: 0.2485082447528839, Accuracy: 0.8125\n",
            "Epoch 8, Loss: 0.2969209849834442, Accuracy: 0.78125\n",
            "Epoch 8, Loss: 0.41161853075027466, Accuracy: 0.6666666865348816\n",
            " 3/12 [======>.......................] - ETA: 0s - loss: 0.7740 - accuracy: 0.7188"
          ]
        },
        {
          "name": "stderr",
          "output_type": "stream",
          "text": [
            "2024-05-05 05:41:53.175196: W tensorflow/core/framework/local_rendezvous.cc:404] Local rendezvous is aborting with status: OUT_OF_RANGE: End of sequence\n"
          ]
        },
        {
          "name": "stdout",
          "output_type": "stream",
          "text": [
            "12/12 [==============================] - 1s 42ms/step - loss: 0.8020 - accuracy: 0.7084\n",
            "Epoch 9, Loss: 0.4149833917617798, Accuracy: 0.71875\n",
            "Epoch 9, Loss: 0.4340890049934387, Accuracy: 0.75\n",
            "Epoch 9, Loss: 0.3559873104095459, Accuracy: 0.75\n",
            "Epoch 9, Loss: 0.444193959236145, Accuracy: 0.625\n",
            "Epoch 9, Loss: 0.36540722846984863, Accuracy: 0.75\n",
            "Epoch 9, Loss: 0.3187343180179596, Accuracy: 0.75\n",
            "Epoch 9, Loss: 0.5968253016471863, Accuracy: 0.59375\n",
            "Epoch 9, Loss: 0.37346574664115906, Accuracy: 0.6875\n",
            "Epoch 9, Loss: 0.32256147265434265, Accuracy: 0.78125\n",
            "Epoch 9, Loss: 0.4010361135005951, Accuracy: 0.6875\n",
            "Epoch 9, Loss: 0.3382178544998169, Accuracy: 0.78125\n",
            "Epoch 9, Loss: 0.4193984866142273, Accuracy: 0.65625\n",
            "Epoch 9, Loss: 0.28666770458221436, Accuracy: 0.84375\n",
            "Epoch 9, Loss: 0.30218014121055603, Accuracy: 0.84375\n",
            "Epoch 9, Loss: 0.3638709485530853, Accuracy: 0.59375\n",
            "Epoch 9, Loss: 0.3990125060081482, Accuracy: 0.75\n",
            "Epoch 9, Loss: 0.3803146779537201, Accuracy: 0.75\n",
            "Epoch 9, Loss: 0.30104508996009827, Accuracy: 0.84375\n",
            "Epoch 9, Loss: 0.3855799436569214, Accuracy: 0.65625\n",
            "Epoch 9, Loss: 0.35843992233276367, Accuracy: 0.6875\n",
            "Epoch 9, Loss: 0.5108717679977417, Accuracy: 0.65625\n",
            "Epoch 9, Loss: 0.4409334063529968, Accuracy: 0.6875\n",
            "Epoch 9, Loss: 0.3636808395385742, Accuracy: 0.75\n",
            "Epoch 9, Loss: 0.38908591866493225, Accuracy: 0.6875\n",
            "Epoch 9, Loss: 0.33298489451408386, Accuracy: 0.8125\n",
            "Epoch 9, Loss: 0.36117878556251526, Accuracy: 0.71875\n",
            "Epoch 9, Loss: 0.40085625648498535, Accuracy: 0.71875\n",
            "Epoch 9, Loss: 0.33643966913223267, Accuracy: 0.75\n",
            "Epoch 9, Loss: 0.3028884530067444, Accuracy: 0.78125\n",
            "Epoch 9, Loss: 0.49719172716140747, Accuracy: 0.71875\n",
            "Epoch 9, Loss: 0.444424033164978, Accuracy: 0.65625\n",
            "Epoch 9, Loss: 0.39156344532966614, Accuracy: 0.75\n",
            "Epoch 9, Loss: 0.4844118058681488, Accuracy: 0.53125\n",
            "Epoch 9, Loss: 0.4801824986934662, Accuracy: 0.59375\n",
            "Epoch 9, Loss: 0.3591926395893097, Accuracy: 0.71875\n",
            "Epoch 9, Loss: 0.5748035907745361, Accuracy: 0.59375\n",
            "Epoch 9, Loss: 0.3130176365375519, Accuracy: 0.6875\n",
            "Epoch 9, Loss: 0.3605894446372986, Accuracy: 0.71875\n",
            "Epoch 9, Loss: 0.4137984812259674, Accuracy: 0.65625\n",
            "Epoch 9, Loss: 0.43999987840652466, Accuracy: 0.65625\n",
            "Epoch 9, Loss: 0.3281997740268707, Accuracy: 0.71875\n",
            "Epoch 9, Loss: 0.44188424944877625, Accuracy: 0.6875\n",
            "Epoch 9, Loss: 0.3735235035419464, Accuracy: 0.6875\n",
            "Epoch 9, Loss: 0.3038574457168579, Accuracy: 0.8125\n",
            "Epoch 9, Loss: 0.3249403238296509, Accuracy: 0.78125\n",
            "Epoch 9, Loss: 0.3275318741798401, Accuracy: 0.78125\n",
            "Epoch 9, Loss: 0.30228179693222046, Accuracy: 0.84375\n",
            "Epoch 9, Loss: 0.27650099992752075, Accuracy: 0.78125\n",
            "Epoch 9, Loss: 0.38410094380378723, Accuracy: 0.65625\n",
            "Epoch 9, Loss: 0.41123026609420776, Accuracy: 0.71875\n",
            "Epoch 9, Loss: 0.42447999119758606, Accuracy: 0.6875\n",
            "Epoch 9, Loss: 0.3769798278808594, Accuracy: 0.71875\n",
            "Epoch 9, Loss: 0.37953251600265503, Accuracy: 0.71875\n",
            "Epoch 9, Loss: 0.40405672788619995, Accuracy: 0.71875\n",
            "Epoch 9, Loss: 0.29653820395469666, Accuracy: 0.78125\n",
            "Epoch 9, Loss: 0.35412412881851196, Accuracy: 0.8125\n",
            "Epoch 9, Loss: 0.35803815722465515, Accuracy: 0.6875\n",
            "Epoch 9, Loss: 0.3935724198818207, Accuracy: 0.625\n",
            "Epoch 9, Loss: 0.3314172029495239, Accuracy: 0.75\n",
            "Epoch 9, Loss: 0.44985631108283997, Accuracy: 0.59375\n",
            "Epoch 9, Loss: 0.2881750464439392, Accuracy: 0.8125\n",
            "Epoch 9, Loss: 0.3174569606781006, Accuracy: 0.75\n",
            "Epoch 9, Loss: 0.2967692017555237, Accuracy: 0.8125\n",
            "Epoch 9, Loss: 0.47541096806526184, Accuracy: 0.625\n",
            "Epoch 9, Loss: 0.2930149734020233, Accuracy: 0.8125\n",
            "Epoch 9, Loss: 0.315541535615921, Accuracy: 0.8125\n",
            "Epoch 9, Loss: 0.46772652864456177, Accuracy: 0.625\n",
            "Epoch 9, Loss: 0.5320382118225098, Accuracy: 0.59375\n",
            "Epoch 9, Loss: 0.4126545786857605, Accuracy: 0.65625\n",
            "Epoch 9, Loss: 0.31073305010795593, Accuracy: 0.78125\n",
            "Epoch 9, Loss: 0.42495498061180115, Accuracy: 0.6875\n",
            "Epoch 9, Loss: 0.315403550863266, Accuracy: 0.78125\n",
            "Epoch 9, Loss: 0.4321998059749603, Accuracy: 0.65625\n",
            "Epoch 9, Loss: 0.3143423795700073, Accuracy: 0.84375\n",
            "Epoch 9, Loss: 0.33659011125564575, Accuracy: 0.75\n",
            "Epoch 9, Loss: 0.45707592368125916, Accuracy: 0.5625\n",
            "Epoch 9, Loss: 0.32254284620285034, Accuracy: 0.78125\n",
            "Epoch 9, Loss: 0.42099300026893616, Accuracy: 0.6875\n",
            "Epoch 9, Loss: 0.40884676575660706, Accuracy: 0.6875\n",
            "Epoch 9, Loss: 0.33804166316986084, Accuracy: 0.75\n",
            "Epoch 9, Loss: 0.38936856389045715, Accuracy: 0.65625\n",
            "Epoch 9, Loss: 0.3128886818885803, Accuracy: 0.71875\n",
            "Epoch 9, Loss: 0.5213068127632141, Accuracy: 0.65625\n",
            "Epoch 9, Loss: 0.41155678033828735, Accuracy: 0.65625\n",
            "Epoch 9, Loss: 0.4285944998264313, Accuracy: 0.71875\n",
            "Epoch 9, Loss: 0.30871105194091797, Accuracy: 0.8125\n",
            "Epoch 9, Loss: 0.297027051448822, Accuracy: 0.71875\n",
            "Epoch 9, Loss: 0.29890182614326477, Accuracy: 0.84375\n",
            "Epoch 9, Loss: 0.3340666890144348, Accuracy: 0.78125\n",
            "Epoch 9, Loss: 0.2401125729084015, Accuracy: 0.84375\n",
            "Epoch 9, Loss: 0.29134586453437805, Accuracy: 0.78125\n",
            "Epoch 9, Loss: 0.4049597680568695, Accuracy: 0.6666666865348816\n",
            " 3/12 [======>.......................] - ETA: 0s - loss: 0.8533 - accuracy: 0.6875"
          ]
        },
        {
          "name": "stderr",
          "output_type": "stream",
          "text": [
            "2024-05-05 05:43:04.791461: W tensorflow/core/framework/local_rendezvous.cc:404] Local rendezvous is aborting with status: OUT_OF_RANGE: End of sequence\n"
          ]
        },
        {
          "name": "stdout",
          "output_type": "stream",
          "text": [
            "12/12 [==============================] - 1s 45ms/step - loss: 0.8592 - accuracy: 0.6921\n",
            "Epoch 10, Loss: 0.3994854986667633, Accuracy: 0.71875\n",
            "Epoch 10, Loss: 0.4233776330947876, Accuracy: 0.71875\n",
            "Epoch 10, Loss: 0.34463202953338623, Accuracy: 0.75\n",
            "Epoch 10, Loss: 0.43779245018959045, Accuracy: 0.625\n",
            "Epoch 10, Loss: 0.3542065918445587, Accuracy: 0.75\n",
            "Epoch 10, Loss: 0.3047502338886261, Accuracy: 0.75\n",
            "Epoch 10, Loss: 0.5818681120872498, Accuracy: 0.59375\n",
            "Epoch 10, Loss: 0.3674883246421814, Accuracy: 0.6875\n",
            "Epoch 10, Loss: 0.32146891951560974, Accuracy: 0.78125\n",
            "Epoch 10, Loss: 0.3912312984466553, Accuracy: 0.6875\n",
            "Epoch 10, Loss: 0.3330819308757782, Accuracy: 0.78125\n",
            "Epoch 10, Loss: 0.4187283515930176, Accuracy: 0.65625\n",
            "Epoch 10, Loss: 0.2790704071521759, Accuracy: 0.84375\n",
            "Epoch 10, Loss: 0.2945185601711273, Accuracy: 0.84375\n",
            "Epoch 10, Loss: 0.358066201210022, Accuracy: 0.65625\n",
            "Epoch 10, Loss: 0.39244285225868225, Accuracy: 0.75\n",
            "Epoch 10, Loss: 0.3612838387489319, Accuracy: 0.78125\n",
            "Epoch 10, Loss: 0.2885555028915405, Accuracy: 0.78125\n",
            "Epoch 10, Loss: 0.38037484884262085, Accuracy: 0.65625\n",
            "Epoch 10, Loss: 0.3455184996128082, Accuracy: 0.78125\n",
            "Epoch 10, Loss: 0.5017537474632263, Accuracy: 0.6875\n",
            "Epoch 10, Loss: 0.4266355037689209, Accuracy: 0.71875\n",
            "Epoch 10, Loss: 0.3596261143684387, Accuracy: 0.75\n",
            "Epoch 10, Loss: 0.3843000531196594, Accuracy: 0.6875\n",
            "Epoch 10, Loss: 0.3159150183200836, Accuracy: 0.78125\n",
            "Epoch 10, Loss: 0.35240769386291504, Accuracy: 0.75\n",
            "Epoch 10, Loss: 0.38007640838623047, Accuracy: 0.78125\n",
            "Epoch 10, Loss: 0.3253982961177826, Accuracy: 0.75\n",
            "Epoch 10, Loss: 0.29615259170532227, Accuracy: 0.78125\n",
            "Epoch 10, Loss: 0.47610345482826233, Accuracy: 0.75\n",
            "Epoch 10, Loss: 0.4283379912376404, Accuracy: 0.6875\n",
            "Epoch 10, Loss: 0.38598448038101196, Accuracy: 0.75\n",
            "Epoch 10, Loss: 0.45968666672706604, Accuracy: 0.53125\n",
            "Epoch 10, Loss: 0.46992409229278564, Accuracy: 0.59375\n",
            "Epoch 10, Loss: 0.3527025282382965, Accuracy: 0.71875\n",
            "Epoch 10, Loss: 0.5739269256591797, Accuracy: 0.59375\n",
            "Epoch 10, Loss: 0.3083321750164032, Accuracy: 0.71875\n",
            "Epoch 10, Loss: 0.3639698028564453, Accuracy: 0.71875\n",
            "Epoch 10, Loss: 0.40863075852394104, Accuracy: 0.65625\n",
            "Epoch 10, Loss: 0.41983330249786377, Accuracy: 0.65625\n",
            "Epoch 10, Loss: 0.32459110021591187, Accuracy: 0.71875\n",
            "Epoch 10, Loss: 0.4240444600582123, Accuracy: 0.6875\n",
            "Epoch 10, Loss: 0.3692425787448883, Accuracy: 0.6875\n",
            "Epoch 10, Loss: 0.2895403206348419, Accuracy: 0.8125\n",
            "Epoch 10, Loss: 0.3124564588069916, Accuracy: 0.8125\n",
            "Epoch 10, Loss: 0.3131425678730011, Accuracy: 0.78125\n",
            "Epoch 10, Loss: 0.2986561954021454, Accuracy: 0.84375\n",
            "Epoch 10, Loss: 0.25836899876594543, Accuracy: 0.8125\n",
            "Epoch 10, Loss: 0.3659304976463318, Accuracy: 0.65625\n",
            "Epoch 10, Loss: 0.39187464118003845, Accuracy: 0.6875\n",
            "Epoch 10, Loss: 0.4114032983779907, Accuracy: 0.6875\n",
            "Epoch 10, Loss: 0.35950663685798645, Accuracy: 0.71875\n",
            "Epoch 10, Loss: 0.37769192457199097, Accuracy: 0.71875\n",
            "Epoch 10, Loss: 0.3948068916797638, Accuracy: 0.71875\n",
            "Epoch 10, Loss: 0.28741955757141113, Accuracy: 0.8125\n",
            "Epoch 10, Loss: 0.3443049490451813, Accuracy: 0.8125\n",
            "Epoch 10, Loss: 0.3458194136619568, Accuracy: 0.75\n",
            "Epoch 10, Loss: 0.39015743136405945, Accuracy: 0.65625\n",
            "Epoch 10, Loss: 0.3193526864051819, Accuracy: 0.75\n",
            "Epoch 10, Loss: 0.44525638222694397, Accuracy: 0.59375\n",
            "Epoch 10, Loss: 0.27749183773994446, Accuracy: 0.8125\n",
            "Epoch 10, Loss: 0.3065107464790344, Accuracy: 0.75\n",
            "Epoch 10, Loss: 0.2897774279117584, Accuracy: 0.75\n",
            "Epoch 10, Loss: 0.4700697064399719, Accuracy: 0.625\n",
            "Epoch 10, Loss: 0.2793009579181671, Accuracy: 0.8125\n",
            "Epoch 10, Loss: 0.31330475211143494, Accuracy: 0.8125\n",
            "Epoch 10, Loss: 0.452335000038147, Accuracy: 0.65625\n",
            "Epoch 10, Loss: 0.5166037678718567, Accuracy: 0.59375\n",
            "Epoch 10, Loss: 0.4013451039791107, Accuracy: 0.6875\n",
            "Epoch 10, Loss: 0.30873236060142517, Accuracy: 0.78125\n",
            "Epoch 10, Loss: 0.43015164136886597, Accuracy: 0.71875\n",
            "Epoch 10, Loss: 0.312425822019577, Accuracy: 0.78125\n",
            "Epoch 10, Loss: 0.424682080745697, Accuracy: 0.65625\n",
            "Epoch 10, Loss: 0.30531537532806396, Accuracy: 0.84375\n",
            "Epoch 10, Loss: 0.32771357893943787, Accuracy: 0.8125\n",
            "Epoch 10, Loss: 0.454054057598114, Accuracy: 0.5625\n",
            "Epoch 10, Loss: 0.30070775747299194, Accuracy: 0.8125\n",
            "Epoch 10, Loss: 0.406063973903656, Accuracy: 0.71875\n",
            "Epoch 10, Loss: 0.4015837013721466, Accuracy: 0.6875\n",
            "Epoch 10, Loss: 0.32846230268478394, Accuracy: 0.75\n",
            "Epoch 10, Loss: 0.37299269437789917, Accuracy: 0.6875\n",
            "Epoch 10, Loss: 0.3075939416885376, Accuracy: 0.71875\n",
            "Epoch 10, Loss: 0.5182322859764099, Accuracy: 0.6875\n",
            "Epoch 10, Loss: 0.40440917015075684, Accuracy: 0.65625\n",
            "Epoch 10, Loss: 0.42422205209732056, Accuracy: 0.71875\n",
            "Epoch 10, Loss: 0.299167662858963, Accuracy: 0.8125\n",
            "Epoch 10, Loss: 0.2879749834537506, Accuracy: 0.71875\n",
            "Epoch 10, Loss: 0.29033392667770386, Accuracy: 0.84375\n",
            "Epoch 10, Loss: 0.32091429829597473, Accuracy: 0.78125\n",
            "Epoch 10, Loss: 0.2313200980424881, Accuracy: 0.875\n",
            "Epoch 10, Loss: 0.2872839868068695, Accuracy: 0.78125\n",
            "Epoch 10, Loss: 0.401359885931015, Accuracy: 0.6666666865348816\n",
            " 3/12 [======>.......................] - ETA: 0s - loss: 0.7846 - accuracy: 0.7188"
          ]
        },
        {
          "name": "stderr",
          "output_type": "stream",
          "text": [
            "2024-05-05 05:44:16.366124: W tensorflow/core/framework/local_rendezvous.cc:404] Local rendezvous is aborting with status: OUT_OF_RANGE: End of sequence\n"
          ]
        },
        {
          "name": "stdout",
          "output_type": "stream",
          "text": [
            "12/12 [==============================] - 1s 41ms/step - loss: 0.7915 - accuracy: 0.7248\n",
            "Epoch 11, Loss: 0.392600417137146, Accuracy: 0.71875\n",
            "Epoch 11, Loss: 0.414715975522995, Accuracy: 0.71875\n",
            "Epoch 11, Loss: 0.33166569471359253, Accuracy: 0.78125\n",
            "Epoch 11, Loss: 0.43510904908180237, Accuracy: 0.625\n",
            "Epoch 11, Loss: 0.3461514115333557, Accuracy: 0.75\n",
            "Epoch 11, Loss: 0.2906706929206848, Accuracy: 0.78125\n",
            "Epoch 11, Loss: 0.5763350129127502, Accuracy: 0.59375\n",
            "Epoch 11, Loss: 0.35930630564689636, Accuracy: 0.6875\n",
            "Epoch 11, Loss: 0.32005807757377625, Accuracy: 0.78125\n",
            "Epoch 11, Loss: 0.38739103078842163, Accuracy: 0.6875\n",
            "Epoch 11, Loss: 0.3220944106578827, Accuracy: 0.78125\n",
            "Epoch 11, Loss: 0.4083987772464752, Accuracy: 0.71875\n",
            "Epoch 11, Loss: 0.27264732122421265, Accuracy: 0.90625\n",
            "Epoch 11, Loss: 0.29070979356765747, Accuracy: 0.84375\n",
            "Epoch 11, Loss: 0.34631484746932983, Accuracy: 0.71875\n",
            "Epoch 11, Loss: 0.39528360962867737, Accuracy: 0.75\n",
            "Epoch 11, Loss: 0.35827115178108215, Accuracy: 0.78125\n",
            "Epoch 11, Loss: 0.2801738381385803, Accuracy: 0.8125\n",
            "Epoch 11, Loss: 0.37166735529899597, Accuracy: 0.6875\n",
            "Epoch 11, Loss: 0.34001150727272034, Accuracy: 0.75\n",
            "Epoch 11, Loss: 0.5066275596618652, Accuracy: 0.6875\n",
            "Epoch 11, Loss: 0.41989636421203613, Accuracy: 0.71875\n",
            "Epoch 11, Loss: 0.3583556115627289, Accuracy: 0.75\n",
            "Epoch 11, Loss: 0.3861440420150757, Accuracy: 0.6875\n",
            "Epoch 11, Loss: 0.30575209856033325, Accuracy: 0.78125\n",
            "Epoch 11, Loss: 0.3475090563297272, Accuracy: 0.75\n",
            "Epoch 11, Loss: 0.3684256076812744, Accuracy: 0.8125\n",
            "Epoch 11, Loss: 0.3122498095035553, Accuracy: 0.75\n",
            "Epoch 11, Loss: 0.2967912256717682, Accuracy: 0.75\n",
            "Epoch 11, Loss: 0.46476510167121887, Accuracy: 0.78125\n",
            "Epoch 11, Loss: 0.4188312292098999, Accuracy: 0.6875\n",
            "Epoch 11, Loss: 0.38743501901626587, Accuracy: 0.75\n",
            "Epoch 11, Loss: 0.4400453269481659, Accuracy: 0.5625\n",
            "Epoch 11, Loss: 0.457821249961853, Accuracy: 0.5625\n",
            "Epoch 11, Loss: 0.34913259744644165, Accuracy: 0.71875\n",
            "Epoch 11, Loss: 0.5673226714134216, Accuracy: 0.625\n",
            "Epoch 11, Loss: 0.3077174723148346, Accuracy: 0.6875\n",
            "Epoch 11, Loss: 0.36585739254951477, Accuracy: 0.71875\n",
            "Epoch 11, Loss: 0.3987584412097931, Accuracy: 0.6875\n",
            "Epoch 11, Loss: 0.4099447429180145, Accuracy: 0.625\n",
            "Epoch 11, Loss: 0.3219801187515259, Accuracy: 0.78125\n",
            "Epoch 11, Loss: 0.4164215326309204, Accuracy: 0.6875\n",
            "Epoch 11, Loss: 0.37011605501174927, Accuracy: 0.75\n",
            "Epoch 11, Loss: 0.28526633977890015, Accuracy: 0.8125\n",
            "Epoch 11, Loss: 0.30391213297843933, Accuracy: 0.8125\n",
            "Epoch 11, Loss: 0.3029969036579132, Accuracy: 0.78125\n",
            "Epoch 11, Loss: 0.2961564064025879, Accuracy: 0.84375\n",
            "Epoch 11, Loss: 0.25009337067604065, Accuracy: 0.8125\n",
            "Epoch 11, Loss: 0.3558104336261749, Accuracy: 0.65625\n",
            "Epoch 11, Loss: 0.39467158913612366, Accuracy: 0.71875\n",
            "Epoch 11, Loss: 0.4051564633846283, Accuracy: 0.6875\n",
            "Epoch 11, Loss: 0.35120221972465515, Accuracy: 0.71875\n",
            "Epoch 11, Loss: 0.375298410654068, Accuracy: 0.71875\n",
            "Epoch 11, Loss: 0.3834459185600281, Accuracy: 0.75\n",
            "Epoch 11, Loss: 0.27667364478111267, Accuracy: 0.8125\n",
            "Epoch 11, Loss: 0.3349420428276062, Accuracy: 0.8125\n",
            "Epoch 11, Loss: 0.3367883861064911, Accuracy: 0.75\n",
            "Epoch 11, Loss: 0.38478517532348633, Accuracy: 0.6875\n",
            "Epoch 11, Loss: 0.31473106145858765, Accuracy: 0.75\n",
            "Epoch 11, Loss: 0.4368838667869568, Accuracy: 0.625\n",
            "Epoch 11, Loss: 0.269996702671051, Accuracy: 0.8125\n",
            "Epoch 11, Loss: 0.2970319390296936, Accuracy: 0.75\n",
            "Epoch 11, Loss: 0.2827353775501251, Accuracy: 0.75\n",
            "Epoch 11, Loss: 0.46112489700317383, Accuracy: 0.625\n",
            "Epoch 11, Loss: 0.26869675517082214, Accuracy: 0.8125\n",
            "Epoch 11, Loss: 0.3121638894081116, Accuracy: 0.8125\n",
            "Epoch 11, Loss: 0.4343598186969757, Accuracy: 0.71875\n",
            "Epoch 11, Loss: 0.5011152625083923, Accuracy: 0.59375\n",
            "Epoch 11, Loss: 0.4018607437610626, Accuracy: 0.71875\n",
            "Epoch 11, Loss: 0.30888399481773376, Accuracy: 0.8125\n",
            "Epoch 11, Loss: 0.43564197421073914, Accuracy: 0.71875\n",
            "Epoch 11, Loss: 0.315014511346817, Accuracy: 0.78125\n",
            "Epoch 11, Loss: 0.4181249737739563, Accuracy: 0.65625\n",
            "Epoch 11, Loss: 0.2928493320941925, Accuracy: 0.84375\n",
            "Epoch 11, Loss: 0.32126814126968384, Accuracy: 0.78125\n",
            "Epoch 11, Loss: 0.4432884156703949, Accuracy: 0.59375\n",
            "Epoch 11, Loss: 0.28298431634902954, Accuracy: 0.84375\n",
            "Epoch 11, Loss: 0.3933545649051666, Accuracy: 0.75\n",
            "Epoch 11, Loss: 0.3969084620475769, Accuracy: 0.6875\n",
            "Epoch 11, Loss: 0.31970471143722534, Accuracy: 0.78125\n",
            "Epoch 11, Loss: 0.3640492856502533, Accuracy: 0.6875\n",
            "Epoch 11, Loss: 0.313238263130188, Accuracy: 0.75\n",
            "Epoch 11, Loss: 0.5222501158714294, Accuracy: 0.65625\n",
            "Epoch 11, Loss: 0.4012112021446228, Accuracy: 0.6875\n",
            "Epoch 11, Loss: 0.4239213764667511, Accuracy: 0.75\n",
            "Epoch 11, Loss: 0.2811966836452484, Accuracy: 0.8125\n",
            "Epoch 11, Loss: 0.2779105305671692, Accuracy: 0.71875\n",
            "Epoch 11, Loss: 0.2909875512123108, Accuracy: 0.8125\n",
            "Epoch 11, Loss: 0.306915283203125, Accuracy: 0.75\n",
            "Epoch 11, Loss: 0.22875569760799408, Accuracy: 0.84375\n",
            "Epoch 11, Loss: 0.2848818302154541, Accuracy: 0.8125\n",
            "Epoch 11, Loss: 0.3930874466896057, Accuracy: 0.6666666865348816\n",
            " 3/12 [======>.......................] - ETA: 0s - loss: 0.7702 - accuracy: 0.6979"
          ]
        },
        {
          "name": "stderr",
          "output_type": "stream",
          "text": [
            "2024-05-05 05:45:28.408702: W tensorflow/core/framework/local_rendezvous.cc:404] Local rendezvous is aborting with status: OUT_OF_RANGE: End of sequence\n"
          ]
        },
        {
          "name": "stdout",
          "output_type": "stream",
          "text": [
            "12/12 [==============================] - 0s 39ms/step - loss: 0.7849 - accuracy: 0.7112\n",
            "Epoch 12, Loss: 0.3842690885066986, Accuracy: 0.75\n",
            "Epoch 12, Loss: 0.40046119689941406, Accuracy: 0.71875\n",
            "Epoch 12, Loss: 0.31730586290359497, Accuracy: 0.84375\n",
            "Epoch 12, Loss: 0.43231967091560364, Accuracy: 0.6875\n",
            "Epoch 12, Loss: 0.3381064832210541, Accuracy: 0.75\n",
            "Epoch 12, Loss: 0.27928993105888367, Accuracy: 0.78125\n",
            "Epoch 12, Loss: 0.5654667615890503, Accuracy: 0.59375\n",
            "Epoch 12, Loss: 0.35752394795417786, Accuracy: 0.65625\n",
            "Epoch 12, Loss: 0.3257412612438202, Accuracy: 0.78125\n",
            "Epoch 12, Loss: 0.3906956613063812, Accuracy: 0.71875\n",
            "Epoch 12, Loss: 0.3203386664390564, Accuracy: 0.71875\n",
            "Epoch 12, Loss: 0.3955698013305664, Accuracy: 0.75\n",
            "Epoch 12, Loss: 0.28185150027275085, Accuracy: 0.84375\n",
            "Epoch 12, Loss: 0.28893226385116577, Accuracy: 0.8125\n",
            "Epoch 12, Loss: 0.3394423723220825, Accuracy: 0.71875\n",
            "Epoch 12, Loss: 0.3955373764038086, Accuracy: 0.71875\n",
            "Epoch 12, Loss: 0.3530327081680298, Accuracy: 0.75\n",
            "Epoch 12, Loss: 0.27231281995773315, Accuracy: 0.75\n",
            "Epoch 12, Loss: 0.36721304059028625, Accuracy: 0.65625\n",
            "Epoch 12, Loss: 0.33169320225715637, Accuracy: 0.71875\n",
            "Epoch 12, Loss: 0.49237310886383057, Accuracy: 0.6875\n",
            "Epoch 12, Loss: 0.43063902854919434, Accuracy: 0.71875\n",
            "Epoch 12, Loss: 0.3587477505207062, Accuracy: 0.75\n",
            "Epoch 12, Loss: 0.3705310523509979, Accuracy: 0.6875\n",
            "Epoch 12, Loss: 0.28565722703933716, Accuracy: 0.78125\n",
            "Epoch 12, Loss: 0.3449854850769043, Accuracy: 0.75\n",
            "Epoch 12, Loss: 0.3623436987400055, Accuracy: 0.75\n",
            "Epoch 12, Loss: 0.28641411662101746, Accuracy: 0.78125\n",
            "Epoch 12, Loss: 0.3095875680446625, Accuracy: 0.75\n",
            "Epoch 12, Loss: 0.43276187777519226, Accuracy: 0.78125\n",
            "Epoch 12, Loss: 0.4089554250240326, Accuracy: 0.6875\n",
            "Epoch 12, Loss: 0.38080283999443054, Accuracy: 0.78125\n",
            "Epoch 12, Loss: 0.42217782139778137, Accuracy: 0.5625\n",
            "Epoch 12, Loss: 0.45044755935668945, Accuracy: 0.59375\n",
            "Epoch 12, Loss: 0.3610190153121948, Accuracy: 0.71875\n",
            "Epoch 12, Loss: 0.5612806677818298, Accuracy: 0.625\n",
            "Epoch 12, Loss: 0.30677443742752075, Accuracy: 0.6875\n",
            "Epoch 12, Loss: 0.3728775978088379, Accuracy: 0.6875\n",
            "Epoch 12, Loss: 0.40113112330436707, Accuracy: 0.6875\n",
            "Epoch 12, Loss: 0.397457480430603, Accuracy: 0.65625\n",
            "Epoch 12, Loss: 0.312452107667923, Accuracy: 0.78125\n",
            "Epoch 12, Loss: 0.40393543243408203, Accuracy: 0.6875\n",
            "Epoch 12, Loss: 0.3696567118167877, Accuracy: 0.75\n",
            "Epoch 12, Loss: 0.2741573750972748, Accuracy: 0.8125\n",
            "Epoch 12, Loss: 0.2996809780597687, Accuracy: 0.8125\n",
            "Epoch 12, Loss: 0.2992907762527466, Accuracy: 0.78125\n",
            "Epoch 12, Loss: 0.2902938723564148, Accuracy: 0.84375\n",
            "Epoch 12, Loss: 0.24763910472393036, Accuracy: 0.8125\n",
            "Epoch 12, Loss: 0.34805071353912354, Accuracy: 0.65625\n",
            "Epoch 12, Loss: 0.38909396529197693, Accuracy: 0.6875\n",
            "Epoch 12, Loss: 0.4055027961730957, Accuracy: 0.65625\n",
            "Epoch 12, Loss: 0.3443145453929901, Accuracy: 0.71875\n",
            "Epoch 12, Loss: 0.37034210562705994, Accuracy: 0.75\n",
            "Epoch 12, Loss: 0.37485453486442566, Accuracy: 0.78125\n",
            "Epoch 12, Loss: 0.2705641984939575, Accuracy: 0.8125\n",
            "Epoch 12, Loss: 0.3242909908294678, Accuracy: 0.8125\n",
            "Epoch 12, Loss: 0.32346799969673157, Accuracy: 0.75\n",
            "Epoch 12, Loss: 0.382355660200119, Accuracy: 0.6875\n",
            "Epoch 12, Loss: 0.3092816174030304, Accuracy: 0.78125\n",
            "Epoch 12, Loss: 0.42613744735717773, Accuracy: 0.65625\n",
            "Epoch 12, Loss: 0.2646377682685852, Accuracy: 0.8125\n",
            "Epoch 12, Loss: 0.2917405664920807, Accuracy: 0.75\n",
            "Epoch 12, Loss: 0.2700563669204712, Accuracy: 0.75\n",
            "Epoch 12, Loss: 0.45707669854164124, Accuracy: 0.65625\n",
            "Epoch 12, Loss: 0.26250264048576355, Accuracy: 0.8125\n",
            "Epoch 12, Loss: 0.3083684742450714, Accuracy: 0.8125\n",
            "Epoch 12, Loss: 0.4178779423236847, Accuracy: 0.6875\n",
            "Epoch 12, Loss: 0.48923975229263306, Accuracy: 0.625\n",
            "Epoch 12, Loss: 0.39562466740608215, Accuracy: 0.6875\n",
            "Epoch 12, Loss: 0.30824440717697144, Accuracy: 0.78125\n",
            "Epoch 12, Loss: 0.4413626492023468, Accuracy: 0.71875\n",
            "Epoch 12, Loss: 0.3151829242706299, Accuracy: 0.78125\n",
            "Epoch 12, Loss: 0.4126647114753723, Accuracy: 0.65625\n",
            "Epoch 12, Loss: 0.2938452959060669, Accuracy: 0.8125\n",
            "Epoch 12, Loss: 0.3166470527648926, Accuracy: 0.8125\n",
            "Epoch 12, Loss: 0.45081502199172974, Accuracy: 0.5625\n",
            "Epoch 12, Loss: 0.272477388381958, Accuracy: 0.84375\n",
            "Epoch 12, Loss: 0.37828144431114197, Accuracy: 0.78125\n",
            "Epoch 12, Loss: 0.40767526626586914, Accuracy: 0.65625\n",
            "Epoch 12, Loss: 0.31809765100479126, Accuracy: 0.78125\n",
            "Epoch 12, Loss: 0.33377891778945923, Accuracy: 0.6875\n",
            "Epoch 12, Loss: 0.3187180459499359, Accuracy: 0.78125\n",
            "Epoch 12, Loss: 0.5291924476623535, Accuracy: 0.6875\n",
            "Epoch 12, Loss: 0.38712233304977417, Accuracy: 0.65625\n",
            "Epoch 12, Loss: 0.4271024167537689, Accuracy: 0.65625\n",
            "Epoch 12, Loss: 0.2731144428253174, Accuracy: 0.8125\n",
            "Epoch 12, Loss: 0.2671321630477905, Accuracy: 0.71875\n",
            "Epoch 12, Loss: 0.2941818833351135, Accuracy: 0.8125\n",
            "Epoch 12, Loss: 0.3055461049079895, Accuracy: 0.78125\n",
            "Epoch 12, Loss: 0.22633406519889832, Accuracy: 0.84375\n",
            "Epoch 12, Loss: 0.2641388475894928, Accuracy: 0.84375\n",
            "Epoch 12, Loss: 0.3881527781486511, Accuracy: 0.7083333134651184\n",
            " 3/12 [======>.......................] - ETA: 0s - loss: 0.7461 - accuracy: 0.7604"
          ]
        },
        {
          "name": "stderr",
          "output_type": "stream",
          "text": [
            "2024-05-05 05:46:41.302372: W tensorflow/core/framework/local_rendezvous.cc:404] Local rendezvous is aborting with status: OUT_OF_RANGE: End of sequence\n"
          ]
        },
        {
          "name": "stdout",
          "output_type": "stream",
          "text": [
            "12/12 [==============================] - 1s 41ms/step - loss: 0.7876 - accuracy: 0.7275\n",
            "Epoch 13, Loss: 0.36583125591278076, Accuracy: 0.75\n",
            "Epoch 13, Loss: 0.38780513405799866, Accuracy: 0.71875\n",
            "Epoch 13, Loss: 0.3073488771915436, Accuracy: 0.84375\n",
            "Epoch 13, Loss: 0.430991530418396, Accuracy: 0.71875\n",
            "Epoch 13, Loss: 0.3285968005657196, Accuracy: 0.75\n",
            "Epoch 13, Loss: 0.2633826732635498, Accuracy: 0.78125\n",
            "Epoch 13, Loss: 0.5538307428359985, Accuracy: 0.65625\n",
            "Epoch 13, Loss: 0.35093051195144653, Accuracy: 0.6875\n",
            "Epoch 13, Loss: 0.33245518803596497, Accuracy: 0.71875\n",
            "Epoch 13, Loss: 0.37622326612472534, Accuracy: 0.75\n",
            "Epoch 13, Loss: 0.3201957046985626, Accuracy: 0.71875\n",
            "Epoch 13, Loss: 0.3834610879421234, Accuracy: 0.71875\n",
            "Epoch 13, Loss: 0.2708563208580017, Accuracy: 0.90625\n",
            "Epoch 13, Loss: 0.28335338830947876, Accuracy: 0.84375\n",
            "Epoch 13, Loss: 0.33545979857444763, Accuracy: 0.75\n",
            "Epoch 13, Loss: 0.39503929018974304, Accuracy: 0.78125\n",
            "Epoch 13, Loss: 0.3409201502799988, Accuracy: 0.75\n",
            "Epoch 13, Loss: 0.2673628032207489, Accuracy: 0.78125\n",
            "Epoch 13, Loss: 0.36392247676849365, Accuracy: 0.65625\n",
            "Epoch 13, Loss: 0.3271040916442871, Accuracy: 0.71875\n",
            "Epoch 13, Loss: 0.4856102466583252, Accuracy: 0.6875\n",
            "Epoch 13, Loss: 0.41208523511886597, Accuracy: 0.75\n",
            "Epoch 13, Loss: 0.34585583209991455, Accuracy: 0.75\n",
            "Epoch 13, Loss: 0.37818479537963867, Accuracy: 0.6875\n",
            "Epoch 13, Loss: 0.2756853997707367, Accuracy: 0.78125\n",
            "Epoch 13, Loss: 0.3387306332588196, Accuracy: 0.78125\n",
            "Epoch 13, Loss: 0.347103089094162, Accuracy: 0.8125\n",
            "Epoch 13, Loss: 0.27966228127479553, Accuracy: 0.75\n",
            "Epoch 13, Loss: 0.28990113735198975, Accuracy: 0.75\n",
            "Epoch 13, Loss: 0.4180395007133484, Accuracy: 0.8125\n",
            "Epoch 13, Loss: 0.39705121517181396, Accuracy: 0.71875\n",
            "Epoch 13, Loss: 0.37181341648101807, Accuracy: 0.8125\n",
            "Epoch 13, Loss: 0.4029812514781952, Accuracy: 0.5625\n",
            "Epoch 13, Loss: 0.4444572925567627, Accuracy: 0.59375\n",
            "Epoch 13, Loss: 0.35943490266799927, Accuracy: 0.71875\n",
            "Epoch 13, Loss: 0.5398668050765991, Accuracy: 0.625\n",
            "Epoch 13, Loss: 0.3003121316432953, Accuracy: 0.71875\n",
            "Epoch 13, Loss: 0.36494725942611694, Accuracy: 0.71875\n",
            "Epoch 13, Loss: 0.40911227464675903, Accuracy: 0.6875\n",
            "Epoch 13, Loss: 0.3976212739944458, Accuracy: 0.6875\n",
            "Epoch 13, Loss: 0.312566339969635, Accuracy: 0.78125\n",
            "Epoch 13, Loss: 0.39564451575279236, Accuracy: 0.71875\n",
            "Epoch 13, Loss: 0.3583439886569977, Accuracy: 0.78125\n",
            "Epoch 13, Loss: 0.2620873749256134, Accuracy: 0.8125\n",
            "Epoch 13, Loss: 0.2863968312740326, Accuracy: 0.8125\n",
            "Epoch 13, Loss: 0.29530248045921326, Accuracy: 0.78125\n",
            "Epoch 13, Loss: 0.28929072618484497, Accuracy: 0.84375\n",
            "Epoch 13, Loss: 0.24105581641197205, Accuracy: 0.8125\n",
            "Epoch 13, Loss: 0.3407577872276306, Accuracy: 0.65625\n",
            "Epoch 13, Loss: 0.39257997274398804, Accuracy: 0.75\n",
            "Epoch 13, Loss: 0.3887237012386322, Accuracy: 0.65625\n",
            "Epoch 13, Loss: 0.3342548608779907, Accuracy: 0.75\n",
            "Epoch 13, Loss: 0.36683908104896545, Accuracy: 0.71875\n",
            "Epoch 13, Loss: 0.3651481866836548, Accuracy: 0.78125\n",
            "Epoch 13, Loss: 0.26469412446022034, Accuracy: 0.84375\n",
            "Epoch 13, Loss: 0.3185413181781769, Accuracy: 0.8125\n",
            "Epoch 13, Loss: 0.31443077325820923, Accuracy: 0.78125\n",
            "Epoch 13, Loss: 0.3683945834636688, Accuracy: 0.6875\n",
            "Epoch 13, Loss: 0.2952495515346527, Accuracy: 0.78125\n",
            "Epoch 13, Loss: 0.416465163230896, Accuracy: 0.6875\n",
            "Epoch 13, Loss: 0.2547483742237091, Accuracy: 0.8125\n",
            "Epoch 13, Loss: 0.28423815965652466, Accuracy: 0.75\n",
            "Epoch 13, Loss: 0.2609005570411682, Accuracy: 0.75\n",
            "Epoch 13, Loss: 0.44521039724349976, Accuracy: 0.65625\n",
            "Epoch 13, Loss: 0.2508760988712311, Accuracy: 0.8125\n",
            "Epoch 13, Loss: 0.30379313230514526, Accuracy: 0.8125\n",
            "Epoch 13, Loss: 0.4093162715435028, Accuracy: 0.6875\n",
            "Epoch 13, Loss: 0.4799784719944, Accuracy: 0.65625\n",
            "Epoch 13, Loss: 0.3904038667678833, Accuracy: 0.6875\n",
            "Epoch 13, Loss: 0.29979532957077026, Accuracy: 0.84375\n",
            "Epoch 13, Loss: 0.44147107005119324, Accuracy: 0.71875\n",
            "Epoch 13, Loss: 0.2993505299091339, Accuracy: 0.78125\n",
            "Epoch 13, Loss: 0.4132956862449646, Accuracy: 0.65625\n",
            "Epoch 13, Loss: 0.2887086570262909, Accuracy: 0.8125\n",
            "Epoch 13, Loss: 0.30468037724494934, Accuracy: 0.8125\n",
            "Epoch 13, Loss: 0.4386913478374481, Accuracy: 0.59375\n",
            "Epoch 13, Loss: 0.2612859606742859, Accuracy: 0.84375\n",
            "Epoch 13, Loss: 0.36279603838920593, Accuracy: 0.75\n",
            "Epoch 13, Loss: 0.38562437891960144, Accuracy: 0.6875\n",
            "Epoch 13, Loss: 0.30143484473228455, Accuracy: 0.8125\n",
            "Epoch 13, Loss: 0.32603099942207336, Accuracy: 0.71875\n",
            "Epoch 13, Loss: 0.30368050932884216, Accuracy: 0.78125\n",
            "Epoch 13, Loss: 0.5119152665138245, Accuracy: 0.6875\n",
            "Epoch 13, Loss: 0.3827800452709198, Accuracy: 0.6875\n",
            "Epoch 13, Loss: 0.41924577951431274, Accuracy: 0.65625\n",
            "Epoch 13, Loss: 0.2670653760433197, Accuracy: 0.875\n",
            "Epoch 13, Loss: 0.2656034529209137, Accuracy: 0.75\n",
            "Epoch 13, Loss: 0.28737980127334595, Accuracy: 0.8125\n",
            "Epoch 13, Loss: 0.3015134334564209, Accuracy: 0.75\n",
            "Epoch 13, Loss: 0.21584904193878174, Accuracy: 0.8125\n",
            "Epoch 13, Loss: 0.2671775221824646, Accuracy: 0.84375\n",
            "Epoch 13, Loss: 0.3774729371070862, Accuracy: 0.7083333134651184\n",
            " 3/12 [======>.......................] - ETA: 0s - loss: 0.7367 - accuracy: 0.7292"
          ]
        },
        {
          "name": "stderr",
          "output_type": "stream",
          "text": [
            "2024-05-05 05:47:52.982995: W tensorflow/core/framework/local_rendezvous.cc:404] Local rendezvous is aborting with status: OUT_OF_RANGE: End of sequence\n"
          ]
        },
        {
          "name": "stdout",
          "output_type": "stream",
          "text": [
            "12/12 [==============================] - 1s 41ms/step - loss: 0.7647 - accuracy: 0.7411\n",
            "Epoch 14, Loss: 0.3632054924964905, Accuracy: 0.78125\n",
            "Epoch 14, Loss: 0.36978670954704285, Accuracy: 0.78125\n",
            "Epoch 14, Loss: 0.2876783013343811, Accuracy: 0.84375\n",
            "Epoch 14, Loss: 0.42055994272232056, Accuracy: 0.71875\n",
            "Epoch 14, Loss: 0.321965754032135, Accuracy: 0.75\n",
            "Epoch 14, Loss: 0.2583887577056885, Accuracy: 0.8125\n",
            "Epoch 14, Loss: 0.5421248078346252, Accuracy: 0.65625\n",
            "Epoch 14, Loss: 0.34349796175956726, Accuracy: 0.6875\n",
            "Epoch 14, Loss: 0.3292072117328644, Accuracy: 0.6875\n",
            "Epoch 14, Loss: 0.3772321343421936, Accuracy: 0.75\n",
            "Epoch 14, Loss: 0.3106386065483093, Accuracy: 0.75\n",
            "Epoch 14, Loss: 0.3640384078025818, Accuracy: 0.78125\n",
            "Epoch 14, Loss: 0.2735663950443268, Accuracy: 0.875\n",
            "Epoch 14, Loss: 0.27807262539863586, Accuracy: 0.84375\n",
            "Epoch 14, Loss: 0.3260158598423004, Accuracy: 0.75\n",
            "Epoch 14, Loss: 0.386088490486145, Accuracy: 0.8125\n",
            "Epoch 14, Loss: 0.3386593759059906, Accuracy: 0.78125\n",
            "Epoch 14, Loss: 0.2626951336860657, Accuracy: 0.78125\n",
            "Epoch 14, Loss: 0.3520021140575409, Accuracy: 0.6875\n",
            "Epoch 14, Loss: 0.3221491277217865, Accuracy: 0.78125\n",
            "Epoch 14, Loss: 0.4803442060947418, Accuracy: 0.71875\n",
            "Epoch 14, Loss: 0.40396907925605774, Accuracy: 0.71875\n",
            "Epoch 14, Loss: 0.35156822204589844, Accuracy: 0.75\n",
            "Epoch 14, Loss: 0.37513214349746704, Accuracy: 0.6875\n",
            "Epoch 14, Loss: 0.26906102895736694, Accuracy: 0.78125\n",
            "Epoch 14, Loss: 0.32755783200263977, Accuracy: 0.78125\n",
            "Epoch 14, Loss: 0.3347794711589813, Accuracy: 0.8125\n",
            "Epoch 14, Loss: 0.2624974548816681, Accuracy: 0.8125\n",
            "Epoch 14, Loss: 0.2913118898868561, Accuracy: 0.75\n",
            "Epoch 14, Loss: 0.40557560324668884, Accuracy: 0.8125\n",
            "Epoch 14, Loss: 0.38130271434783936, Accuracy: 0.71875\n",
            "Epoch 14, Loss: 0.3643190860748291, Accuracy: 0.8125\n",
            "Epoch 14, Loss: 0.39424365758895874, Accuracy: 0.59375\n",
            "Epoch 14, Loss: 0.4307001531124115, Accuracy: 0.625\n",
            "Epoch 14, Loss: 0.3660852015018463, Accuracy: 0.71875\n",
            "Epoch 14, Loss: 0.5381044149398804, Accuracy: 0.625\n",
            "Epoch 14, Loss: 0.29571443796157837, Accuracy: 0.71875\n",
            "Epoch 14, Loss: 0.3623071014881134, Accuracy: 0.71875\n",
            "Epoch 14, Loss: 0.4054553508758545, Accuracy: 0.71875\n",
            "Epoch 14, Loss: 0.3888304531574249, Accuracy: 0.6875\n",
            "Epoch 14, Loss: 0.3062903583049774, Accuracy: 0.78125\n",
            "Epoch 14, Loss: 0.3936609923839569, Accuracy: 0.71875\n",
            "Epoch 14, Loss: 0.3605360984802246, Accuracy: 0.78125\n",
            "Epoch 14, Loss: 0.25162047147750854, Accuracy: 0.8125\n",
            "Epoch 14, Loss: 0.2863800525665283, Accuracy: 0.8125\n",
            "Epoch 14, Loss: 0.29114454984664917, Accuracy: 0.78125\n",
            "Epoch 14, Loss: 0.2858603000640869, Accuracy: 0.84375\n",
            "Epoch 14, Loss: 0.23553688824176788, Accuracy: 0.84375\n",
            "Epoch 14, Loss: 0.33211827278137207, Accuracy: 0.6875\n",
            "Epoch 14, Loss: 0.3972710072994232, Accuracy: 0.75\n",
            "Epoch 14, Loss: 0.38260534405708313, Accuracy: 0.6875\n",
            "Epoch 14, Loss: 0.3308919370174408, Accuracy: 0.78125\n",
            "Epoch 14, Loss: 0.3571798503398895, Accuracy: 0.75\n",
            "Epoch 14, Loss: 0.36134088039398193, Accuracy: 0.78125\n",
            "Epoch 14, Loss: 0.2512783110141754, Accuracy: 0.84375\n",
            "Epoch 14, Loss: 0.30763036012649536, Accuracy: 0.8125\n",
            "Epoch 14, Loss: 0.3093940317630768, Accuracy: 0.78125\n",
            "Epoch 14, Loss: 0.36355677247047424, Accuracy: 0.6875\n",
            "Epoch 14, Loss: 0.29286712408065796, Accuracy: 0.8125\n",
            "Epoch 14, Loss: 0.4155507981777191, Accuracy: 0.6875\n",
            "Epoch 14, Loss: 0.2536078989505768, Accuracy: 0.78125\n",
            "Epoch 14, Loss: 0.27154746651649475, Accuracy: 0.75\n",
            "Epoch 14, Loss: 0.25466060638427734, Accuracy: 0.78125\n",
            "Epoch 14, Loss: 0.4417828917503357, Accuracy: 0.6875\n",
            "Epoch 14, Loss: 0.24540238082408905, Accuracy: 0.8125\n",
            "Epoch 14, Loss: 0.29475322365760803, Accuracy: 0.78125\n",
            "Epoch 14, Loss: 0.40918514132499695, Accuracy: 0.71875\n",
            "Epoch 14, Loss: 0.47175151109695435, Accuracy: 0.65625\n",
            "Epoch 14, Loss: 0.3892439007759094, Accuracy: 0.6875\n",
            "Epoch 14, Loss: 0.29444071650505066, Accuracy: 0.84375\n",
            "Epoch 14, Loss: 0.43712708353996277, Accuracy: 0.71875\n",
            "Epoch 14, Loss: 0.293376088142395, Accuracy: 0.78125\n",
            "Epoch 14, Loss: 0.40898364782333374, Accuracy: 0.65625\n",
            "Epoch 14, Loss: 0.2871183454990387, Accuracy: 0.8125\n",
            "Epoch 14, Loss: 0.29600945115089417, Accuracy: 0.8125\n",
            "Epoch 14, Loss: 0.4373116195201874, Accuracy: 0.59375\n",
            "Epoch 14, Loss: 0.2551729679107666, Accuracy: 0.84375\n",
            "Epoch 14, Loss: 0.3513851463794708, Accuracy: 0.75\n",
            "Epoch 14, Loss: 0.3789609372615814, Accuracy: 0.65625\n",
            "Epoch 14, Loss: 0.2979973256587982, Accuracy: 0.8125\n",
            "Epoch 14, Loss: 0.3101746737957001, Accuracy: 0.78125\n",
            "Epoch 14, Loss: 0.30105942487716675, Accuracy: 0.78125\n",
            "Epoch 14, Loss: 0.4969642460346222, Accuracy: 0.71875\n",
            "Epoch 14, Loss: 0.3722681999206543, Accuracy: 0.6875\n",
            "Epoch 14, Loss: 0.413756787776947, Accuracy: 0.625\n",
            "Epoch 14, Loss: 0.26237452030181885, Accuracy: 0.84375\n",
            "Epoch 14, Loss: 0.2627304792404175, Accuracy: 0.75\n",
            "Epoch 14, Loss: 0.2827491760253906, Accuracy: 0.8125\n",
            "Epoch 14, Loss: 0.2988365888595581, Accuracy: 0.75\n",
            "Epoch 14, Loss: 0.21386033296585083, Accuracy: 0.8125\n",
            "Epoch 14, Loss: 0.2629232704639435, Accuracy: 0.84375\n",
            "Epoch 14, Loss: 0.3695996403694153, Accuracy: 0.7083333134651184\n",
            " 3/12 [======>.......................] - ETA: 0s - loss: 0.7284 - accuracy: 0.7188"
          ]
        },
        {
          "name": "stderr",
          "output_type": "stream",
          "text": [
            "2024-05-05 05:49:03.683436: W tensorflow/core/framework/local_rendezvous.cc:404] Local rendezvous is aborting with status: OUT_OF_RANGE: End of sequence\n"
          ]
        },
        {
          "name": "stdout",
          "output_type": "stream",
          "text": [
            "12/12 [==============================] - 1s 40ms/step - loss: 0.7546 - accuracy: 0.7193\n",
            "Epoch 15, Loss: 0.3576425611972809, Accuracy: 0.78125\n",
            "Epoch 15, Loss: 0.362943559885025, Accuracy: 0.75\n",
            "Epoch 15, Loss: 0.2738953232765198, Accuracy: 0.84375\n",
            "Epoch 15, Loss: 0.41066935658454895, Accuracy: 0.71875\n",
            "Epoch 15, Loss: 0.3183644711971283, Accuracy: 0.75\n",
            "Epoch 15, Loss: 0.24647898972034454, Accuracy: 0.8125\n",
            "Epoch 15, Loss: 0.5301791429519653, Accuracy: 0.65625\n",
            "Epoch 15, Loss: 0.3365381062030792, Accuracy: 0.71875\n",
            "Epoch 15, Loss: 0.3250805735588074, Accuracy: 0.75\n",
            "Epoch 15, Loss: 0.377920001745224, Accuracy: 0.75\n",
            "Epoch 15, Loss: 0.2993319034576416, Accuracy: 0.78125\n",
            "Epoch 15, Loss: 0.35872551798820496, Accuracy: 0.78125\n",
            "Epoch 15, Loss: 0.26801425218582153, Accuracy: 0.875\n",
            "Epoch 15, Loss: 0.26853105425834656, Accuracy: 0.84375\n",
            "Epoch 15, Loss: 0.31838324666023254, Accuracy: 0.75\n",
            "Epoch 15, Loss: 0.3793812394142151, Accuracy: 0.78125\n",
            "Epoch 15, Loss: 0.33258941769599915, Accuracy: 0.75\n",
            "Epoch 15, Loss: 0.2596619427204132, Accuracy: 0.78125\n",
            "Epoch 15, Loss: 0.34249359369277954, Accuracy: 0.6875\n",
            "Epoch 15, Loss: 0.31596478819847107, Accuracy: 0.78125\n",
            "Epoch 15, Loss: 0.4757513999938965, Accuracy: 0.71875\n",
            "Epoch 15, Loss: 0.39962875843048096, Accuracy: 0.71875\n",
            "Epoch 15, Loss: 0.3521661162376404, Accuracy: 0.75\n",
            "Epoch 15, Loss: 0.375397652387619, Accuracy: 0.65625\n",
            "Epoch 15, Loss: 0.26425090432167053, Accuracy: 0.78125\n",
            "Epoch 15, Loss: 0.320442795753479, Accuracy: 0.78125\n",
            "Epoch 15, Loss: 0.3248489797115326, Accuracy: 0.78125\n",
            "Epoch 15, Loss: 0.252697616815567, Accuracy: 0.8125\n",
            "Epoch 15, Loss: 0.2888132631778717, Accuracy: 0.75\n",
            "Epoch 15, Loss: 0.40381789207458496, Accuracy: 0.8125\n",
            "Epoch 15, Loss: 0.3671512305736542, Accuracy: 0.6875\n",
            "Epoch 15, Loss: 0.3593471646308899, Accuracy: 0.8125\n",
            "Epoch 15, Loss: 0.3899657428264618, Accuracy: 0.59375\n",
            "Epoch 15, Loss: 0.4214114546775818, Accuracy: 0.625\n",
            "Epoch 15, Loss: 0.36438271403312683, Accuracy: 0.71875\n",
            "Epoch 15, Loss: 0.5310027599334717, Accuracy: 0.625\n",
            "Epoch 15, Loss: 0.28737694025039673, Accuracy: 0.71875\n",
            "Epoch 15, Loss: 0.3519231379032135, Accuracy: 0.71875\n",
            "Epoch 15, Loss: 0.4103913903236389, Accuracy: 0.71875\n",
            "Epoch 15, Loss: 0.3798869848251343, Accuracy: 0.65625\n",
            "Epoch 15, Loss: 0.3027644157409668, Accuracy: 0.78125\n",
            "Epoch 15, Loss: 0.3916923999786377, Accuracy: 0.71875\n",
            "Epoch 15, Loss: 0.3569030165672302, Accuracy: 0.78125\n",
            "Epoch 15, Loss: 0.2390846312046051, Accuracy: 0.84375\n",
            "Epoch 15, Loss: 0.28017228841781616, Accuracy: 0.8125\n",
            "Epoch 15, Loss: 0.2898244261741638, Accuracy: 0.78125\n",
            "Epoch 15, Loss: 0.28731468319892883, Accuracy: 0.84375\n",
            "Epoch 15, Loss: 0.23028512299060822, Accuracy: 0.84375\n",
            "Epoch 15, Loss: 0.31735023856163025, Accuracy: 0.6875\n",
            "Epoch 15, Loss: 0.3895017206668854, Accuracy: 0.75\n",
            "Epoch 15, Loss: 0.3731612265110016, Accuracy: 0.6875\n",
            "Epoch 15, Loss: 0.32548800110816956, Accuracy: 0.78125\n",
            "Epoch 15, Loss: 0.3553759753704071, Accuracy: 0.75\n",
            "Epoch 15, Loss: 0.3585832118988037, Accuracy: 0.75\n",
            "Epoch 15, Loss: 0.2406245470046997, Accuracy: 0.84375\n",
            "Epoch 15, Loss: 0.30049413442611694, Accuracy: 0.8125\n",
            "Epoch 15, Loss: 0.2984520494937897, Accuracy: 0.78125\n",
            "Epoch 15, Loss: 0.354467511177063, Accuracy: 0.6875\n",
            "Epoch 15, Loss: 0.2816300094127655, Accuracy: 0.78125\n",
            "Epoch 15, Loss: 0.408413290977478, Accuracy: 0.6875\n",
            "Epoch 15, Loss: 0.2470429539680481, Accuracy: 0.8125\n",
            "Epoch 15, Loss: 0.25884172320365906, Accuracy: 0.75\n",
            "Epoch 15, Loss: 0.24670983850955963, Accuracy: 0.84375\n",
            "Epoch 15, Loss: 0.434623122215271, Accuracy: 0.6875\n",
            "Epoch 15, Loss: 0.24198760092258453, Accuracy: 0.8125\n",
            "Epoch 15, Loss: 0.2949475944042206, Accuracy: 0.78125\n",
            "Epoch 15, Loss: 0.40885090827941895, Accuracy: 0.6875\n",
            "Epoch 15, Loss: 0.46842336654663086, Accuracy: 0.65625\n",
            "Epoch 15, Loss: 0.386162668466568, Accuracy: 0.6875\n",
            "Epoch 15, Loss: 0.28605401515960693, Accuracy: 0.84375\n",
            "Epoch 15, Loss: 0.4317304790019989, Accuracy: 0.71875\n",
            "Epoch 15, Loss: 0.2876152992248535, Accuracy: 0.8125\n",
            "Epoch 15, Loss: 0.4101578891277313, Accuracy: 0.65625\n",
            "Epoch 15, Loss: 0.2795771062374115, Accuracy: 0.8125\n",
            "Epoch 15, Loss: 0.28799790143966675, Accuracy: 0.84375\n",
            "Epoch 15, Loss: 0.42351725697517395, Accuracy: 0.59375\n",
            "Epoch 15, Loss: 0.2461564689874649, Accuracy: 0.84375\n",
            "Epoch 15, Loss: 0.3458264172077179, Accuracy: 0.75\n",
            "Epoch 15, Loss: 0.3745596408843994, Accuracy: 0.65625\n",
            "Epoch 15, Loss: 0.29612821340560913, Accuracy: 0.8125\n",
            "Epoch 15, Loss: 0.3065519332885742, Accuracy: 0.71875\n",
            "Epoch 15, Loss: 0.28917568922042847, Accuracy: 0.8125\n",
            "Epoch 15, Loss: 0.4847053289413452, Accuracy: 0.71875\n",
            "Epoch 15, Loss: 0.36357641220092773, Accuracy: 0.71875\n",
            "Epoch 15, Loss: 0.41404467821121216, Accuracy: 0.625\n",
            "Epoch 15, Loss: 0.2567812204360962, Accuracy: 0.84375\n",
            "Epoch 15, Loss: 0.26163583993911743, Accuracy: 0.75\n",
            "Epoch 15, Loss: 0.2778191566467285, Accuracy: 0.84375\n",
            "Epoch 15, Loss: 0.2950678765773773, Accuracy: 0.75\n",
            "Epoch 15, Loss: 0.21040381491184235, Accuracy: 0.8125\n",
            "Epoch 15, Loss: 0.2629949152469635, Accuracy: 0.84375\n",
            "Epoch 15, Loss: 0.3652759790420532, Accuracy: 0.7083333134651184\n",
            " 3/12 [======>.......................] - ETA: 0s - loss: 0.7191 - accuracy: 0.7500"
          ]
        },
        {
          "name": "stderr",
          "output_type": "stream",
          "text": [
            "2024-05-05 05:50:14.566328: W tensorflow/core/framework/local_rendezvous.cc:404] Local rendezvous is aborting with status: OUT_OF_RANGE: End of sequence\n"
          ]
        },
        {
          "name": "stdout",
          "output_type": "stream",
          "text": [
            "12/12 [==============================] - 1s 41ms/step - loss: 0.7541 - accuracy: 0.7248\n",
            "Epoch 16, Loss: 0.3551523685455322, Accuracy: 0.78125\n",
            "Epoch 16, Loss: 0.35660794377326965, Accuracy: 0.75\n",
            "Epoch 16, Loss: 0.2606450617313385, Accuracy: 0.84375\n",
            "Epoch 16, Loss: 0.4104873836040497, Accuracy: 0.71875\n",
            "Epoch 16, Loss: 0.31705138087272644, Accuracy: 0.75\n",
            "Epoch 16, Loss: 0.24140788614749908, Accuracy: 0.8125\n",
            "Epoch 16, Loss: 0.5238863229751587, Accuracy: 0.65625\n",
            "Epoch 16, Loss: 0.3319045901298523, Accuracy: 0.71875\n",
            "Epoch 16, Loss: 0.31762075424194336, Accuracy: 0.71875\n",
            "Epoch 16, Loss: 0.37782636284828186, Accuracy: 0.71875\n",
            "Epoch 16, Loss: 0.2898043096065521, Accuracy: 0.78125\n",
            "Epoch 16, Loss: 0.3523367643356323, Accuracy: 0.75\n",
            "Epoch 16, Loss: 0.2647223472595215, Accuracy: 0.875\n",
            "Epoch 16, Loss: 0.26062673330307007, Accuracy: 0.875\n",
            "Epoch 16, Loss: 0.31704574823379517, Accuracy: 0.78125\n",
            "Epoch 16, Loss: 0.37762272357940674, Accuracy: 0.8125\n",
            "Epoch 16, Loss: 0.3293471932411194, Accuracy: 0.75\n",
            "Epoch 16, Loss: 0.25627467036247253, Accuracy: 0.78125\n",
            "Epoch 16, Loss: 0.33055463433265686, Accuracy: 0.71875\n",
            "Epoch 16, Loss: 0.31253913044929504, Accuracy: 0.8125\n",
            "Epoch 16, Loss: 0.4719986021518707, Accuracy: 0.71875\n",
            "Epoch 16, Loss: 0.39054372906684875, Accuracy: 0.75\n",
            "Epoch 16, Loss: 0.3523172438144684, Accuracy: 0.71875\n",
            "Epoch 16, Loss: 0.3740358352661133, Accuracy: 0.65625\n",
            "Epoch 16, Loss: 0.26430270075798035, Accuracy: 0.78125\n",
            "Epoch 16, Loss: 0.3176647126674652, Accuracy: 0.78125\n",
            "Epoch 16, Loss: 0.3152291476726532, Accuracy: 0.8125\n",
            "Epoch 16, Loss: 0.24713075160980225, Accuracy: 0.84375\n",
            "Epoch 16, Loss: 0.2804405987262726, Accuracy: 0.75\n",
            "Epoch 16, Loss: 0.38987457752227783, Accuracy: 0.8125\n",
            "Epoch 16, Loss: 0.35454386472702026, Accuracy: 0.71875\n",
            "Epoch 16, Loss: 0.347859263420105, Accuracy: 0.8125\n",
            "Epoch 16, Loss: 0.38497987389564514, Accuracy: 0.625\n",
            "Epoch 16, Loss: 0.41046589612960815, Accuracy: 0.625\n",
            "Epoch 16, Loss: 0.3660334646701813, Accuracy: 0.71875\n",
            "Epoch 16, Loss: 0.5245667099952698, Accuracy: 0.65625\n",
            "Epoch 16, Loss: 0.2847093939781189, Accuracy: 0.71875\n",
            "Epoch 16, Loss: 0.3492864966392517, Accuracy: 0.75\n",
            "Epoch 16, Loss: 0.4034329354763031, Accuracy: 0.71875\n",
            "Epoch 16, Loss: 0.3723466098308563, Accuracy: 0.71875\n",
            "Epoch 16, Loss: 0.29952913522720337, Accuracy: 0.8125\n",
            "Epoch 16, Loss: 0.3927852511405945, Accuracy: 0.71875\n",
            "Epoch 16, Loss: 0.35480427742004395, Accuracy: 0.78125\n",
            "Epoch 16, Loss: 0.23472356796264648, Accuracy: 0.84375\n",
            "Epoch 16, Loss: 0.27027928829193115, Accuracy: 0.8125\n",
            "Epoch 16, Loss: 0.2780938744544983, Accuracy: 0.84375\n",
            "Epoch 16, Loss: 0.2940318286418915, Accuracy: 0.78125\n",
            "Epoch 16, Loss: 0.22104202210903168, Accuracy: 0.84375\n",
            "Epoch 16, Loss: 0.30921685695648193, Accuracy: 0.6875\n",
            "Epoch 16, Loss: 0.3859231770038605, Accuracy: 0.75\n",
            "Epoch 16, Loss: 0.3702450096607208, Accuracy: 0.71875\n",
            "Epoch 16, Loss: 0.3105587363243103, Accuracy: 0.78125\n",
            "Epoch 16, Loss: 0.3493857979774475, Accuracy: 0.75\n",
            "Epoch 16, Loss: 0.3471807837486267, Accuracy: 0.78125\n",
            "Epoch 16, Loss: 0.23245558142662048, Accuracy: 0.875\n",
            "Epoch 16, Loss: 0.2921810746192932, Accuracy: 0.8125\n",
            "Epoch 16, Loss: 0.292484849691391, Accuracy: 0.78125\n",
            "Epoch 16, Loss: 0.3460911512374878, Accuracy: 0.6875\n",
            "Epoch 16, Loss: 0.2807990610599518, Accuracy: 0.78125\n",
            "Epoch 16, Loss: 0.4025056064128876, Accuracy: 0.6875\n",
            "Epoch 16, Loss: 0.24515222012996674, Accuracy: 0.8125\n",
            "Epoch 16, Loss: 0.24989204108715057, Accuracy: 0.75\n",
            "Epoch 16, Loss: 0.24091188609600067, Accuracy: 0.84375\n",
            "Epoch 16, Loss: 0.4198737144470215, Accuracy: 0.71875\n",
            "Epoch 16, Loss: 0.2327490597963333, Accuracy: 0.8125\n",
            "Epoch 16, Loss: 0.28710994124412537, Accuracy: 0.8125\n",
            "Epoch 16, Loss: 0.4033944308757782, Accuracy: 0.71875\n",
            "Epoch 16, Loss: 0.45141640305519104, Accuracy: 0.65625\n",
            "Epoch 16, Loss: 0.3844747543334961, Accuracy: 0.6875\n",
            "Epoch 16, Loss: 0.28359854221343994, Accuracy: 0.84375\n",
            "Epoch 16, Loss: 0.4288587272167206, Accuracy: 0.6875\n",
            "Epoch 16, Loss: 0.282200425863266, Accuracy: 0.8125\n",
            "Epoch 16, Loss: 0.4017993211746216, Accuracy: 0.65625\n",
            "Epoch 16, Loss: 0.27765631675720215, Accuracy: 0.8125\n",
            "Epoch 16, Loss: 0.2823796570301056, Accuracy: 0.875\n",
            "Epoch 16, Loss: 0.41836127638816833, Accuracy: 0.59375\n",
            "Epoch 16, Loss: 0.24056626856327057, Accuracy: 0.875\n",
            "Epoch 16, Loss: 0.33972668647766113, Accuracy: 0.8125\n",
            "Epoch 16, Loss: 0.3651144206523895, Accuracy: 0.6875\n",
            "Epoch 16, Loss: 0.2894417345523834, Accuracy: 0.8125\n",
            "Epoch 16, Loss: 0.30028021335601807, Accuracy: 0.75\n",
            "Epoch 16, Loss: 0.2784806489944458, Accuracy: 0.84375\n",
            "Epoch 16, Loss: 0.4727106988430023, Accuracy: 0.71875\n",
            "Epoch 16, Loss: 0.35793644189834595, Accuracy: 0.71875\n",
            "Epoch 16, Loss: 0.40959957242012024, Accuracy: 0.65625\n",
            "Epoch 16, Loss: 0.25679951906204224, Accuracy: 0.84375\n",
            "Epoch 16, Loss: 0.2611117959022522, Accuracy: 0.75\n",
            "Epoch 16, Loss: 0.27493906021118164, Accuracy: 0.84375\n",
            "Epoch 16, Loss: 0.2870970666408539, Accuracy: 0.75\n",
            "Epoch 16, Loss: 0.20816098153591156, Accuracy: 0.8125\n",
            "Epoch 16, Loss: 0.2653384208679199, Accuracy: 0.8125\n",
            "Epoch 16, Loss: 0.3570665419101715, Accuracy: 0.7083333134651184\n",
            " 3/12 [======>.......................] - ETA: 0s - loss: 0.7126 - accuracy: 0.7396"
          ]
        },
        {
          "name": "stderr",
          "output_type": "stream",
          "text": [
            "2024-05-05 05:51:25.515906: W tensorflow/core/framework/local_rendezvous.cc:404] Local rendezvous is aborting with status: OUT_OF_RANGE: End of sequence\n"
          ]
        },
        {
          "name": "stdout",
          "output_type": "stream",
          "text": [
            "12/12 [==============================] - 1s 41ms/step - loss: 0.7398 - accuracy: 0.7411\n",
            "Epoch 17, Loss: 0.3492799699306488, Accuracy: 0.78125\n",
            "Epoch 17, Loss: 0.3583909571170807, Accuracy: 0.75\n",
            "Epoch 17, Loss: 0.25423330068588257, Accuracy: 0.84375\n",
            "Epoch 17, Loss: 0.40949052572250366, Accuracy: 0.71875\n",
            "Epoch 17, Loss: 0.30925706028938293, Accuracy: 0.75\n",
            "Epoch 17, Loss: 0.2354002296924591, Accuracy: 0.8125\n",
            "Epoch 17, Loss: 0.5170682668685913, Accuracy: 0.65625\n",
            "Epoch 17, Loss: 0.32458075881004333, Accuracy: 0.75\n",
            "Epoch 17, Loss: 0.30715763568878174, Accuracy: 0.75\n",
            "Epoch 17, Loss: 0.37060725688934326, Accuracy: 0.75\n",
            "Epoch 17, Loss: 0.27832135558128357, Accuracy: 0.78125\n",
            "Epoch 17, Loss: 0.34245431423187256, Accuracy: 0.78125\n",
            "Epoch 17, Loss: 0.25578784942626953, Accuracy: 0.90625\n",
            "Epoch 17, Loss: 0.2549094259738922, Accuracy: 0.875\n",
            "Epoch 17, Loss: 0.3078169822692871, Accuracy: 0.78125\n",
            "Epoch 17, Loss: 0.37221643328666687, Accuracy: 0.8125\n",
            "Epoch 17, Loss: 0.32723408937454224, Accuracy: 0.78125\n",
            "Epoch 17, Loss: 0.25206586718559265, Accuracy: 0.8125\n",
            "Epoch 17, Loss: 0.3197406530380249, Accuracy: 0.75\n",
            "Epoch 17, Loss: 0.3082270324230194, Accuracy: 0.8125\n",
            "Epoch 17, Loss: 0.46702954173088074, Accuracy: 0.71875\n",
            "Epoch 17, Loss: 0.3826610743999481, Accuracy: 0.71875\n",
            "Epoch 17, Loss: 0.3544612228870392, Accuracy: 0.71875\n",
            "Epoch 17, Loss: 0.3655209243297577, Accuracy: 0.65625\n",
            "Epoch 17, Loss: 0.2600189447402954, Accuracy: 0.78125\n",
            "Epoch 17, Loss: 0.31029012799263, Accuracy: 0.78125\n",
            "Epoch 17, Loss: 0.30683085322380066, Accuracy: 0.8125\n",
            "Epoch 17, Loss: 0.2370459884405136, Accuracy: 0.875\n",
            "Epoch 17, Loss: 0.27772268652915955, Accuracy: 0.75\n",
            "Epoch 17, Loss: 0.3907960057258606, Accuracy: 0.78125\n",
            "Epoch 17, Loss: 0.3417879343032837, Accuracy: 0.75\n",
            "Epoch 17, Loss: 0.34622722864151, Accuracy: 0.8125\n",
            "Epoch 17, Loss: 0.37620851397514343, Accuracy: 0.59375\n",
            "Epoch 17, Loss: 0.39897850155830383, Accuracy: 0.65625\n",
            "Epoch 17, Loss: 0.36303800344467163, Accuracy: 0.71875\n",
            "Epoch 17, Loss: 0.5274099707603455, Accuracy: 0.65625\n",
            "Epoch 17, Loss: 0.2825208902359009, Accuracy: 0.71875\n",
            "Epoch 17, Loss: 0.3448205888271332, Accuracy: 0.75\n",
            "Epoch 17, Loss: 0.40017667412757874, Accuracy: 0.71875\n",
            "Epoch 17, Loss: 0.36129242181777954, Accuracy: 0.6875\n",
            "Epoch 17, Loss: 0.28989923000335693, Accuracy: 0.84375\n",
            "Epoch 17, Loss: 0.39036664366722107, Accuracy: 0.71875\n",
            "Epoch 17, Loss: 0.34961163997650146, Accuracy: 0.8125\n",
            "Epoch 17, Loss: 0.22498829662799835, Accuracy: 0.84375\n",
            "Epoch 17, Loss: 0.2674563527107239, Accuracy: 0.8125\n",
            "Epoch 17, Loss: 0.27293863892555237, Accuracy: 0.8125\n",
            "Epoch 17, Loss: 0.2864939570426941, Accuracy: 0.78125\n",
            "Epoch 17, Loss: 0.21880263090133667, Accuracy: 0.8125\n",
            "Epoch 17, Loss: 0.30808785557746887, Accuracy: 0.6875\n",
            "Epoch 17, Loss: 0.3812396824359894, Accuracy: 0.75\n",
            "Epoch 17, Loss: 0.36325523257255554, Accuracy: 0.75\n",
            "Epoch 17, Loss: 0.3045334219932556, Accuracy: 0.78125\n",
            "Epoch 17, Loss: 0.3474354147911072, Accuracy: 0.75\n",
            "Epoch 17, Loss: 0.3439156413078308, Accuracy: 0.75\n",
            "Epoch 17, Loss: 0.23025274276733398, Accuracy: 0.875\n",
            "Epoch 17, Loss: 0.28478336334228516, Accuracy: 0.8125\n",
            "Epoch 17, Loss: 0.2831583619117737, Accuracy: 0.78125\n",
            "Epoch 17, Loss: 0.334807425737381, Accuracy: 0.6875\n",
            "Epoch 17, Loss: 0.26973897218704224, Accuracy: 0.8125\n",
            "Epoch 17, Loss: 0.40105149149894714, Accuracy: 0.6875\n",
            "Epoch 17, Loss: 0.24092698097229004, Accuracy: 0.8125\n",
            "Epoch 17, Loss: 0.24133922159671783, Accuracy: 0.8125\n",
            "Epoch 17, Loss: 0.24013523757457733, Accuracy: 0.84375\n",
            "Epoch 17, Loss: 0.41657888889312744, Accuracy: 0.71875\n",
            "Epoch 17, Loss: 0.224427729845047, Accuracy: 0.8125\n",
            "Epoch 17, Loss: 0.2843307554721832, Accuracy: 0.78125\n",
            "Epoch 17, Loss: 0.39774641394615173, Accuracy: 0.71875\n",
            "Epoch 17, Loss: 0.4439712166786194, Accuracy: 0.65625\n",
            "Epoch 17, Loss: 0.3813478946685791, Accuracy: 0.6875\n",
            "Epoch 17, Loss: 0.2800225615501404, Accuracy: 0.84375\n",
            "Epoch 17, Loss: 0.422527551651001, Accuracy: 0.6875\n",
            "Epoch 17, Loss: 0.27585166692733765, Accuracy: 0.8125\n",
            "Epoch 17, Loss: 0.39963582158088684, Accuracy: 0.65625\n",
            "Epoch 17, Loss: 0.2707333266735077, Accuracy: 0.8125\n",
            "Epoch 17, Loss: 0.2807978391647339, Accuracy: 0.90625\n",
            "Epoch 17, Loss: 0.4132104516029358, Accuracy: 0.5625\n",
            "Epoch 17, Loss: 0.2328147441148758, Accuracy: 0.875\n",
            "Epoch 17, Loss: 0.33208465576171875, Accuracy: 0.8125\n",
            "Epoch 17, Loss: 0.35748404264450073, Accuracy: 0.6875\n",
            "Epoch 17, Loss: 0.28333818912506104, Accuracy: 0.8125\n",
            "Epoch 17, Loss: 0.29825565218925476, Accuracy: 0.75\n",
            "Epoch 17, Loss: 0.26788824796676636, Accuracy: 0.875\n",
            "Epoch 17, Loss: 0.4619999825954437, Accuracy: 0.71875\n",
            "Epoch 17, Loss: 0.35293498635292053, Accuracy: 0.71875\n",
            "Epoch 17, Loss: 0.4096886217594147, Accuracy: 0.625\n",
            "Epoch 17, Loss: 0.26145830750465393, Accuracy: 0.8125\n",
            "Epoch 17, Loss: 0.2577732801437378, Accuracy: 0.75\n",
            "Epoch 17, Loss: 0.2672860622406006, Accuracy: 0.8125\n",
            "Epoch 17, Loss: 0.2906114161014557, Accuracy: 0.75\n",
            "Epoch 17, Loss: 0.20290392637252808, Accuracy: 0.84375\n",
            "Epoch 17, Loss: 0.27291613817214966, Accuracy: 0.8125\n",
            "Epoch 17, Loss: 0.3578498959541321, Accuracy: 0.7083333134651184\n",
            " 3/12 [======>.......................] - ETA: 0s - loss: 0.7442 - accuracy: 0.7188"
          ]
        },
        {
          "name": "stderr",
          "output_type": "stream",
          "text": [
            "2024-05-05 05:52:36.293672: W tensorflow/core/framework/local_rendezvous.cc:404] Local rendezvous is aborting with status: OUT_OF_RANGE: End of sequence\n"
          ]
        },
        {
          "name": "stdout",
          "output_type": "stream",
          "text": [
            "12/12 [==============================] - 1s 41ms/step - loss: 0.7812 - accuracy: 0.7357\n",
            "Epoch 18, Loss: 0.3554683327674866, Accuracy: 0.78125\n",
            "Epoch 18, Loss: 0.3632749021053314, Accuracy: 0.75\n",
            "Epoch 18, Loss: 0.2487044781446457, Accuracy: 0.875\n",
            "Epoch 18, Loss: 0.41439998149871826, Accuracy: 0.71875\n",
            "Epoch 18, Loss: 0.3032340109348297, Accuracy: 0.75\n",
            "Epoch 18, Loss: 0.23263345658779144, Accuracy: 0.8125\n",
            "Epoch 18, Loss: 0.5122278332710266, Accuracy: 0.65625\n",
            "Epoch 18, Loss: 0.318207710981369, Accuracy: 0.75\n",
            "Epoch 18, Loss: 0.2968982756137848, Accuracy: 0.78125\n",
            "Epoch 18, Loss: 0.35480380058288574, Accuracy: 0.78125\n",
            "Epoch 18, Loss: 0.2686092257499695, Accuracy: 0.78125\n",
            "Epoch 18, Loss: 0.3278224766254425, Accuracy: 0.78125\n",
            "Epoch 18, Loss: 0.24989889562129974, Accuracy: 0.875\n",
            "Epoch 18, Loss: 0.2511215806007385, Accuracy: 0.90625\n",
            "Epoch 18, Loss: 0.3014174997806549, Accuracy: 0.75\n",
            "Epoch 18, Loss: 0.3617737591266632, Accuracy: 0.8125\n",
            "Epoch 18, Loss: 0.33362987637519836, Accuracy: 0.71875\n",
            "Epoch 18, Loss: 0.24908964335918427, Accuracy: 0.8125\n",
            "Epoch 18, Loss: 0.32271844148635864, Accuracy: 0.71875\n",
            "Epoch 18, Loss: 0.29878804087638855, Accuracy: 0.8125\n",
            "Epoch 18, Loss: 0.46167609095573425, Accuracy: 0.71875\n",
            "Epoch 18, Loss: 0.36970487236976624, Accuracy: 0.75\n",
            "Epoch 18, Loss: 0.3537883460521698, Accuracy: 0.75\n",
            "Epoch 18, Loss: 0.35677385330200195, Accuracy: 0.6875\n",
            "Epoch 18, Loss: 0.2575581669807434, Accuracy: 0.78125\n",
            "Epoch 18, Loss: 0.3014952540397644, Accuracy: 0.78125\n",
            "Epoch 18, Loss: 0.2967900037765503, Accuracy: 0.8125\n",
            "Epoch 18, Loss: 0.22570574283599854, Accuracy: 0.875\n",
            "Epoch 18, Loss: 0.27439644932746887, Accuracy: 0.78125\n",
            "Epoch 18, Loss: 0.3826097846031189, Accuracy: 0.75\n",
            "Epoch 18, Loss: 0.33427536487579346, Accuracy: 0.75\n",
            "Epoch 18, Loss: 0.35117778182029724, Accuracy: 0.78125\n",
            "Epoch 18, Loss: 0.36668848991394043, Accuracy: 0.6875\n",
            "Epoch 18, Loss: 0.38558751344680786, Accuracy: 0.65625\n",
            "Epoch 18, Loss: 0.361488938331604, Accuracy: 0.71875\n",
            "Epoch 18, Loss: 0.5267446041107178, Accuracy: 0.65625\n",
            "Epoch 18, Loss: 0.2822486162185669, Accuracy: 0.75\n",
            "Epoch 18, Loss: 0.3394787311553955, Accuracy: 0.75\n",
            "Epoch 18, Loss: 0.40125054121017456, Accuracy: 0.78125\n",
            "Epoch 18, Loss: 0.35127875208854675, Accuracy: 0.71875\n",
            "Epoch 18, Loss: 0.28356385231018066, Accuracy: 0.84375\n",
            "Epoch 18, Loss: 0.3907009959220886, Accuracy: 0.6875\n",
            "Epoch 18, Loss: 0.34665900468826294, Accuracy: 0.8125\n",
            "Epoch 18, Loss: 0.2196618616580963, Accuracy: 0.84375\n",
            "Epoch 18, Loss: 0.26436737179756165, Accuracy: 0.8125\n",
            "Epoch 18, Loss: 0.2669161260128021, Accuracy: 0.84375\n",
            "Epoch 18, Loss: 0.2862466275691986, Accuracy: 0.78125\n",
            "Epoch 18, Loss: 0.2137146294116974, Accuracy: 0.84375\n",
            "Epoch 18, Loss: 0.3051030933856964, Accuracy: 0.6875\n",
            "Epoch 18, Loss: 0.3770911991596222, Accuracy: 0.75\n",
            "Epoch 18, Loss: 0.3601277470588684, Accuracy: 0.75\n",
            "Epoch 18, Loss: 0.30178722739219666, Accuracy: 0.78125\n",
            "Epoch 18, Loss: 0.34200406074523926, Accuracy: 0.78125\n",
            "Epoch 18, Loss: 0.33248913288116455, Accuracy: 0.78125\n",
            "Epoch 18, Loss: 0.2266330122947693, Accuracy: 0.875\n",
            "Epoch 18, Loss: 0.277962327003479, Accuracy: 0.8125\n",
            "Epoch 18, Loss: 0.2806926965713501, Accuracy: 0.78125\n",
            "Epoch 18, Loss: 0.32158684730529785, Accuracy: 0.71875\n",
            "Epoch 18, Loss: 0.2644898593425751, Accuracy: 0.8125\n",
            "Epoch 18, Loss: 0.4004727602005005, Accuracy: 0.6875\n",
            "Epoch 18, Loss: 0.23710352182388306, Accuracy: 0.84375\n",
            "Epoch 18, Loss: 0.23308052122592926, Accuracy: 0.84375\n",
            "Epoch 18, Loss: 0.239902064204216, Accuracy: 0.84375\n",
            "Epoch 18, Loss: 0.410534143447876, Accuracy: 0.71875\n",
            "Epoch 18, Loss: 0.2140653133392334, Accuracy: 0.8125\n",
            "Epoch 18, Loss: 0.2795162498950958, Accuracy: 0.78125\n",
            "Epoch 18, Loss: 0.3983345627784729, Accuracy: 0.75\n",
            "Epoch 18, Loss: 0.43673038482666016, Accuracy: 0.65625\n",
            "Epoch 18, Loss: 0.37938937544822693, Accuracy: 0.6875\n",
            "Epoch 18, Loss: 0.27688804268836975, Accuracy: 0.84375\n",
            "Epoch 18, Loss: 0.4141853451728821, Accuracy: 0.6875\n",
            "Epoch 18, Loss: 0.268545001745224, Accuracy: 0.8125\n",
            "Epoch 18, Loss: 0.3948456943035126, Accuracy: 0.6875\n",
            "Epoch 18, Loss: 0.26829081773757935, Accuracy: 0.8125\n",
            "Epoch 18, Loss: 0.2790205180644989, Accuracy: 0.90625\n",
            "Epoch 18, Loss: 0.40940138697624207, Accuracy: 0.59375\n",
            "Epoch 18, Loss: 0.22622305154800415, Accuracy: 0.875\n",
            "Epoch 18, Loss: 0.32725605368614197, Accuracy: 0.8125\n",
            "Epoch 18, Loss: 0.34928274154663086, Accuracy: 0.6875\n",
            "Epoch 18, Loss: 0.2755286395549774, Accuracy: 0.8125\n",
            "Epoch 18, Loss: 0.29168277978897095, Accuracy: 0.75\n",
            "Epoch 18, Loss: 0.25706565380096436, Accuracy: 0.875\n",
            "Epoch 18, Loss: 0.45205700397491455, Accuracy: 0.75\n",
            "Epoch 18, Loss: 0.3463000953197479, Accuracy: 0.75\n",
            "Epoch 18, Loss: 0.40425384044647217, Accuracy: 0.625\n",
            "Epoch 18, Loss: 0.2586732804775238, Accuracy: 0.8125\n",
            "Epoch 18, Loss: 0.25773927569389343, Accuracy: 0.75\n",
            "Epoch 18, Loss: 0.26315581798553467, Accuracy: 0.8125\n",
            "Epoch 18, Loss: 0.2882687449455261, Accuracy: 0.75\n",
            "Epoch 18, Loss: 0.1980813890695572, Accuracy: 0.84375\n",
            "Epoch 18, Loss: 0.27312442660331726, Accuracy: 0.8125\n",
            "Epoch 18, Loss: 0.3505857586860657, Accuracy: 0.7083333134651184\n",
            " 3/12 [======>.......................] - ETA: 0s - loss: 0.7535 - accuracy: 0.7396"
          ]
        },
        {
          "name": "stderr",
          "output_type": "stream",
          "text": [
            "2024-05-05 05:53:47.123006: W tensorflow/core/framework/local_rendezvous.cc:404] Local rendezvous is aborting with status: OUT_OF_RANGE: End of sequence\n"
          ]
        },
        {
          "name": "stdout",
          "output_type": "stream",
          "text": [
            "12/12 [==============================] - 1s 41ms/step - loss: 0.7748 - accuracy: 0.7384\n",
            "Epoch 19, Loss: 0.34806013107299805, Accuracy: 0.78125\n",
            "Epoch 19, Loss: 0.3606891334056854, Accuracy: 0.75\n",
            "Epoch 19, Loss: 0.24253197014331818, Accuracy: 0.90625\n",
            "Epoch 19, Loss: 0.41687706112861633, Accuracy: 0.71875\n",
            "Epoch 19, Loss: 0.29847559332847595, Accuracy: 0.78125\n",
            "Epoch 19, Loss: 0.2269560545682907, Accuracy: 0.84375\n",
            "Epoch 19, Loss: 0.5014822483062744, Accuracy: 0.65625\n",
            "Epoch 19, Loss: 0.3156450092792511, Accuracy: 0.75\n",
            "Epoch 19, Loss: 0.29541724920272827, Accuracy: 0.71875\n",
            "Epoch 19, Loss: 0.35178837180137634, Accuracy: 0.78125\n",
            "Epoch 19, Loss: 0.2582756578922272, Accuracy: 0.8125\n",
            "Epoch 19, Loss: 0.3181457221508026, Accuracy: 0.78125\n",
            "Epoch 19, Loss: 0.24611276388168335, Accuracy: 0.875\n",
            "Epoch 19, Loss: 0.24985216557979584, Accuracy: 0.875\n",
            "Epoch 19, Loss: 0.29320573806762695, Accuracy: 0.78125\n",
            "Epoch 19, Loss: 0.34828680753707886, Accuracy: 0.8125\n",
            "Epoch 19, Loss: 0.33213281631469727, Accuracy: 0.75\n",
            "Epoch 19, Loss: 0.24597866833209991, Accuracy: 0.8125\n",
            "Epoch 19, Loss: 0.3201685845851898, Accuracy: 0.71875\n",
            "Epoch 19, Loss: 0.2916162312030792, Accuracy: 0.78125\n",
            "Epoch 19, Loss: 0.4543013572692871, Accuracy: 0.71875\n",
            "Epoch 19, Loss: 0.3581942319869995, Accuracy: 0.78125\n",
            "Epoch 19, Loss: 0.3517442047595978, Accuracy: 0.75\n",
            "Epoch 19, Loss: 0.3554764986038208, Accuracy: 0.75\n",
            "Epoch 19, Loss: 0.24992261826992035, Accuracy: 0.78125\n",
            "Epoch 19, Loss: 0.3006373941898346, Accuracy: 0.78125\n",
            "Epoch 19, Loss: 0.29398801922798157, Accuracy: 0.8125\n",
            "Epoch 19, Loss: 0.21436744928359985, Accuracy: 0.875\n",
            "Epoch 19, Loss: 0.2737252712249756, Accuracy: 0.78125\n",
            "Epoch 19, Loss: 0.36988773941993713, Accuracy: 0.78125\n",
            "Epoch 19, Loss: 0.32870185375213623, Accuracy: 0.71875\n",
            "Epoch 19, Loss: 0.3572443723678589, Accuracy: 0.78125\n",
            "Epoch 19, Loss: 0.35545840859413147, Accuracy: 0.6875\n",
            "Epoch 19, Loss: 0.3765257000923157, Accuracy: 0.65625\n",
            "Epoch 19, Loss: 0.3606231212615967, Accuracy: 0.71875\n",
            "Epoch 19, Loss: 0.5268444418907166, Accuracy: 0.65625\n",
            "Epoch 19, Loss: 0.27869465947151184, Accuracy: 0.75\n",
            "Epoch 19, Loss: 0.33756935596466064, Accuracy: 0.71875\n",
            "Epoch 19, Loss: 0.39213618636131287, Accuracy: 0.78125\n",
            "Epoch 19, Loss: 0.3410608172416687, Accuracy: 0.71875\n",
            "Epoch 19, Loss: 0.27651670575141907, Accuracy: 0.84375\n",
            "Epoch 19, Loss: 0.38790959119796753, Accuracy: 0.65625\n",
            "Epoch 19, Loss: 0.3496837317943573, Accuracy: 0.8125\n",
            "Epoch 19, Loss: 0.2135210633277893, Accuracy: 0.875\n",
            "Epoch 19, Loss: 0.25879135727882385, Accuracy: 0.8125\n",
            "Epoch 19, Loss: 0.2561481297016144, Accuracy: 0.84375\n",
            "Epoch 19, Loss: 0.28359779715538025, Accuracy: 0.78125\n",
            "Epoch 19, Loss: 0.2143874317407608, Accuracy: 0.84375\n",
            "Epoch 19, Loss: 0.30244094133377075, Accuracy: 0.75\n",
            "Epoch 19, Loss: 0.37732192873954773, Accuracy: 0.75\n",
            "Epoch 19, Loss: 0.3582070469856262, Accuracy: 0.75\n",
            "Epoch 19, Loss: 0.29377803206443787, Accuracy: 0.84375\n",
            "Epoch 19, Loss: 0.3394254744052887, Accuracy: 0.78125\n",
            "Epoch 19, Loss: 0.3215024173259735, Accuracy: 0.78125\n",
            "Epoch 19, Loss: 0.22823597490787506, Accuracy: 0.84375\n",
            "Epoch 19, Loss: 0.2741010785102844, Accuracy: 0.8125\n",
            "Epoch 19, Loss: 0.2751830816268921, Accuracy: 0.78125\n",
            "Epoch 19, Loss: 0.3137457072734833, Accuracy: 0.71875\n",
            "Epoch 19, Loss: 0.2534826695919037, Accuracy: 0.8125\n",
            "Epoch 19, Loss: 0.3955645263195038, Accuracy: 0.6875\n",
            "Epoch 19, Loss: 0.23492814600467682, Accuracy: 0.84375\n",
            "Epoch 19, Loss: 0.2308753877878189, Accuracy: 0.84375\n",
            "Epoch 19, Loss: 0.24077530205249786, Accuracy: 0.8125\n",
            "Epoch 19, Loss: 0.4062090218067169, Accuracy: 0.71875\n",
            "Epoch 19, Loss: 0.2076837569475174, Accuracy: 0.875\n",
            "Epoch 19, Loss: 0.2706591784954071, Accuracy: 0.8125\n",
            "Epoch 19, Loss: 0.3910679519176483, Accuracy: 0.75\n",
            "Epoch 19, Loss: 0.4244706928730011, Accuracy: 0.6875\n",
            "Epoch 19, Loss: 0.37343403697013855, Accuracy: 0.6875\n",
            "Epoch 19, Loss: 0.27842897176742554, Accuracy: 0.84375\n",
            "Epoch 19, Loss: 0.41183871030807495, Accuracy: 0.6875\n",
            "Epoch 19, Loss: 0.26862868666648865, Accuracy: 0.8125\n",
            "Epoch 19, Loss: 0.38998815417289734, Accuracy: 0.71875\n",
            "Epoch 19, Loss: 0.27005666494369507, Accuracy: 0.8125\n",
            "Epoch 19, Loss: 0.28487128019332886, Accuracy: 0.90625\n",
            "Epoch 19, Loss: 0.4030316174030304, Accuracy: 0.59375\n",
            "Epoch 19, Loss: 0.21945825219154358, Accuracy: 0.875\n",
            "Epoch 19, Loss: 0.32552966475486755, Accuracy: 0.8125\n",
            "Epoch 19, Loss: 0.3364070653915405, Accuracy: 0.6875\n",
            "Epoch 19, Loss: 0.26736217737197876, Accuracy: 0.8125\n",
            "Epoch 19, Loss: 0.2836684286594391, Accuracy: 0.75\n",
            "Epoch 19, Loss: 0.25075092911720276, Accuracy: 0.875\n",
            "Epoch 19, Loss: 0.4454158842563629, Accuracy: 0.75\n",
            "Epoch 19, Loss: 0.3374265134334564, Accuracy: 0.75\n",
            "Epoch 19, Loss: 0.39473584294319153, Accuracy: 0.625\n",
            "Epoch 19, Loss: 0.2588618993759155, Accuracy: 0.8125\n",
            "Epoch 19, Loss: 0.2590523660182953, Accuracy: 0.75\n",
            "Epoch 19, Loss: 0.2654728293418884, Accuracy: 0.8125\n",
            "Epoch 19, Loss: 0.2927139103412628, Accuracy: 0.71875\n",
            "Epoch 19, Loss: 0.19215995073318481, Accuracy: 0.84375\n",
            "Epoch 19, Loss: 0.2619170844554901, Accuracy: 0.8125\n",
            "Epoch 19, Loss: 0.3431062400341034, Accuracy: 0.75\n",
            " 3/12 [======>.......................] - ETA: 0s - loss: 0.7971 - accuracy: 0.7292"
          ]
        },
        {
          "name": "stderr",
          "output_type": "stream",
          "text": [
            "2024-05-05 05:54:57.757824: W tensorflow/core/framework/local_rendezvous.cc:404] Local rendezvous is aborting with status: OUT_OF_RANGE: End of sequence\n"
          ]
        },
        {
          "name": "stdout",
          "output_type": "stream",
          "text": [
            "12/12 [==============================] - 1s 40ms/step - loss: 0.7868 - accuracy: 0.7302\n",
            "Epoch 20, Loss: 0.3342437744140625, Accuracy: 0.78125\n",
            "Epoch 20, Loss: 0.35256287455558777, Accuracy: 0.75\n",
            "Epoch 20, Loss: 0.24335584044456482, Accuracy: 0.875\n",
            "Epoch 20, Loss: 0.41374868154525757, Accuracy: 0.75\n",
            "Epoch 20, Loss: 0.29077407717704773, Accuracy: 0.8125\n",
            "Epoch 20, Loss: 0.2229330986738205, Accuracy: 0.84375\n",
            "Epoch 20, Loss: 0.4879528880119324, Accuracy: 0.65625\n",
            "Epoch 20, Loss: 0.3158208429813385, Accuracy: 0.75\n",
            "Epoch 20, Loss: 0.2970329225063324, Accuracy: 0.71875\n",
            "Epoch 20, Loss: 0.3530797064304352, Accuracy: 0.78125\n",
            "Epoch 20, Loss: 0.25222086906433105, Accuracy: 0.8125\n",
            "Epoch 20, Loss: 0.30418649315834045, Accuracy: 0.8125\n",
            "Epoch 20, Loss: 0.24474528431892395, Accuracy: 0.84375\n",
            "Epoch 20, Loss: 0.24393755197525024, Accuracy: 0.90625\n",
            "Epoch 20, Loss: 0.2926750183105469, Accuracy: 0.75\n",
            "Epoch 20, Loss: 0.3330994248390198, Accuracy: 0.84375\n",
            "Epoch 20, Loss: 0.33098840713500977, Accuracy: 0.71875\n",
            "Epoch 20, Loss: 0.24480830132961273, Accuracy: 0.84375\n",
            "Epoch 20, Loss: 0.31183359026908875, Accuracy: 0.71875\n",
            "Epoch 20, Loss: 0.27925369143486023, Accuracy: 0.8125\n",
            "Epoch 20, Loss: 0.4419660270214081, Accuracy: 0.71875\n",
            "Epoch 20, Loss: 0.34880247712135315, Accuracy: 0.8125\n",
            "Epoch 20, Loss: 0.34584203362464905, Accuracy: 0.71875\n",
            "Epoch 20, Loss: 0.3478275537490845, Accuracy: 0.71875\n",
            "Epoch 20, Loss: 0.24276314675807953, Accuracy: 0.8125\n",
            "Epoch 20, Loss: 0.294053852558136, Accuracy: 0.78125\n",
            "Epoch 20, Loss: 0.2965443432331085, Accuracy: 0.84375\n",
            "Epoch 20, Loss: 0.2039279341697693, Accuracy: 0.875\n",
            "Epoch 20, Loss: 0.2691895663738251, Accuracy: 0.8125\n",
            "Epoch 20, Loss: 0.3631925880908966, Accuracy: 0.75\n",
            "Epoch 20, Loss: 0.3314438760280609, Accuracy: 0.75\n",
            "Epoch 20, Loss: 0.3545205295085907, Accuracy: 0.75\n",
            "Epoch 20, Loss: 0.34507858753204346, Accuracy: 0.6875\n",
            "Epoch 20, Loss: 0.3713434934616089, Accuracy: 0.71875\n",
            "Epoch 20, Loss: 0.3503630757331848, Accuracy: 0.78125\n",
            "Epoch 20, Loss: 0.5303936004638672, Accuracy: 0.65625\n",
            "Epoch 20, Loss: 0.2756603956222534, Accuracy: 0.75\n",
            "Epoch 20, Loss: 0.33270037174224854, Accuracy: 0.71875\n",
            "Epoch 20, Loss: 0.38349395990371704, Accuracy: 0.78125\n",
            "Epoch 20, Loss: 0.33202260732650757, Accuracy: 0.71875\n",
            "Epoch 20, Loss: 0.27596062421798706, Accuracy: 0.84375\n",
            "Epoch 20, Loss: 0.3791947662830353, Accuracy: 0.6875\n",
            "Epoch 20, Loss: 0.3414939343929291, Accuracy: 0.8125\n",
            "Epoch 20, Loss: 0.2078498750925064, Accuracy: 0.875\n",
            "Epoch 20, Loss: 0.25388866662979126, Accuracy: 0.8125\n",
            "Epoch 20, Loss: 0.24835602939128876, Accuracy: 0.84375\n",
            "Epoch 20, Loss: 0.28345322608947754, Accuracy: 0.8125\n",
            "Epoch 20, Loss: 0.21439407765865326, Accuracy: 0.84375\n",
            "Epoch 20, Loss: 0.2852627635002136, Accuracy: 0.75\n",
            "Epoch 20, Loss: 0.378019779920578, Accuracy: 0.75\n",
            "Epoch 20, Loss: 0.3501446545124054, Accuracy: 0.75\n",
            "Epoch 20, Loss: 0.28971171379089355, Accuracy: 0.84375\n",
            "Epoch 20, Loss: 0.3383023738861084, Accuracy: 0.78125\n",
            "Epoch 20, Loss: 0.3125527501106262, Accuracy: 0.8125\n",
            "Epoch 20, Loss: 0.23002830147743225, Accuracy: 0.8125\n",
            "Epoch 20, Loss: 0.2695249319076538, Accuracy: 0.8125\n",
            "Epoch 20, Loss: 0.26890015602111816, Accuracy: 0.8125\n",
            "Epoch 20, Loss: 0.296553373336792, Accuracy: 0.8125\n",
            "Epoch 20, Loss: 0.24974164366722107, Accuracy: 0.8125\n",
            "Epoch 20, Loss: 0.40064239501953125, Accuracy: 0.6875\n",
            "Epoch 20, Loss: 0.22944524884223938, Accuracy: 0.84375\n",
            "Epoch 20, Loss: 0.23256981372833252, Accuracy: 0.84375\n",
            "Epoch 20, Loss: 0.24325954914093018, Accuracy: 0.84375\n",
            "Epoch 20, Loss: 0.40115389227867126, Accuracy: 0.71875\n",
            "Epoch 20, Loss: 0.2047186642885208, Accuracy: 0.875\n",
            "Epoch 20, Loss: 0.2639771103858948, Accuracy: 0.8125\n",
            "Epoch 20, Loss: 0.3876365125179291, Accuracy: 0.75\n",
            "Epoch 20, Loss: 0.41598790884017944, Accuracy: 0.6875\n",
            "Epoch 20, Loss: 0.3693842887878418, Accuracy: 0.6875\n",
            "Epoch 20, Loss: 0.27130696177482605, Accuracy: 0.84375\n",
            "Epoch 20, Loss: 0.40956979990005493, Accuracy: 0.6875\n",
            "Epoch 20, Loss: 0.2657843232154846, Accuracy: 0.8125\n",
            "Epoch 20, Loss: 0.39204803109169006, Accuracy: 0.71875\n",
            "Epoch 20, Loss: 0.26590895652770996, Accuracy: 0.8125\n",
            "Epoch 20, Loss: 0.2866174280643463, Accuracy: 0.875\n",
            "Epoch 20, Loss: 0.3944959342479706, Accuracy: 0.625\n",
            "Epoch 20, Loss: 0.2165220081806183, Accuracy: 0.875\n",
            "Epoch 20, Loss: 0.3239896595478058, Accuracy: 0.84375\n",
            "Epoch 20, Loss: 0.32816919684410095, Accuracy: 0.6875\n",
            "Epoch 20, Loss: 0.26660865545272827, Accuracy: 0.78125\n",
            "Epoch 20, Loss: 0.28176820278167725, Accuracy: 0.8125\n",
            "Epoch 20, Loss: 0.24522611498832703, Accuracy: 0.875\n",
            "Epoch 20, Loss: 0.4347376525402069, Accuracy: 0.75\n",
            "Epoch 20, Loss: 0.3313237726688385, Accuracy: 0.71875\n",
            "Epoch 20, Loss: 0.38190513849258423, Accuracy: 0.65625\n",
            "Epoch 20, Loss: 0.2557581961154938, Accuracy: 0.8125\n",
            "Epoch 20, Loss: 0.26139602065086365, Accuracy: 0.78125\n",
            "Epoch 20, Loss: 0.26290497183799744, Accuracy: 0.8125\n",
            "Epoch 20, Loss: 0.29257673025131226, Accuracy: 0.71875\n",
            "Epoch 20, Loss: 0.18870043754577637, Accuracy: 0.84375\n",
            "Epoch 20, Loss: 0.2599448561668396, Accuracy: 0.8125\n",
            "Epoch 20, Loss: 0.34544914960861206, Accuracy: 0.75\n",
            " 3/12 [======>.......................] - ETA: 0s - loss: 0.8916 - accuracy: 0.6875"
          ]
        },
        {
          "name": "stderr",
          "output_type": "stream",
          "text": [
            "2024-05-05 05:56:08.256125: W tensorflow/core/framework/local_rendezvous.cc:404] Local rendezvous is aborting with status: OUT_OF_RANGE: End of sequence\n"
          ]
        },
        {
          "name": "stdout",
          "output_type": "stream",
          "text": [
            "12/12 [==============================] - 1s 40ms/step - loss: 0.8846 - accuracy: 0.6975\n",
            "Epoch 21, Loss: 0.3281913101673126, Accuracy: 0.78125\n",
            "Epoch 21, Loss: 0.35259485244750977, Accuracy: 0.75\n",
            "Epoch 21, Loss: 0.24369081854820251, Accuracy: 0.875\n",
            "Epoch 21, Loss: 0.3983595371246338, Accuracy: 0.78125\n",
            "Epoch 21, Loss: 0.28851044178009033, Accuracy: 0.8125\n",
            "Epoch 21, Loss: 0.21661320328712463, Accuracy: 0.84375\n",
            "Epoch 21, Loss: 0.4829217791557312, Accuracy: 0.65625\n",
            "Epoch 21, Loss: 0.3172536790370941, Accuracy: 0.75\n",
            "Epoch 21, Loss: 0.2936180531978607, Accuracy: 0.75\n",
            "Epoch 21, Loss: 0.3474675416946411, Accuracy: 0.78125\n",
            "Epoch 21, Loss: 0.24245469272136688, Accuracy: 0.875\n",
            "Epoch 21, Loss: 0.29825660586357117, Accuracy: 0.8125\n",
            "Epoch 21, Loss: 0.24472133815288544, Accuracy: 0.875\n",
            "Epoch 21, Loss: 0.24590465426445007, Accuracy: 0.875\n",
            "Epoch 21, Loss: 0.29621198773384094, Accuracy: 0.8125\n",
            "Epoch 21, Loss: 0.3243423402309418, Accuracy: 0.84375\n",
            "Epoch 21, Loss: 0.3279460668563843, Accuracy: 0.75\n",
            "Epoch 21, Loss: 0.2360355257987976, Accuracy: 0.84375\n",
            "Epoch 21, Loss: 0.3042079508304596, Accuracy: 0.71875\n",
            "Epoch 21, Loss: 0.27029410004615784, Accuracy: 0.8125\n",
            "Epoch 21, Loss: 0.43056899309158325, Accuracy: 0.71875\n",
            "Epoch 21, Loss: 0.34390679001808167, Accuracy: 0.8125\n",
            "Epoch 21, Loss: 0.34232187271118164, Accuracy: 0.78125\n",
            "Epoch 21, Loss: 0.3429104685783386, Accuracy: 0.75\n",
            "Epoch 21, Loss: 0.237143412232399, Accuracy: 0.8125\n",
            "Epoch 21, Loss: 0.2912488281726837, Accuracy: 0.78125\n",
            "Epoch 21, Loss: 0.29420533776283264, Accuracy: 0.84375\n",
            "Epoch 21, Loss: 0.1962936818599701, Accuracy: 0.875\n",
            "Epoch 21, Loss: 0.265970915555954, Accuracy: 0.8125\n",
            "Epoch 21, Loss: 0.3523549735546112, Accuracy: 0.75\n",
            "Epoch 21, Loss: 0.32683196663856506, Accuracy: 0.75\n",
            "Epoch 21, Loss: 0.35195523500442505, Accuracy: 0.78125\n",
            "Epoch 21, Loss: 0.3387247920036316, Accuracy: 0.65625\n",
            "Epoch 21, Loss: 0.3673308789730072, Accuracy: 0.71875\n",
            "Epoch 21, Loss: 0.35128548741340637, Accuracy: 0.75\n",
            "Epoch 21, Loss: 0.5231974124908447, Accuracy: 0.65625\n",
            "Epoch 21, Loss: 0.26950564980506897, Accuracy: 0.75\n",
            "Epoch 21, Loss: 0.32596227526664734, Accuracy: 0.71875\n",
            "Epoch 21, Loss: 0.382460355758667, Accuracy: 0.78125\n",
            "Epoch 21, Loss: 0.32308852672576904, Accuracy: 0.71875\n",
            "Epoch 21, Loss: 0.27316203713417053, Accuracy: 0.84375\n",
            "Epoch 21, Loss: 0.36995741724967957, Accuracy: 0.6875\n",
            "Epoch 21, Loss: 0.34017184376716614, Accuracy: 0.8125\n",
            "Epoch 21, Loss: 0.1999010443687439, Accuracy: 0.875\n",
            "Epoch 21, Loss: 0.24800336360931396, Accuracy: 0.8125\n",
            "Epoch 21, Loss: 0.2392059862613678, Accuracy: 0.8125\n",
            "Epoch 21, Loss: 0.2805578410625458, Accuracy: 0.8125\n",
            "Epoch 21, Loss: 0.2130497395992279, Accuracy: 0.84375\n",
            "Epoch 21, Loss: 0.27815353870391846, Accuracy: 0.75\n",
            "Epoch 21, Loss: 0.3770250380039215, Accuracy: 0.78125\n",
            "Epoch 21, Loss: 0.3475746810436249, Accuracy: 0.75\n",
            "Epoch 21, Loss: 0.2875194251537323, Accuracy: 0.84375\n",
            "Epoch 21, Loss: 0.3346739113330841, Accuracy: 0.78125\n",
            "Epoch 21, Loss: 0.3056706190109253, Accuracy: 0.8125\n",
            "Epoch 21, Loss: 0.22445619106292725, Accuracy: 0.8125\n",
            "Epoch 21, Loss: 0.26490068435668945, Accuracy: 0.8125\n",
            "Epoch 21, Loss: 0.26368075609207153, Accuracy: 0.84375\n",
            "Epoch 21, Loss: 0.28776049613952637, Accuracy: 0.8125\n",
            "Epoch 21, Loss: 0.24216118454933167, Accuracy: 0.8125\n",
            "Epoch 21, Loss: 0.39670586585998535, Accuracy: 0.65625\n",
            "Epoch 21, Loss: 0.22577707469463348, Accuracy: 0.84375\n",
            "Epoch 21, Loss: 0.2328394055366516, Accuracy: 0.84375\n",
            "Epoch 21, Loss: 0.24098385870456696, Accuracy: 0.84375\n",
            "Epoch 21, Loss: 0.39336973428726196, Accuracy: 0.71875\n",
            "Epoch 21, Loss: 0.20257443189620972, Accuracy: 0.90625\n",
            "Epoch 21, Loss: 0.2581569254398346, Accuracy: 0.875\n",
            "Epoch 21, Loss: 0.3786258399486542, Accuracy: 0.75\n",
            "Epoch 21, Loss: 0.40289410948753357, Accuracy: 0.6875\n",
            "Epoch 21, Loss: 0.36042797565460205, Accuracy: 0.6875\n",
            "Epoch 21, Loss: 0.27061259746551514, Accuracy: 0.84375\n",
            "Epoch 21, Loss: 0.4052892327308655, Accuracy: 0.6875\n",
            "Epoch 21, Loss: 0.27107977867126465, Accuracy: 0.8125\n",
            "Epoch 21, Loss: 0.3862934708595276, Accuracy: 0.71875\n",
            "Epoch 21, Loss: 0.25867584347724915, Accuracy: 0.8125\n",
            "Epoch 21, Loss: 0.2881610095500946, Accuracy: 0.875\n",
            "Epoch 21, Loss: 0.3843702971935272, Accuracy: 0.71875\n",
            "Epoch 21, Loss: 0.21304547786712646, Accuracy: 0.875\n",
            "Epoch 21, Loss: 0.32508307695388794, Accuracy: 0.84375\n",
            "Epoch 21, Loss: 0.3256678283214569, Accuracy: 0.6875\n",
            "Epoch 21, Loss: 0.25960952043533325, Accuracy: 0.8125\n",
            "Epoch 21, Loss: 0.2783850133419037, Accuracy: 0.8125\n",
            "Epoch 21, Loss: 0.24680498242378235, Accuracy: 0.875\n",
            "Epoch 21, Loss: 0.43211063742637634, Accuracy: 0.75\n",
            "Epoch 21, Loss: 0.33073005080223083, Accuracy: 0.75\n",
            "Epoch 21, Loss: 0.36973837018013, Accuracy: 0.65625\n",
            "Epoch 21, Loss: 0.25192299485206604, Accuracy: 0.8125\n",
            "Epoch 21, Loss: 0.2636864483356476, Accuracy: 0.78125\n",
            "Epoch 21, Loss: 0.2596980035305023, Accuracy: 0.8125\n",
            "Epoch 21, Loss: 0.2837611734867096, Accuracy: 0.6875\n",
            "Epoch 21, Loss: 0.18685166537761688, Accuracy: 0.84375\n",
            "Epoch 21, Loss: 0.2540801763534546, Accuracy: 0.8125\n",
            "Epoch 21, Loss: 0.33307817578315735, Accuracy: 0.75\n",
            " 3/12 [======>.......................] - ETA: 0s - loss: 0.8973 - accuracy: 0.6875"
          ]
        },
        {
          "name": "stderr",
          "output_type": "stream",
          "text": [
            "2024-05-05 05:57:19.674788: W tensorflow/core/framework/local_rendezvous.cc:404] Local rendezvous is aborting with status: OUT_OF_RANGE: End of sequence\n"
          ]
        },
        {
          "name": "stdout",
          "output_type": "stream",
          "text": [
            "12/12 [==============================] - 1s 41ms/step - loss: 0.8785 - accuracy: 0.6948\n",
            "Epoch 22, Loss: 0.31728991866111755, Accuracy: 0.78125\n",
            "Epoch 22, Loss: 0.35332125425338745, Accuracy: 0.75\n",
            "Epoch 22, Loss: 0.24372725188732147, Accuracy: 0.875\n",
            "Epoch 22, Loss: 0.3799717426300049, Accuracy: 0.78125\n",
            "Epoch 22, Loss: 0.2860736846923828, Accuracy: 0.78125\n",
            "Epoch 22, Loss: 0.20840738713741302, Accuracy: 0.84375\n",
            "Epoch 22, Loss: 0.479726105928421, Accuracy: 0.65625\n",
            "Epoch 22, Loss: 0.3120536506175995, Accuracy: 0.75\n",
            "Epoch 22, Loss: 0.29291537404060364, Accuracy: 0.71875\n",
            "Epoch 22, Loss: 0.3532036542892456, Accuracy: 0.8125\n",
            "Epoch 22, Loss: 0.23236586153507233, Accuracy: 0.875\n",
            "Epoch 22, Loss: 0.28682973980903625, Accuracy: 0.8125\n",
            "Epoch 22, Loss: 0.2417697012424469, Accuracy: 0.84375\n",
            "Epoch 22, Loss: 0.24206121265888214, Accuracy: 0.875\n",
            "Epoch 22, Loss: 0.29181307554244995, Accuracy: 0.84375\n",
            "Epoch 22, Loss: 0.31331318616867065, Accuracy: 0.875\n",
            "Epoch 22, Loss: 0.3240174949169159, Accuracy: 0.71875\n",
            "Epoch 22, Loss: 0.225249245762825, Accuracy: 0.84375\n",
            "Epoch 22, Loss: 0.30138564109802246, Accuracy: 0.71875\n",
            "Epoch 22, Loss: 0.26021242141723633, Accuracy: 0.8125\n",
            "Epoch 22, Loss: 0.41309577226638794, Accuracy: 0.71875\n",
            "Epoch 22, Loss: 0.33724626898765564, Accuracy: 0.8125\n",
            "Epoch 22, Loss: 0.3421495854854584, Accuracy: 0.78125\n",
            "Epoch 22, Loss: 0.33205944299697876, Accuracy: 0.75\n",
            "Epoch 22, Loss: 0.2340545952320099, Accuracy: 0.8125\n",
            "Epoch 22, Loss: 0.28723475337028503, Accuracy: 0.78125\n",
            "Epoch 22, Loss: 0.29153841733932495, Accuracy: 0.84375\n",
            "Epoch 22, Loss: 0.1901179999113083, Accuracy: 0.90625\n",
            "Epoch 22, Loss: 0.26176759600639343, Accuracy: 0.8125\n",
            "Epoch 22, Loss: 0.3513575792312622, Accuracy: 0.71875\n",
            "Epoch 22, Loss: 0.3219357430934906, Accuracy: 0.78125\n",
            "Epoch 22, Loss: 0.3475137948989868, Accuracy: 0.75\n",
            "Epoch 22, Loss: 0.3296492397785187, Accuracy: 0.6875\n",
            "Epoch 22, Loss: 0.3641435205936432, Accuracy: 0.6875\n",
            "Epoch 22, Loss: 0.34463974833488464, Accuracy: 0.75\n",
            "Epoch 22, Loss: 0.5204675197601318, Accuracy: 0.65625\n",
            "Epoch 22, Loss: 0.2675217092037201, Accuracy: 0.78125\n",
            "Epoch 22, Loss: 0.3250879943370819, Accuracy: 0.71875\n",
            "Epoch 22, Loss: 0.38781461119651794, Accuracy: 0.75\n",
            "Epoch 22, Loss: 0.31195002794265747, Accuracy: 0.75\n",
            "Epoch 22, Loss: 0.27263641357421875, Accuracy: 0.84375\n",
            "Epoch 22, Loss: 0.36379319429397583, Accuracy: 0.65625\n",
            "Epoch 22, Loss: 0.339365690946579, Accuracy: 0.8125\n",
            "Epoch 22, Loss: 0.18927349150180817, Accuracy: 0.9375\n",
            "Epoch 22, Loss: 0.24628505110740662, Accuracy: 0.8125\n",
            "Epoch 22, Loss: 0.23648077249526978, Accuracy: 0.8125\n",
            "Epoch 22, Loss: 0.2757948338985443, Accuracy: 0.8125\n",
            "Epoch 22, Loss: 0.20947109162807465, Accuracy: 0.84375\n",
            "Epoch 22, Loss: 0.2694157660007477, Accuracy: 0.78125\n",
            "Epoch 22, Loss: 0.37200209498405457, Accuracy: 0.78125\n",
            "Epoch 22, Loss: 0.34580713510513306, Accuracy: 0.75\n",
            "Epoch 22, Loss: 0.2828603684902191, Accuracy: 0.84375\n",
            "Epoch 22, Loss: 0.33529195189476013, Accuracy: 0.78125\n",
            "Epoch 22, Loss: 0.30097752809524536, Accuracy: 0.8125\n",
            "Epoch 22, Loss: 0.21752633154392242, Accuracy: 0.8125\n",
            "Epoch 22, Loss: 0.2607904374599457, Accuracy: 0.8125\n",
            "Epoch 22, Loss: 0.25145184993743896, Accuracy: 0.84375\n",
            "Epoch 22, Loss: 0.2787151336669922, Accuracy: 0.8125\n",
            "Epoch 22, Loss: 0.23643873631954193, Accuracy: 0.78125\n",
            "Epoch 22, Loss: 0.3949267864227295, Accuracy: 0.65625\n",
            "Epoch 22, Loss: 0.22079262137413025, Accuracy: 0.84375\n",
            "Epoch 22, Loss: 0.22964441776275635, Accuracy: 0.84375\n",
            "Epoch 22, Loss: 0.23966851830482483, Accuracy: 0.84375\n",
            "Epoch 22, Loss: 0.3861684501171112, Accuracy: 0.71875\n",
            "Epoch 22, Loss: 0.20021796226501465, Accuracy: 0.90625\n",
            "Epoch 22, Loss: 0.25919702649116516, Accuracy: 0.875\n",
            "Epoch 22, Loss: 0.38223737478256226, Accuracy: 0.75\n",
            "Epoch 22, Loss: 0.39712703227996826, Accuracy: 0.6875\n",
            "Epoch 22, Loss: 0.3504471182823181, Accuracy: 0.6875\n",
            "Epoch 22, Loss: 0.2702421545982361, Accuracy: 0.8125\n",
            "Epoch 22, Loss: 0.4070545434951782, Accuracy: 0.6875\n",
            "Epoch 22, Loss: 0.26766520738601685, Accuracy: 0.8125\n",
            "Epoch 22, Loss: 0.3808552622795105, Accuracy: 0.71875\n",
            "Epoch 22, Loss: 0.25666049122810364, Accuracy: 0.8125\n",
            "Epoch 22, Loss: 0.28585007786750793, Accuracy: 0.875\n",
            "Epoch 22, Loss: 0.3757209777832031, Accuracy: 0.75\n",
            "Epoch 22, Loss: 0.21060754358768463, Accuracy: 0.875\n",
            "Epoch 22, Loss: 0.32564684748649597, Accuracy: 0.84375\n",
            "Epoch 22, Loss: 0.31660211086273193, Accuracy: 0.6875\n",
            "Epoch 22, Loss: 0.2625674903392792, Accuracy: 0.8125\n",
            "Epoch 22, Loss: 0.27125710248947144, Accuracy: 0.84375\n",
            "Epoch 22, Loss: 0.24089133739471436, Accuracy: 0.875\n",
            "Epoch 22, Loss: 0.4210803210735321, Accuracy: 0.75\n",
            "Epoch 22, Loss: 0.3265434801578522, Accuracy: 0.71875\n",
            "Epoch 22, Loss: 0.367698073387146, Accuracy: 0.65625\n",
            "Epoch 22, Loss: 0.2479659616947174, Accuracy: 0.84375\n",
            "Epoch 22, Loss: 0.2652415335178375, Accuracy: 0.78125\n",
            "Epoch 22, Loss: 0.25546297430992126, Accuracy: 0.84375\n",
            "Epoch 22, Loss: 0.27647942304611206, Accuracy: 0.75\n",
            "Epoch 22, Loss: 0.184548482298851, Accuracy: 0.875\n",
            "Epoch 22, Loss: 0.25269004702568054, Accuracy: 0.8125\n",
            "Epoch 22, Loss: 0.3253614902496338, Accuracy: 0.75\n",
            " 3/12 [======>.......................] - ETA: 0s - loss: 0.9591 - accuracy: 0.6562"
          ]
        },
        {
          "name": "stderr",
          "output_type": "stream",
          "text": [
            "2024-05-05 05:58:33.067357: W tensorflow/core/framework/local_rendezvous.cc:404] Local rendezvous is aborting with status: OUT_OF_RANGE: End of sequence\n"
          ]
        },
        {
          "name": "stdout",
          "output_type": "stream",
          "text": [
            "12/12 [==============================] - 1s 41ms/step - loss: 0.9505 - accuracy: 0.6703\n",
            "Epoch 23, Loss: 0.3109961152076721, Accuracy: 0.78125\n",
            "Epoch 23, Loss: 0.3551501929759979, Accuracy: 0.75\n",
            "Epoch 23, Loss: 0.24285423755645752, Accuracy: 0.875\n",
            "Epoch 23, Loss: 0.36965349316596985, Accuracy: 0.78125\n",
            "Epoch 23, Loss: 0.28608354926109314, Accuracy: 0.8125\n",
            "Epoch 23, Loss: 0.2049497812986374, Accuracy: 0.90625\n",
            "Epoch 23, Loss: 0.48238274455070496, Accuracy: 0.6875\n",
            "Epoch 23, Loss: 0.312468945980072, Accuracy: 0.78125\n",
            "Epoch 23, Loss: 0.28671127557754517, Accuracy: 0.75\n",
            "Epoch 23, Loss: 0.35045939683914185, Accuracy: 0.8125\n",
            "Epoch 23, Loss: 0.22240377962589264, Accuracy: 0.875\n",
            "Epoch 23, Loss: 0.2772792875766754, Accuracy: 0.8125\n",
            "Epoch 23, Loss: 0.23725424706935883, Accuracy: 0.875\n",
            "Epoch 23, Loss: 0.23297561705112457, Accuracy: 0.875\n",
            "Epoch 23, Loss: 0.2838583290576935, Accuracy: 0.84375\n",
            "Epoch 23, Loss: 0.3062456548213959, Accuracy: 0.875\n",
            "Epoch 23, Loss: 0.325634628534317, Accuracy: 0.6875\n",
            "Epoch 23, Loss: 0.21878249943256378, Accuracy: 0.875\n",
            "Epoch 23, Loss: 0.29987412691116333, Accuracy: 0.78125\n",
            "Epoch 23, Loss: 0.2598218321800232, Accuracy: 0.8125\n",
            "Epoch 23, Loss: 0.4014708697795868, Accuracy: 0.71875\n",
            "Epoch 23, Loss: 0.33485597372055054, Accuracy: 0.8125\n",
            "Epoch 23, Loss: 0.3425048291683197, Accuracy: 0.78125\n",
            "Epoch 23, Loss: 0.3238890469074249, Accuracy: 0.78125\n",
            "Epoch 23, Loss: 0.2324076145887375, Accuracy: 0.8125\n",
            "Epoch 23, Loss: 0.2835991382598877, Accuracy: 0.78125\n",
            "Epoch 23, Loss: 0.2892758846282959, Accuracy: 0.875\n",
            "Epoch 23, Loss: 0.1856832504272461, Accuracy: 0.9375\n",
            "Epoch 23, Loss: 0.26364877820014954, Accuracy: 0.8125\n",
            "Epoch 23, Loss: 0.35727328062057495, Accuracy: 0.71875\n",
            "Epoch 23, Loss: 0.3109605014324188, Accuracy: 0.78125\n",
            "Epoch 23, Loss: 0.34161779284477234, Accuracy: 0.75\n",
            "Epoch 23, Loss: 0.33065906167030334, Accuracy: 0.65625\n",
            "Epoch 23, Loss: 0.3738056421279907, Accuracy: 0.625\n",
            "Epoch 23, Loss: 0.35672900080680847, Accuracy: 0.75\n",
            "Epoch 23, Loss: 0.5153862237930298, Accuracy: 0.625\n",
            "Epoch 23, Loss: 0.2644045054912567, Accuracy: 0.78125\n",
            "Epoch 23, Loss: 0.3302907645702362, Accuracy: 0.75\n",
            "Epoch 23, Loss: 0.3807753920555115, Accuracy: 0.78125\n",
            "Epoch 23, Loss: 0.30898362398147583, Accuracy: 0.75\n",
            "Epoch 23, Loss: 0.25399255752563477, Accuracy: 0.84375\n",
            "Epoch 23, Loss: 0.36904361844062805, Accuracy: 0.65625\n",
            "Epoch 23, Loss: 0.3533787131309509, Accuracy: 0.8125\n",
            "Epoch 23, Loss: 0.18172673881053925, Accuracy: 0.90625\n",
            "Epoch 23, Loss: 0.24963194131851196, Accuracy: 0.8125\n",
            "Epoch 23, Loss: 0.24819810688495636, Accuracy: 0.8125\n",
            "Epoch 23, Loss: 0.2770880460739136, Accuracy: 0.75\n",
            "Epoch 23, Loss: 0.2079763263463974, Accuracy: 0.84375\n",
            "Epoch 23, Loss: 0.2633153796195984, Accuracy: 0.78125\n",
            "Epoch 23, Loss: 0.36951136589050293, Accuracy: 0.78125\n",
            "Epoch 23, Loss: 0.3472946286201477, Accuracy: 0.75\n",
            "Epoch 23, Loss: 0.2850477993488312, Accuracy: 0.8125\n",
            "Epoch 23, Loss: 0.33803310990333557, Accuracy: 0.78125\n",
            "Epoch 23, Loss: 0.293337881565094, Accuracy: 0.8125\n",
            "Epoch 23, Loss: 0.2148880511522293, Accuracy: 0.8125\n",
            "Epoch 23, Loss: 0.25609031319618225, Accuracy: 0.8125\n",
            "Epoch 23, Loss: 0.24105899035930634, Accuracy: 0.8125\n",
            "Epoch 23, Loss: 0.27554941177368164, Accuracy: 0.8125\n",
            "Epoch 23, Loss: 0.2313433289527893, Accuracy: 0.78125\n",
            "Epoch 23, Loss: 0.3873208165168762, Accuracy: 0.65625\n",
            "Epoch 23, Loss: 0.21888548135757446, Accuracy: 0.84375\n",
            "Epoch 23, Loss: 0.23968134820461273, Accuracy: 0.84375\n",
            "Epoch 23, Loss: 0.23781394958496094, Accuracy: 0.84375\n",
            "Epoch 23, Loss: 0.38302573561668396, Accuracy: 0.65625\n",
            "Epoch 23, Loss: 0.20061840116977692, Accuracy: 0.90625\n",
            "Epoch 23, Loss: 0.2615903913974762, Accuracy: 0.875\n",
            "Epoch 23, Loss: 0.3709270656108856, Accuracy: 0.71875\n",
            "Epoch 23, Loss: 0.3858177065849304, Accuracy: 0.6875\n",
            "Epoch 23, Loss: 0.34352347254753113, Accuracy: 0.71875\n",
            "Epoch 23, Loss: 0.2718313932418823, Accuracy: 0.8125\n",
            "Epoch 23, Loss: 0.4092922508716583, Accuracy: 0.65625\n",
            "Epoch 23, Loss: 0.25883400440216064, Accuracy: 0.78125\n",
            "Epoch 23, Loss: 0.3757290244102478, Accuracy: 0.71875\n",
            "Epoch 23, Loss: 0.25547146797180176, Accuracy: 0.8125\n",
            "Epoch 23, Loss: 0.2842636704444885, Accuracy: 0.875\n",
            "Epoch 23, Loss: 0.36684325337409973, Accuracy: 0.75\n",
            "Epoch 23, Loss: 0.2064833641052246, Accuracy: 0.875\n",
            "Epoch 23, Loss: 0.32319140434265137, Accuracy: 0.84375\n",
            "Epoch 23, Loss: 0.31303778290748596, Accuracy: 0.6875\n",
            "Epoch 23, Loss: 0.2606908082962036, Accuracy: 0.75\n",
            "Epoch 23, Loss: 0.2719116806983948, Accuracy: 0.84375\n",
            "Epoch 23, Loss: 0.24106507003307343, Accuracy: 0.84375\n",
            "Epoch 23, Loss: 0.4284864068031311, Accuracy: 0.75\n",
            "Epoch 23, Loss: 0.3246458172798157, Accuracy: 0.6875\n",
            "Epoch 23, Loss: 0.3607260286808014, Accuracy: 0.6875\n",
            "Epoch 23, Loss: 0.2467358559370041, Accuracy: 0.84375\n",
            "Epoch 23, Loss: 0.2668829560279846, Accuracy: 0.78125\n",
            "Epoch 23, Loss: 0.2489384412765503, Accuracy: 0.875\n",
            "Epoch 23, Loss: 0.2692895531654358, Accuracy: 0.75\n",
            "Epoch 23, Loss: 0.1813342571258545, Accuracy: 0.875\n",
            "Epoch 23, Loss: 0.2504408359527588, Accuracy: 0.8125\n",
            "Epoch 23, Loss: 0.32560810446739197, Accuracy: 0.75\n",
            " 3/12 [======>.......................] - ETA: 0s - loss: 0.8961 - accuracy: 0.6875"
          ]
        },
        {
          "name": "stderr",
          "output_type": "stream",
          "text": [
            "2024-05-05 05:59:49.211946: W tensorflow/core/framework/local_rendezvous.cc:404] Local rendezvous is aborting with status: OUT_OF_RANGE: End of sequence\n"
          ]
        },
        {
          "name": "stdout",
          "output_type": "stream",
          "text": [
            "12/12 [==============================] - 1s 43ms/step - loss: 0.8587 - accuracy: 0.7112\n",
            "Epoch 24, Loss: 0.30614224076271057, Accuracy: 0.78125\n",
            "Epoch 24, Loss: 0.3450333774089813, Accuracy: 0.75\n",
            "Epoch 24, Loss: 0.2431776076555252, Accuracy: 0.875\n",
            "Epoch 24, Loss: 0.3577459156513214, Accuracy: 0.8125\n",
            "Epoch 24, Loss: 0.27587100863456726, Accuracy: 0.84375\n",
            "Epoch 24, Loss: 0.19968661665916443, Accuracy: 0.875\n",
            "Epoch 24, Loss: 0.48161306977272034, Accuracy: 0.71875\n",
            "Epoch 24, Loss: 0.31135785579681396, Accuracy: 0.75\n",
            "Epoch 24, Loss: 0.2838742136955261, Accuracy: 0.78125\n",
            "Epoch 24, Loss: 0.341918021440506, Accuracy: 0.8125\n",
            "Epoch 24, Loss: 0.21316704154014587, Accuracy: 0.875\n",
            "Epoch 24, Loss: 0.27361083030700684, Accuracy: 0.78125\n",
            "Epoch 24, Loss: 0.23681652545928955, Accuracy: 0.875\n",
            "Epoch 24, Loss: 0.22843320667743683, Accuracy: 0.90625\n",
            "Epoch 24, Loss: 0.27845239639282227, Accuracy: 0.84375\n",
            "Epoch 24, Loss: 0.3005291521549225, Accuracy: 0.875\n",
            "Epoch 24, Loss: 0.3183242678642273, Accuracy: 0.75\n",
            "Epoch 24, Loss: 0.21328575909137726, Accuracy: 0.875\n",
            "Epoch 24, Loss: 0.294243186712265, Accuracy: 0.78125\n",
            "Epoch 24, Loss: 0.25553658604621887, Accuracy: 0.8125\n",
            "Epoch 24, Loss: 0.38820880651474, Accuracy: 0.71875\n",
            "Epoch 24, Loss: 0.32960379123687744, Accuracy: 0.78125\n",
            "Epoch 24, Loss: 0.34026357531547546, Accuracy: 0.78125\n",
            "Epoch 24, Loss: 0.32096055150032043, Accuracy: 0.78125\n",
            "Epoch 24, Loss: 0.23106592893600464, Accuracy: 0.8125\n",
            "Epoch 24, Loss: 0.27979737520217896, Accuracy: 0.78125\n",
            "Epoch 24, Loss: 0.2863862216472626, Accuracy: 0.875\n",
            "Epoch 24, Loss: 0.18045417964458466, Accuracy: 0.90625\n",
            "Epoch 24, Loss: 0.2654004693031311, Accuracy: 0.8125\n",
            "Epoch 24, Loss: 0.348476380109787, Accuracy: 0.71875\n",
            "Epoch 24, Loss: 0.3043679893016815, Accuracy: 0.8125\n",
            "Epoch 24, Loss: 0.3348657488822937, Accuracy: 0.75\n",
            "Epoch 24, Loss: 0.3388550281524658, Accuracy: 0.65625\n",
            "Epoch 24, Loss: 0.3778567314147949, Accuracy: 0.65625\n",
            "Epoch 24, Loss: 0.36198949813842773, Accuracy: 0.75\n",
            "Epoch 24, Loss: 0.5006648898124695, Accuracy: 0.625\n",
            "Epoch 24, Loss: 0.2612592577934265, Accuracy: 0.8125\n",
            "Epoch 24, Loss: 0.3301846981048584, Accuracy: 0.75\n",
            "Epoch 24, Loss: 0.3820411264896393, Accuracy: 0.75\n",
            "Epoch 24, Loss: 0.3007265329360962, Accuracy: 0.71875\n",
            "Epoch 24, Loss: 0.2478199601173401, Accuracy: 0.875\n",
            "Epoch 24, Loss: 0.35265639424324036, Accuracy: 0.65625\n",
            "Epoch 24, Loss: 0.3487025797367096, Accuracy: 0.8125\n",
            "Epoch 24, Loss: 0.1755051463842392, Accuracy: 0.90625\n",
            "Epoch 24, Loss: 0.25495225191116333, Accuracy: 0.8125\n",
            "Epoch 24, Loss: 0.25776544213294983, Accuracy: 0.8125\n",
            "Epoch 24, Loss: 0.2785715162754059, Accuracy: 0.78125\n",
            "Epoch 24, Loss: 0.19950351119041443, Accuracy: 0.875\n",
            "Epoch 24, Loss: 0.251762330532074, Accuracy: 0.78125\n",
            "Epoch 24, Loss: 0.36157432198524475, Accuracy: 0.75\n",
            "Epoch 24, Loss: 0.3477746546268463, Accuracy: 0.78125\n",
            "Epoch 24, Loss: 0.29096099734306335, Accuracy: 0.8125\n",
            "Epoch 24, Loss: 0.3340000510215759, Accuracy: 0.78125\n",
            "Epoch 24, Loss: 0.3003978431224823, Accuracy: 0.8125\n",
            "Epoch 24, Loss: 0.21302570402622223, Accuracy: 0.84375\n",
            "Epoch 24, Loss: 0.2519260346889496, Accuracy: 0.8125\n",
            "Epoch 24, Loss: 0.22906289994716644, Accuracy: 0.8125\n",
            "Epoch 24, Loss: 0.27548402547836304, Accuracy: 0.8125\n",
            "Epoch 24, Loss: 0.23133300244808197, Accuracy: 0.8125\n",
            "Epoch 24, Loss: 0.3908877968788147, Accuracy: 0.6875\n",
            "Epoch 24, Loss: 0.21243669092655182, Accuracy: 0.84375\n",
            "Epoch 24, Loss: 0.23335584998130798, Accuracy: 0.8125\n",
            "Epoch 24, Loss: 0.23917828500270844, Accuracy: 0.78125\n",
            "Epoch 24, Loss: 0.37917348742485046, Accuracy: 0.6875\n",
            "Epoch 24, Loss: 0.20818713307380676, Accuracy: 0.875\n",
            "Epoch 24, Loss: 0.26530689001083374, Accuracy: 0.84375\n",
            "Epoch 24, Loss: 0.3764345049858093, Accuracy: 0.75\n",
            "Epoch 24, Loss: 0.3830166757106781, Accuracy: 0.75\n",
            "Epoch 24, Loss: 0.3410240411758423, Accuracy: 0.71875\n",
            "Epoch 24, Loss: 0.2745092213153839, Accuracy: 0.8125\n",
            "Epoch 24, Loss: 0.4096534252166748, Accuracy: 0.65625\n",
            "Epoch 24, Loss: 0.26584747433662415, Accuracy: 0.8125\n",
            "Epoch 24, Loss: 0.3629835546016693, Accuracy: 0.71875\n",
            "Epoch 24, Loss: 0.25045377016067505, Accuracy: 0.8125\n",
            "Epoch 24, Loss: 0.27412378787994385, Accuracy: 0.875\n",
            "Epoch 24, Loss: 0.3593886196613312, Accuracy: 0.78125\n",
            "Epoch 24, Loss: 0.19732534885406494, Accuracy: 0.875\n",
            "Epoch 24, Loss: 0.3308159410953522, Accuracy: 0.84375\n",
            "Epoch 24, Loss: 0.30821967124938965, Accuracy: 0.6875\n",
            "Epoch 24, Loss: 0.262093186378479, Accuracy: 0.78125\n",
            "Epoch 24, Loss: 0.27188998460769653, Accuracy: 0.8125\n",
            "Epoch 24, Loss: 0.23456640541553497, Accuracy: 0.90625\n",
            "Epoch 24, Loss: 0.4209170639514923, Accuracy: 0.75\n",
            "Epoch 24, Loss: 0.31909242272377014, Accuracy: 0.6875\n",
            "Epoch 24, Loss: 0.3673790395259857, Accuracy: 0.59375\n",
            "Epoch 24, Loss: 0.2373378872871399, Accuracy: 0.90625\n",
            "Epoch 24, Loss: 0.2671360373497009, Accuracy: 0.78125\n",
            "Epoch 24, Loss: 0.24277132749557495, Accuracy: 0.875\n",
            "Epoch 24, Loss: 0.25900283455848694, Accuracy: 0.78125\n",
            "Epoch 24, Loss: 0.17894044518470764, Accuracy: 0.84375\n",
            "Epoch 24, Loss: 0.24118363857269287, Accuracy: 0.8125\n",
            "Epoch 24, Loss: 0.3138894736766815, Accuracy: 0.75\n",
            " 3/12 [======>.......................] - ETA: 0s - loss: 0.8185 - accuracy: 0.7188"
          ]
        },
        {
          "name": "stderr",
          "output_type": "stream",
          "text": [
            "2024-05-05 06:01:06.953372: W tensorflow/core/framework/local_rendezvous.cc:404] Local rendezvous is aborting with status: OUT_OF_RANGE: End of sequence\n"
          ]
        },
        {
          "name": "stdout",
          "output_type": "stream",
          "text": [
            "12/12 [==============================] - 1s 42ms/step - loss: 0.7885 - accuracy: 0.7357\n",
            "Epoch 25, Loss: 0.29950228333473206, Accuracy: 0.8125\n",
            "Epoch 25, Loss: 0.3401840627193451, Accuracy: 0.75\n",
            "Epoch 25, Loss: 0.24052517116069794, Accuracy: 0.875\n",
            "Epoch 25, Loss: 0.3528529703617096, Accuracy: 0.8125\n",
            "Epoch 25, Loss: 0.27167993783950806, Accuracy: 0.84375\n",
            "Epoch 25, Loss: 0.20804141461849213, Accuracy: 0.8125\n",
            "Epoch 25, Loss: 0.4813133776187897, Accuracy: 0.65625\n",
            "Epoch 25, Loss: 0.31158262491226196, Accuracy: 0.75\n",
            "Epoch 25, Loss: 0.2804332375526428, Accuracy: 0.8125\n",
            "Epoch 25, Loss: 0.337059885263443, Accuracy: 0.8125\n",
            "Epoch 25, Loss: 0.206443190574646, Accuracy: 0.875\n",
            "Epoch 25, Loss: 0.2747083902359009, Accuracy: 0.75\n",
            "Epoch 25, Loss: 0.2344551980495453, Accuracy: 0.875\n",
            "Epoch 25, Loss: 0.21995662152767181, Accuracy: 0.90625\n",
            "Epoch 25, Loss: 0.27183669805526733, Accuracy: 0.84375\n",
            "Epoch 25, Loss: 0.29191330075263977, Accuracy: 0.875\n",
            "Epoch 25, Loss: 0.31163689494132996, Accuracy: 0.75\n",
            "Epoch 25, Loss: 0.21361291408538818, Accuracy: 0.875\n",
            "Epoch 25, Loss: 0.2900035083293915, Accuracy: 0.75\n",
            "Epoch 25, Loss: 0.25959059596061707, Accuracy: 0.8125\n",
            "Epoch 25, Loss: 0.3814964294433594, Accuracy: 0.78125\n",
            "Epoch 25, Loss: 0.3350413143634796, Accuracy: 0.78125\n",
            "Epoch 25, Loss: 0.33869507908821106, Accuracy: 0.75\n",
            "Epoch 25, Loss: 0.3265744149684906, Accuracy: 0.75\n",
            "Epoch 25, Loss: 0.2355797439813614, Accuracy: 0.8125\n",
            "Epoch 25, Loss: 0.28089579939842224, Accuracy: 0.75\n",
            "Epoch 25, Loss: 0.28182944655418396, Accuracy: 0.84375\n",
            "Epoch 25, Loss: 0.1749589741230011, Accuracy: 0.90625\n",
            "Epoch 25, Loss: 0.2623484432697296, Accuracy: 0.8125\n",
            "Epoch 25, Loss: 0.32903581857681274, Accuracy: 0.78125\n",
            "Epoch 25, Loss: 0.2948949933052063, Accuracy: 0.8125\n",
            "Epoch 25, Loss: 0.3246265649795532, Accuracy: 0.78125\n",
            "Epoch 25, Loss: 0.32852908968925476, Accuracy: 0.65625\n",
            "Epoch 25, Loss: 0.36492016911506653, Accuracy: 0.6875\n",
            "Epoch 25, Loss: 0.3562879264354706, Accuracy: 0.75\n",
            "Epoch 25, Loss: 0.4762178361415863, Accuracy: 0.625\n",
            "Epoch 25, Loss: 0.2523096799850464, Accuracy: 0.84375\n",
            "Epoch 25, Loss: 0.32220372557640076, Accuracy: 0.78125\n",
            "Epoch 25, Loss: 0.37316858768463135, Accuracy: 0.78125\n",
            "Epoch 25, Loss: 0.28945961594581604, Accuracy: 0.75\n",
            "Epoch 25, Loss: 0.25501778721809387, Accuracy: 0.84375\n",
            "Epoch 25, Loss: 0.34362924098968506, Accuracy: 0.75\n",
            "Epoch 25, Loss: 0.34348350763320923, Accuracy: 0.8125\n",
            "Epoch 25, Loss: 0.17489750683307648, Accuracy: 0.90625\n",
            "Epoch 25, Loss: 0.2470308393239975, Accuracy: 0.8125\n",
            "Epoch 25, Loss: 0.24488279223442078, Accuracy: 0.84375\n",
            "Epoch 25, Loss: 0.2777453362941742, Accuracy: 0.78125\n",
            "Epoch 25, Loss: 0.19625224173069, Accuracy: 0.875\n",
            "Epoch 25, Loss: 0.24289155006408691, Accuracy: 0.84375\n",
            "Epoch 25, Loss: 0.3586824834346771, Accuracy: 0.78125\n",
            "Epoch 25, Loss: 0.34274590015411377, Accuracy: 0.75\n",
            "Epoch 25, Loss: 0.2838115394115448, Accuracy: 0.8125\n",
            "Epoch 25, Loss: 0.33526933193206787, Accuracy: 0.78125\n",
            "Epoch 25, Loss: 0.29288238286972046, Accuracy: 0.8125\n",
            "Epoch 25, Loss: 0.21265821158885956, Accuracy: 0.84375\n",
            "Epoch 25, Loss: 0.247181698679924, Accuracy: 0.8125\n",
            "Epoch 25, Loss: 0.21817660331726074, Accuracy: 0.8125\n",
            "Epoch 25, Loss: 0.2596147954463959, Accuracy: 0.8125\n",
            "Epoch 25, Loss: 0.23413556814193726, Accuracy: 0.78125\n",
            "Epoch 25, Loss: 0.3824229836463928, Accuracy: 0.6875\n",
            "Epoch 25, Loss: 0.21016596257686615, Accuracy: 0.84375\n",
            "Epoch 25, Loss: 0.22635969519615173, Accuracy: 0.8125\n",
            "Epoch 25, Loss: 0.234380304813385, Accuracy: 0.8125\n",
            "Epoch 25, Loss: 0.37288951873779297, Accuracy: 0.71875\n",
            "Epoch 25, Loss: 0.19533883035182953, Accuracy: 0.875\n",
            "Epoch 25, Loss: 0.2619733512401581, Accuracy: 0.84375\n",
            "Epoch 25, Loss: 0.3742106556892395, Accuracy: 0.75\n",
            "Epoch 25, Loss: 0.37165218591690063, Accuracy: 0.78125\n",
            "Epoch 25, Loss: 0.33975669741630554, Accuracy: 0.71875\n",
            "Epoch 25, Loss: 0.26929476857185364, Accuracy: 0.8125\n",
            "Epoch 25, Loss: 0.4001319408416748, Accuracy: 0.65625\n",
            "Epoch 25, Loss: 0.2619021534919739, Accuracy: 0.8125\n",
            "Epoch 25, Loss: 0.3626004159450531, Accuracy: 0.6875\n",
            "Epoch 25, Loss: 0.24295656383037567, Accuracy: 0.84375\n",
            "Epoch 25, Loss: 0.26969555020332336, Accuracy: 0.875\n",
            "Epoch 25, Loss: 0.3488040268421173, Accuracy: 0.78125\n",
            "Epoch 25, Loss: 0.19340252876281738, Accuracy: 0.875\n",
            "Epoch 25, Loss: 0.33156776428222656, Accuracy: 0.8125\n",
            "Epoch 25, Loss: 0.30655530095100403, Accuracy: 0.6875\n",
            "Epoch 25, Loss: 0.26185211539268494, Accuracy: 0.78125\n",
            "Epoch 25, Loss: 0.26869142055511475, Accuracy: 0.8125\n",
            "Epoch 25, Loss: 0.22864897549152374, Accuracy: 0.9375\n",
            "Epoch 25, Loss: 0.4051356613636017, Accuracy: 0.75\n",
            "Epoch 25, Loss: 0.31101059913635254, Accuracy: 0.6875\n",
            "Epoch 25, Loss: 0.3626159727573395, Accuracy: 0.65625\n",
            "Epoch 25, Loss: 0.2315637618303299, Accuracy: 0.90625\n",
            "Epoch 25, Loss: 0.26602280139923096, Accuracy: 0.78125\n",
            "Epoch 25, Loss: 0.2385215312242508, Accuracy: 0.875\n",
            "Epoch 25, Loss: 0.24734735488891602, Accuracy: 0.78125\n",
            "Epoch 25, Loss: 0.17783097922801971, Accuracy: 0.84375\n",
            "Epoch 25, Loss: 0.2374090850353241, Accuracy: 0.8125\n",
            "Epoch 25, Loss: 0.31236326694488525, Accuracy: 0.7083333134651184\n",
            " 3/12 [======>.......................] - ETA: 0s - loss: 0.8498 - accuracy: 0.6979"
          ]
        },
        {
          "name": "stderr",
          "output_type": "stream",
          "text": [
            "2024-05-05 06:02:26.349088: W tensorflow/core/framework/local_rendezvous.cc:404] Local rendezvous is aborting with status: OUT_OF_RANGE: End of sequence\n"
          ]
        },
        {
          "name": "stdout",
          "output_type": "stream",
          "text": [
            "12/12 [==============================] - 1s 44ms/step - loss: 0.8292 - accuracy: 0.7139\n",
            "Epoch 26, Loss: 0.28873857855796814, Accuracy: 0.8125\n",
            "Epoch 26, Loss: 0.3367786407470703, Accuracy: 0.75\n",
            "Epoch 26, Loss: 0.2351803481578827, Accuracy: 0.875\n",
            "Epoch 26, Loss: 0.34552156925201416, Accuracy: 0.8125\n",
            "Epoch 26, Loss: 0.26594623923301697, Accuracy: 0.84375\n",
            "Epoch 26, Loss: 0.19788514077663422, Accuracy: 0.90625\n",
            "Epoch 26, Loss: 0.48146289587020874, Accuracy: 0.6875\n",
            "Epoch 26, Loss: 0.3144255578517914, Accuracy: 0.8125\n",
            "Epoch 26, Loss: 0.27042102813720703, Accuracy: 0.78125\n",
            "Epoch 26, Loss: 0.3221033811569214, Accuracy: 0.8125\n",
            "Epoch 26, Loss: 0.20049919188022614, Accuracy: 0.875\n",
            "Epoch 26, Loss: 0.2742248475551605, Accuracy: 0.8125\n",
            "Epoch 26, Loss: 0.23028653860092163, Accuracy: 0.875\n",
            "Epoch 26, Loss: 0.21670398116111755, Accuracy: 0.90625\n",
            "Epoch 26, Loss: 0.267219603061676, Accuracy: 0.84375\n",
            "Epoch 26, Loss: 0.2829219698905945, Accuracy: 0.875\n",
            "Epoch 26, Loss: 0.31238630414009094, Accuracy: 0.75\n",
            "Epoch 26, Loss: 0.21029777824878693, Accuracy: 0.875\n",
            "Epoch 26, Loss: 0.2810002565383911, Accuracy: 0.78125\n",
            "Epoch 26, Loss: 0.2658871114253998, Accuracy: 0.8125\n",
            "Epoch 26, Loss: 0.3770860731601715, Accuracy: 0.78125\n",
            "Epoch 26, Loss: 0.33345311880111694, Accuracy: 0.78125\n",
            "Epoch 26, Loss: 0.3413980007171631, Accuracy: 0.78125\n",
            "Epoch 26, Loss: 0.32655325531959534, Accuracy: 0.71875\n",
            "Epoch 26, Loss: 0.24273055791854858, Accuracy: 0.8125\n",
            "Epoch 26, Loss: 0.2815948724746704, Accuracy: 0.78125\n",
            "Epoch 26, Loss: 0.28201860189437866, Accuracy: 0.84375\n",
            "Epoch 26, Loss: 0.17332421243190765, Accuracy: 0.875\n",
            "Epoch 26, Loss: 0.25780946016311646, Accuracy: 0.8125\n",
            "Epoch 26, Loss: 0.3174898624420166, Accuracy: 0.78125\n",
            "Epoch 26, Loss: 0.293355792760849, Accuracy: 0.84375\n",
            "Epoch 26, Loss: 0.3173704147338867, Accuracy: 0.78125\n",
            "Epoch 26, Loss: 0.32117050886154175, Accuracy: 0.71875\n",
            "Epoch 26, Loss: 0.3650481104850769, Accuracy: 0.6875\n",
            "Epoch 26, Loss: 0.3518909811973572, Accuracy: 0.75\n",
            "Epoch 26, Loss: 0.4568227231502533, Accuracy: 0.625\n",
            "Epoch 26, Loss: 0.2438037395477295, Accuracy: 0.84375\n",
            "Epoch 26, Loss: 0.3163406550884247, Accuracy: 0.78125\n",
            "Epoch 26, Loss: 0.3754299581050873, Accuracy: 0.78125\n",
            "Epoch 26, Loss: 0.285231351852417, Accuracy: 0.78125\n",
            "Epoch 26, Loss: 0.2602376937866211, Accuracy: 0.875\n",
            "Epoch 26, Loss: 0.33549296855926514, Accuracy: 0.71875\n",
            "Epoch 26, Loss: 0.34095990657806396, Accuracy: 0.84375\n",
            "Epoch 26, Loss: 0.17083482444286346, Accuracy: 0.9375\n",
            "Epoch 26, Loss: 0.238570898771286, Accuracy: 0.84375\n",
            "Epoch 26, Loss: 0.2314785271883011, Accuracy: 0.84375\n",
            "Epoch 26, Loss: 0.2764899432659149, Accuracy: 0.78125\n",
            "Epoch 26, Loss: 0.1913129985332489, Accuracy: 0.875\n",
            "Epoch 26, Loss: 0.24030596017837524, Accuracy: 0.875\n",
            "Epoch 26, Loss: 0.35723981261253357, Accuracy: 0.78125\n",
            "Epoch 26, Loss: 0.3384939134120941, Accuracy: 0.71875\n",
            "Epoch 26, Loss: 0.27998247742652893, Accuracy: 0.8125\n",
            "Epoch 26, Loss: 0.3354980945587158, Accuracy: 0.78125\n",
            "Epoch 26, Loss: 0.2843611538410187, Accuracy: 0.8125\n",
            "Epoch 26, Loss: 0.20465967059135437, Accuracy: 0.875\n",
            "Epoch 26, Loss: 0.24398408830165863, Accuracy: 0.8125\n",
            "Epoch 26, Loss: 0.214569553732872, Accuracy: 0.8125\n",
            "Epoch 26, Loss: 0.24723581969738007, Accuracy: 0.84375\n",
            "Epoch 26, Loss: 0.2287575900554657, Accuracy: 0.78125\n",
            "Epoch 26, Loss: 0.375205934047699, Accuracy: 0.6875\n",
            "Epoch 26, Loss: 0.21075811982154846, Accuracy: 0.84375\n",
            "Epoch 26, Loss: 0.22043204307556152, Accuracy: 0.8125\n",
            "Epoch 26, Loss: 0.23155957460403442, Accuracy: 0.8125\n",
            "Epoch 26, Loss: 0.36101219058036804, Accuracy: 0.75\n",
            "Epoch 26, Loss: 0.18829669058322906, Accuracy: 0.90625\n",
            "Epoch 26, Loss: 0.2541573941707611, Accuracy: 0.84375\n",
            "Epoch 26, Loss: 0.37670788168907166, Accuracy: 0.75\n",
            "Epoch 26, Loss: 0.361165851354599, Accuracy: 0.78125\n",
            "Epoch 26, Loss: 0.33853381872177124, Accuracy: 0.71875\n",
            "Epoch 26, Loss: 0.2642609477043152, Accuracy: 0.8125\n",
            "Epoch 26, Loss: 0.3943404257297516, Accuracy: 0.65625\n",
            "Epoch 26, Loss: 0.26032719016075134, Accuracy: 0.8125\n",
            "Epoch 26, Loss: 0.35647162795066833, Accuracy: 0.71875\n",
            "Epoch 26, Loss: 0.23785392940044403, Accuracy: 0.84375\n",
            "Epoch 26, Loss: 0.26365184783935547, Accuracy: 0.875\n",
            "Epoch 26, Loss: 0.34224170446395874, Accuracy: 0.78125\n",
            "Epoch 26, Loss: 0.18905702233314514, Accuracy: 0.875\n",
            "Epoch 26, Loss: 0.33062809705734253, Accuracy: 0.8125\n",
            "Epoch 26, Loss: 0.30008190870285034, Accuracy: 0.6875\n",
            "Epoch 26, Loss: 0.25562456250190735, Accuracy: 0.8125\n",
            "Epoch 26, Loss: 0.2729676365852356, Accuracy: 0.8125\n",
            "Epoch 26, Loss: 0.2299136370420456, Accuracy: 0.90625\n",
            "Epoch 26, Loss: 0.40186893939971924, Accuracy: 0.75\n",
            "Epoch 26, Loss: 0.3058660626411438, Accuracy: 0.71875\n",
            "Epoch 26, Loss: 0.35901591181755066, Accuracy: 0.6875\n",
            "Epoch 26, Loss: 0.23111416399478912, Accuracy: 0.90625\n",
            "Epoch 26, Loss: 0.26514220237731934, Accuracy: 0.78125\n",
            "Epoch 26, Loss: 0.23439669609069824, Accuracy: 0.875\n",
            "Epoch 26, Loss: 0.23843848705291748, Accuracy: 0.78125\n",
            "Epoch 26, Loss: 0.17462258040905, Accuracy: 0.84375\n",
            "Epoch 26, Loss: 0.23722507059574127, Accuracy: 0.8125\n",
            "Epoch 26, Loss: 0.3077543079853058, Accuracy: 0.7083333134651184\n",
            " 3/12 [======>.......................] - ETA: 0s - loss: 0.8773 - accuracy: 0.6667"
          ]
        },
        {
          "name": "stderr",
          "output_type": "stream",
          "text": [
            "2024-05-05 06:03:46.666345: W tensorflow/core/framework/local_rendezvous.cc:404] Local rendezvous is aborting with status: OUT_OF_RANGE: End of sequence\n"
          ]
        },
        {
          "name": "stdout",
          "output_type": "stream",
          "text": [
            "12/12 [==============================] - 1s 44ms/step - loss: 0.8381 - accuracy: 0.7139\n",
            "Epoch 27, Loss: 0.28502318263053894, Accuracy: 0.8125\n",
            "Epoch 27, Loss: 0.3284528851509094, Accuracy: 0.75\n",
            "Epoch 27, Loss: 0.22947697341442108, Accuracy: 0.875\n",
            "Epoch 27, Loss: 0.3439793586730957, Accuracy: 0.8125\n",
            "Epoch 27, Loss: 0.2583911418914795, Accuracy: 0.84375\n",
            "Epoch 27, Loss: 0.19431829452514648, Accuracy: 0.875\n",
            "Epoch 27, Loss: 0.47897475957870483, Accuracy: 0.6875\n",
            "Epoch 27, Loss: 0.31701841950416565, Accuracy: 0.78125\n",
            "Epoch 27, Loss: 0.26713505387306213, Accuracy: 0.8125\n",
            "Epoch 27, Loss: 0.3102565109729767, Accuracy: 0.78125\n",
            "Epoch 27, Loss: 0.19627036154270172, Accuracy: 0.875\n",
            "Epoch 27, Loss: 0.27507683634757996, Accuracy: 0.8125\n",
            "Epoch 27, Loss: 0.22903689742088318, Accuracy: 0.875\n",
            "Epoch 27, Loss: 0.21538709104061127, Accuracy: 0.90625\n",
            "Epoch 27, Loss: 0.26279914379119873, Accuracy: 0.84375\n",
            "Epoch 27, Loss: 0.2735934853553772, Accuracy: 0.84375\n",
            "Epoch 27, Loss: 0.3048660457134247, Accuracy: 0.75\n",
            "Epoch 27, Loss: 0.20621755719184875, Accuracy: 0.875\n",
            "Epoch 27, Loss: 0.2735729515552521, Accuracy: 0.78125\n",
            "Epoch 27, Loss: 0.2630372941493988, Accuracy: 0.8125\n",
            "Epoch 27, Loss: 0.367722749710083, Accuracy: 0.78125\n",
            "Epoch 27, Loss: 0.32280993461608887, Accuracy: 0.78125\n",
            "Epoch 27, Loss: 0.33724403381347656, Accuracy: 0.78125\n",
            "Epoch 27, Loss: 0.3191966712474823, Accuracy: 0.75\n",
            "Epoch 27, Loss: 0.2378724068403244, Accuracy: 0.8125\n",
            "Epoch 27, Loss: 0.27863654494285583, Accuracy: 0.78125\n",
            "Epoch 27, Loss: 0.2802707552909851, Accuracy: 0.84375\n",
            "Epoch 27, Loss: 0.16882720589637756, Accuracy: 0.875\n",
            "Epoch 27, Loss: 0.25694116950035095, Accuracy: 0.8125\n",
            "Epoch 27, Loss: 0.30361470580101013, Accuracy: 0.8125\n",
            "Epoch 27, Loss: 0.294018417596817, Accuracy: 0.84375\n",
            "Epoch 27, Loss: 0.3124770224094391, Accuracy: 0.78125\n",
            "Epoch 27, Loss: 0.31249260902404785, Accuracy: 0.6875\n",
            "Epoch 27, Loss: 0.3530925214290619, Accuracy: 0.6875\n",
            "Epoch 27, Loss: 0.34292861819267273, Accuracy: 0.75\n",
            "Epoch 27, Loss: 0.44920361042022705, Accuracy: 0.65625\n",
            "Epoch 27, Loss: 0.2392120361328125, Accuracy: 0.84375\n",
            "Epoch 27, Loss: 0.3114069700241089, Accuracy: 0.78125\n",
            "Epoch 27, Loss: 0.3654921352863312, Accuracy: 0.78125\n",
            "Epoch 27, Loss: 0.27874302864074707, Accuracy: 0.78125\n",
            "Epoch 27, Loss: 0.2633700668811798, Accuracy: 0.875\n",
            "Epoch 27, Loss: 0.3290579617023468, Accuracy: 0.71875\n",
            "Epoch 27, Loss: 0.34075790643692017, Accuracy: 0.8125\n",
            "Epoch 27, Loss: 0.16773618757724762, Accuracy: 0.96875\n",
            "Epoch 27, Loss: 0.23188452422618866, Accuracy: 0.8125\n",
            "Epoch 27, Loss: 0.2189987152814865, Accuracy: 0.8125\n",
            "Epoch 27, Loss: 0.27165326476097107, Accuracy: 0.8125\n",
            "Epoch 27, Loss: 0.1887129247188568, Accuracy: 0.875\n",
            "Epoch 27, Loss: 0.232392355799675, Accuracy: 0.90625\n",
            "Epoch 27, Loss: 0.3513358235359192, Accuracy: 0.78125\n",
            "Epoch 27, Loss: 0.33802497386932373, Accuracy: 0.71875\n",
            "Epoch 27, Loss: 0.2658279240131378, Accuracy: 0.8125\n",
            "Epoch 27, Loss: 0.3340107202529907, Accuracy: 0.78125\n",
            "Epoch 27, Loss: 0.276096373796463, Accuracy: 0.8125\n",
            "Epoch 27, Loss: 0.1973848044872284, Accuracy: 0.90625\n",
            "Epoch 27, Loss: 0.24069160223007202, Accuracy: 0.8125\n",
            "Epoch 27, Loss: 0.21389168500900269, Accuracy: 0.84375\n",
            "Epoch 27, Loss: 0.23207607865333557, Accuracy: 0.875\n",
            "Epoch 27, Loss: 0.2254018634557724, Accuracy: 0.78125\n",
            "Epoch 27, Loss: 0.3669557273387909, Accuracy: 0.6875\n",
            "Epoch 27, Loss: 0.21493218839168549, Accuracy: 0.84375\n",
            "Epoch 27, Loss: 0.221994549036026, Accuracy: 0.875\n",
            "Epoch 27, Loss: 0.23284022510051727, Accuracy: 0.84375\n",
            "Epoch 27, Loss: 0.3544417917728424, Accuracy: 0.75\n",
            "Epoch 27, Loss: 0.17968682944774628, Accuracy: 0.90625\n",
            "Epoch 27, Loss: 0.24543818831443787, Accuracy: 0.84375\n",
            "Epoch 27, Loss: 0.36927422881126404, Accuracy: 0.75\n",
            "Epoch 27, Loss: 0.34739115834236145, Accuracy: 0.78125\n",
            "Epoch 27, Loss: 0.3336372673511505, Accuracy: 0.71875\n",
            "Epoch 27, Loss: 0.26396751403808594, Accuracy: 0.8125\n",
            "Epoch 27, Loss: 0.39331725239753723, Accuracy: 0.6875\n",
            "Epoch 27, Loss: 0.2549650967121124, Accuracy: 0.8125\n",
            "Epoch 27, Loss: 0.3502143919467926, Accuracy: 0.71875\n",
            "Epoch 27, Loss: 0.23730790615081787, Accuracy: 0.84375\n",
            "Epoch 27, Loss: 0.2639393210411072, Accuracy: 0.875\n",
            "Epoch 27, Loss: 0.3308884799480438, Accuracy: 0.75\n",
            "Epoch 27, Loss: 0.18741528689861298, Accuracy: 0.875\n",
            "Epoch 27, Loss: 0.3320874273777008, Accuracy: 0.8125\n",
            "Epoch 27, Loss: 0.29966726899147034, Accuracy: 0.6875\n",
            "Epoch 27, Loss: 0.2502749562263489, Accuracy: 0.8125\n",
            "Epoch 27, Loss: 0.27274447679519653, Accuracy: 0.8125\n",
            "Epoch 27, Loss: 0.23349544405937195, Accuracy: 0.875\n",
            "Epoch 27, Loss: 0.3937273323535919, Accuracy: 0.75\n",
            "Epoch 27, Loss: 0.3061324656009674, Accuracy: 0.75\n",
            "Epoch 27, Loss: 0.35091978311538696, Accuracy: 0.6875\n",
            "Epoch 27, Loss: 0.2292889654636383, Accuracy: 0.90625\n",
            "Epoch 27, Loss: 0.2634434998035431, Accuracy: 0.8125\n",
            "Epoch 27, Loss: 0.2362525314092636, Accuracy: 0.875\n",
            "Epoch 27, Loss: 0.2299576699733734, Accuracy: 0.8125\n",
            "Epoch 27, Loss: 0.1687249392271042, Accuracy: 0.84375\n",
            "Epoch 27, Loss: 0.23249579966068268, Accuracy: 0.84375\n",
            "Epoch 27, Loss: 0.3052052855491638, Accuracy: 0.7083333134651184\n",
            " 3/12 [======>.......................] - ETA: 0s - loss: 0.8799 - accuracy: 0.7188"
          ]
        },
        {
          "name": "stderr",
          "output_type": "stream",
          "text": [
            "2024-05-05 06:05:08.094282: W tensorflow/core/framework/local_rendezvous.cc:404] Local rendezvous is aborting with status: OUT_OF_RANGE: End of sequence\n"
          ]
        },
        {
          "name": "stdout",
          "output_type": "stream",
          "text": [
            "12/12 [==============================] - 1s 44ms/step - loss: 0.8606 - accuracy: 0.7193\n",
            "Epoch 28, Loss: 0.28314027190208435, Accuracy: 0.8125\n",
            "Epoch 28, Loss: 0.31833893060684204, Accuracy: 0.75\n",
            "Epoch 28, Loss: 0.22119823098182678, Accuracy: 0.875\n",
            "Epoch 28, Loss: 0.33408525586128235, Accuracy: 0.8125\n",
            "Epoch 28, Loss: 0.25129497051239014, Accuracy: 0.84375\n",
            "Epoch 28, Loss: 0.1894235461950302, Accuracy: 0.875\n",
            "Epoch 28, Loss: 0.478156179189682, Accuracy: 0.6875\n",
            "Epoch 28, Loss: 0.31752946972846985, Accuracy: 0.78125\n",
            "Epoch 28, Loss: 0.2655486464500427, Accuracy: 0.8125\n",
            "Epoch 28, Loss: 0.30153095722198486, Accuracy: 0.8125\n",
            "Epoch 28, Loss: 0.1970118284225464, Accuracy: 0.875\n",
            "Epoch 28, Loss: 0.2764781713485718, Accuracy: 0.84375\n",
            "Epoch 28, Loss: 0.22542878985404968, Accuracy: 0.875\n",
            "Epoch 28, Loss: 0.2174689918756485, Accuracy: 0.90625\n",
            "Epoch 28, Loss: 0.25942713022232056, Accuracy: 0.84375\n",
            "Epoch 28, Loss: 0.2715320587158203, Accuracy: 0.84375\n",
            "Epoch 28, Loss: 0.29423174262046814, Accuracy: 0.78125\n",
            "Epoch 28, Loss: 0.2038605660200119, Accuracy: 0.875\n",
            "Epoch 28, Loss: 0.26763269305229187, Accuracy: 0.8125\n",
            "Epoch 28, Loss: 0.2634086310863495, Accuracy: 0.8125\n",
            "Epoch 28, Loss: 0.36888420581817627, Accuracy: 0.8125\n",
            "Epoch 28, Loss: 0.32059288024902344, Accuracy: 0.78125\n",
            "Epoch 28, Loss: 0.32815226912498474, Accuracy: 0.78125\n",
            "Epoch 28, Loss: 0.31325486302375793, Accuracy: 0.75\n",
            "Epoch 28, Loss: 0.23734897375106812, Accuracy: 0.8125\n",
            "Epoch 28, Loss: 0.276235967874527, Accuracy: 0.78125\n",
            "Epoch 28, Loss: 0.28116375207901, Accuracy: 0.84375\n",
            "Epoch 28, Loss: 0.1634974628686905, Accuracy: 0.875\n",
            "Epoch 28, Loss: 0.2541055381298065, Accuracy: 0.8125\n",
            "Epoch 28, Loss: 0.2934199273586273, Accuracy: 0.84375\n",
            "Epoch 28, Loss: 0.2917083501815796, Accuracy: 0.8125\n",
            "Epoch 28, Loss: 0.31053757667541504, Accuracy: 0.78125\n",
            "Epoch 28, Loss: 0.30550500750541687, Accuracy: 0.71875\n",
            "Epoch 28, Loss: 0.34497207403182983, Accuracy: 0.71875\n",
            "Epoch 28, Loss: 0.34105533361434937, Accuracy: 0.75\n",
            "Epoch 28, Loss: 0.4402652084827423, Accuracy: 0.625\n",
            "Epoch 28, Loss: 0.2364041656255722, Accuracy: 0.84375\n",
            "Epoch 28, Loss: 0.30580154061317444, Accuracy: 0.78125\n",
            "Epoch 28, Loss: 0.3739946484565735, Accuracy: 0.75\n",
            "Epoch 28, Loss: 0.26856523752212524, Accuracy: 0.8125\n",
            "Epoch 28, Loss: 0.26329171657562256, Accuracy: 0.875\n",
            "Epoch 28, Loss: 0.32275936007499695, Accuracy: 0.75\n",
            "Epoch 28, Loss: 0.33580172061920166, Accuracy: 0.8125\n",
            "Epoch 28, Loss: 0.1590985208749771, Accuracy: 0.96875\n",
            "Epoch 28, Loss: 0.23295427858829498, Accuracy: 0.8125\n",
            "Epoch 28, Loss: 0.22165623307228088, Accuracy: 0.8125\n",
            "Epoch 28, Loss: 0.2677140533924103, Accuracy: 0.8125\n",
            "Epoch 28, Loss: 0.1844337284564972, Accuracy: 0.875\n",
            "Epoch 28, Loss: 0.2236742526292801, Accuracy: 0.90625\n",
            "Epoch 28, Loss: 0.35269537568092346, Accuracy: 0.78125\n",
            "Epoch 28, Loss: 0.3369499742984772, Accuracy: 0.71875\n",
            "Epoch 28, Loss: 0.26419201493263245, Accuracy: 0.8125\n",
            "Epoch 28, Loss: 0.32440412044525146, Accuracy: 0.78125\n",
            "Epoch 28, Loss: 0.2679539918899536, Accuracy: 0.84375\n",
            "Epoch 28, Loss: 0.19312459230422974, Accuracy: 0.90625\n",
            "Epoch 28, Loss: 0.2400716245174408, Accuracy: 0.8125\n",
            "Epoch 28, Loss: 0.20972831547260284, Accuracy: 0.8125\n",
            "Epoch 28, Loss: 0.22497425973415375, Accuracy: 0.875\n",
            "Epoch 28, Loss: 0.22754734754562378, Accuracy: 0.78125\n",
            "Epoch 28, Loss: 0.3582393229007721, Accuracy: 0.6875\n",
            "Epoch 28, Loss: 0.20985627174377441, Accuracy: 0.84375\n",
            "Epoch 28, Loss: 0.21777983009815216, Accuracy: 0.875\n",
            "Epoch 28, Loss: 0.23093299567699432, Accuracy: 0.84375\n",
            "Epoch 28, Loss: 0.34727320075035095, Accuracy: 0.75\n",
            "Epoch 28, Loss: 0.17713405191898346, Accuracy: 0.875\n",
            "Epoch 28, Loss: 0.23952500522136688, Accuracy: 0.84375\n",
            "Epoch 28, Loss: 0.3713794946670532, Accuracy: 0.71875\n",
            "Epoch 28, Loss: 0.33887502551078796, Accuracy: 0.78125\n",
            "Epoch 28, Loss: 0.3348897397518158, Accuracy: 0.71875\n",
            "Epoch 28, Loss: 0.2606630027294159, Accuracy: 0.8125\n",
            "Epoch 28, Loss: 0.388365238904953, Accuracy: 0.6875\n",
            "Epoch 28, Loss: 0.2521502375602722, Accuracy: 0.8125\n",
            "Epoch 28, Loss: 0.341266006231308, Accuracy: 0.75\n",
            "Epoch 28, Loss: 0.22609274089336395, Accuracy: 0.875\n",
            "Epoch 28, Loss: 0.25604352355003357, Accuracy: 0.875\n",
            "Epoch 28, Loss: 0.32291868329048157, Accuracy: 0.78125\n",
            "Epoch 28, Loss: 0.18740078806877136, Accuracy: 0.875\n",
            "Epoch 28, Loss: 0.3352948725223541, Accuracy: 0.78125\n",
            "Epoch 28, Loss: 0.29812362790107727, Accuracy: 0.6875\n",
            "Epoch 28, Loss: 0.2454344630241394, Accuracy: 0.75\n",
            "Epoch 28, Loss: 0.2741822302341461, Accuracy: 0.8125\n",
            "Epoch 28, Loss: 0.23491264879703522, Accuracy: 0.875\n",
            "Epoch 28, Loss: 0.38804012537002563, Accuracy: 0.75\n",
            "Epoch 28, Loss: 0.3045598268508911, Accuracy: 0.75\n",
            "Epoch 28, Loss: 0.3484731614589691, Accuracy: 0.75\n",
            "Epoch 28, Loss: 0.22757183015346527, Accuracy: 0.875\n",
            "Epoch 28, Loss: 0.26345571875572205, Accuracy: 0.8125\n",
            "Epoch 28, Loss: 0.23301954567432404, Accuracy: 0.875\n",
            "Epoch 28, Loss: 0.22247715294361115, Accuracy: 0.875\n",
            "Epoch 28, Loss: 0.1664677858352661, Accuracy: 0.84375\n",
            "Epoch 28, Loss: 0.23296944797039032, Accuracy: 0.84375\n",
            "Epoch 28, Loss: 0.30705833435058594, Accuracy: 0.7083333134651184\n",
            " 3/12 [======>.......................] - ETA: 0s - loss: 0.8983 - accuracy: 0.6979"
          ]
        },
        {
          "name": "stderr",
          "output_type": "stream",
          "text": [
            "2024-05-05 06:06:28.959080: W tensorflow/core/framework/local_rendezvous.cc:404] Local rendezvous is aborting with status: OUT_OF_RANGE: End of sequence\n"
          ]
        },
        {
          "name": "stdout",
          "output_type": "stream",
          "text": [
            "12/12 [==============================] - 1s 46ms/step - loss: 0.9119 - accuracy: 0.7057\n",
            "Epoch 29, Loss: 0.27861663699150085, Accuracy: 0.84375\n",
            "Epoch 29, Loss: 0.3042801022529602, Accuracy: 0.75\n",
            "Epoch 29, Loss: 0.2128521353006363, Accuracy: 0.875\n",
            "Epoch 29, Loss: 0.3245592713356018, Accuracy: 0.84375\n",
            "Epoch 29, Loss: 0.24074023962020874, Accuracy: 0.84375\n",
            "Epoch 29, Loss: 0.18239544332027435, Accuracy: 0.875\n",
            "Epoch 29, Loss: 0.4746498465538025, Accuracy: 0.6875\n",
            "Epoch 29, Loss: 0.31607556343078613, Accuracy: 0.78125\n",
            "Epoch 29, Loss: 0.26244133710861206, Accuracy: 0.8125\n",
            "Epoch 29, Loss: 0.28848832845687866, Accuracy: 0.8125\n",
            "Epoch 29, Loss: 0.19259394705295563, Accuracy: 0.875\n",
            "Epoch 29, Loss: 0.2746259570121765, Accuracy: 0.84375\n",
            "Epoch 29, Loss: 0.224887877702713, Accuracy: 0.875\n",
            "Epoch 29, Loss: 0.21695519983768463, Accuracy: 0.9375\n",
            "Epoch 29, Loss: 0.25248777866363525, Accuracy: 0.8125\n",
            "Epoch 29, Loss: 0.26545342803001404, Accuracy: 0.84375\n",
            "Epoch 29, Loss: 0.2843593657016754, Accuracy: 0.8125\n",
            "Epoch 29, Loss: 0.1995731145143509, Accuracy: 0.90625\n",
            "Epoch 29, Loss: 0.26039251685142517, Accuracy: 0.8125\n",
            "Epoch 29, Loss: 0.26317477226257324, Accuracy: 0.78125\n",
            "Epoch 29, Loss: 0.3625556528568268, Accuracy: 0.8125\n",
            "Epoch 29, Loss: 0.3210143446922302, Accuracy: 0.78125\n",
            "Epoch 29, Loss: 0.324825644493103, Accuracy: 0.75\n",
            "Epoch 29, Loss: 0.3069153428077698, Accuracy: 0.75\n",
            "Epoch 29, Loss: 0.23183101415634155, Accuracy: 0.8125\n",
            "Epoch 29, Loss: 0.2754490375518799, Accuracy: 0.78125\n",
            "Epoch 29, Loss: 0.2794988751411438, Accuracy: 0.84375\n",
            "Epoch 29, Loss: 0.15764550864696503, Accuracy: 0.875\n",
            "Epoch 29, Loss: 0.24864891171455383, Accuracy: 0.84375\n",
            "Epoch 29, Loss: 0.2846042215824127, Accuracy: 0.875\n",
            "Epoch 29, Loss: 0.294552743434906, Accuracy: 0.78125\n",
            "Epoch 29, Loss: 0.30389082431793213, Accuracy: 0.78125\n",
            "Epoch 29, Loss: 0.30199459195137024, Accuracy: 0.75\n",
            "Epoch 29, Loss: 0.3403250575065613, Accuracy: 0.75\n",
            "Epoch 29, Loss: 0.33397161960601807, Accuracy: 0.78125\n",
            "Epoch 29, Loss: 0.43118739128112793, Accuracy: 0.65625\n",
            "Epoch 29, Loss: 0.23003940284252167, Accuracy: 0.84375\n",
            "Epoch 29, Loss: 0.2988967299461365, Accuracy: 0.78125\n",
            "Epoch 29, Loss: 0.36377808451652527, Accuracy: 0.75\n",
            "Epoch 29, Loss: 0.2667519450187683, Accuracy: 0.8125\n",
            "Epoch 29, Loss: 0.2715725898742676, Accuracy: 0.875\n",
            "Epoch 29, Loss: 0.3148942291736603, Accuracy: 0.8125\n",
            "Epoch 29, Loss: 0.3333584666252136, Accuracy: 0.84375\n",
            "Epoch 29, Loss: 0.1533743441104889, Accuracy: 0.96875\n",
            "Epoch 29, Loss: 0.23012696206569672, Accuracy: 0.8125\n",
            "Epoch 29, Loss: 0.21511301398277283, Accuracy: 0.8125\n",
            "Epoch 29, Loss: 0.2596845030784607, Accuracy: 0.84375\n",
            "Epoch 29, Loss: 0.17700743675231934, Accuracy: 0.875\n",
            "Epoch 29, Loss: 0.22218097746372223, Accuracy: 0.90625\n",
            "Epoch 29, Loss: 0.33658936619758606, Accuracy: 0.78125\n",
            "Epoch 29, Loss: 0.3339436948299408, Accuracy: 0.71875\n",
            "Epoch 29, Loss: 0.25956976413726807, Accuracy: 0.8125\n",
            "Epoch 29, Loss: 0.32371124625205994, Accuracy: 0.78125\n",
            "Epoch 29, Loss: 0.2611626088619232, Accuracy: 0.875\n",
            "Epoch 29, Loss: 0.18603871762752533, Accuracy: 0.90625\n",
            "Epoch 29, Loss: 0.2383628487586975, Accuracy: 0.84375\n",
            "Epoch 29, Loss: 0.21012981235980988, Accuracy: 0.84375\n",
            "Epoch 29, Loss: 0.21755704283714294, Accuracy: 0.84375\n",
            "Epoch 29, Loss: 0.22506608068943024, Accuracy: 0.78125\n",
            "Epoch 29, Loss: 0.35461297631263733, Accuracy: 0.6875\n",
            "Epoch 29, Loss: 0.212677001953125, Accuracy: 0.84375\n",
            "Epoch 29, Loss: 0.2162729948759079, Accuracy: 0.875\n",
            "Epoch 29, Loss: 0.22276389598846436, Accuracy: 0.84375\n",
            "Epoch 29, Loss: 0.3387482762336731, Accuracy: 0.75\n",
            "Epoch 29, Loss: 0.1705746352672577, Accuracy: 0.9375\n",
            "Epoch 29, Loss: 0.22692620754241943, Accuracy: 0.875\n",
            "Epoch 29, Loss: 0.3738355338573456, Accuracy: 0.75\n",
            "Epoch 29, Loss: 0.3250541090965271, Accuracy: 0.78125\n",
            "Epoch 29, Loss: 0.33348318934440613, Accuracy: 0.71875\n",
            "Epoch 29, Loss: 0.2575577199459076, Accuracy: 0.8125\n",
            "Epoch 29, Loss: 0.38819393515586853, Accuracy: 0.65625\n",
            "Epoch 29, Loss: 0.2524803578853607, Accuracy: 0.8125\n",
            "Epoch 29, Loss: 0.33503514528274536, Accuracy: 0.78125\n",
            "Epoch 29, Loss: 0.22707465291023254, Accuracy: 0.84375\n",
            "Epoch 29, Loss: 0.2561681866645813, Accuracy: 0.875\n",
            "Epoch 29, Loss: 0.3155553936958313, Accuracy: 0.8125\n",
            "Epoch 29, Loss: 0.1825605034828186, Accuracy: 0.875\n",
            "Epoch 29, Loss: 0.3334633409976959, Accuracy: 0.78125\n",
            "Epoch 29, Loss: 0.2979244589805603, Accuracy: 0.6875\n",
            "Epoch 29, Loss: 0.24284431338310242, Accuracy: 0.75\n",
            "Epoch 29, Loss: 0.2730872929096222, Accuracy: 0.8125\n",
            "Epoch 29, Loss: 0.23740871250629425, Accuracy: 0.84375\n",
            "Epoch 29, Loss: 0.38467904925346375, Accuracy: 0.75\n",
            "Epoch 29, Loss: 0.3060510754585266, Accuracy: 0.75\n",
            "Epoch 29, Loss: 0.351569265127182, Accuracy: 0.71875\n",
            "Epoch 29, Loss: 0.22443802654743195, Accuracy: 0.875\n",
            "Epoch 29, Loss: 0.2610313296318054, Accuracy: 0.8125\n",
            "Epoch 29, Loss: 0.23031361401081085, Accuracy: 0.875\n",
            "Epoch 29, Loss: 0.2135266810655594, Accuracy: 0.875\n",
            "Epoch 29, Loss: 0.163824200630188, Accuracy: 0.90625\n",
            "Epoch 29, Loss: 0.23398646712303162, Accuracy: 0.84375\n",
            "Epoch 29, Loss: 0.30886155366897583, Accuracy: 0.6666666865348816\n",
            " 3/12 [======>.......................] - ETA: 0s - loss: 0.9269 - accuracy: 0.6667"
          ]
        },
        {
          "name": "stderr",
          "output_type": "stream",
          "text": [
            "2024-05-05 06:07:49.988467: W tensorflow/core/framework/local_rendezvous.cc:404] Local rendezvous is aborting with status: OUT_OF_RANGE: End of sequence\n"
          ]
        },
        {
          "name": "stdout",
          "output_type": "stream",
          "text": [
            "12/12 [==============================] - 1s 46ms/step - loss: 0.9121 - accuracy: 0.7139\n",
            "Epoch 30, Loss: 0.2801487445831299, Accuracy: 0.875\n",
            "Epoch 30, Loss: 0.2954690456390381, Accuracy: 0.75\n",
            "Epoch 30, Loss: 0.20552818477153778, Accuracy: 0.90625\n",
            "Epoch 30, Loss: 0.31565749645233154, Accuracy: 0.84375\n",
            "Epoch 30, Loss: 0.23601968586444855, Accuracy: 0.84375\n",
            "Epoch 30, Loss: 0.17872141301631927, Accuracy: 0.90625\n",
            "Epoch 30, Loss: 0.4733628034591675, Accuracy: 0.65625\n",
            "Epoch 30, Loss: 0.31063413619995117, Accuracy: 0.78125\n",
            "Epoch 30, Loss: 0.2616961598396301, Accuracy: 0.8125\n",
            "Epoch 30, Loss: 0.28502827882766724, Accuracy: 0.8125\n",
            "Epoch 30, Loss: 0.19118231534957886, Accuracy: 0.875\n",
            "Epoch 30, Loss: 0.27630242705345154, Accuracy: 0.84375\n",
            "Epoch 30, Loss: 0.22149896621704102, Accuracy: 0.875\n",
            "Epoch 30, Loss: 0.2170061469078064, Accuracy: 0.9375\n",
            "Epoch 30, Loss: 0.24430441856384277, Accuracy: 0.84375\n",
            "Epoch 30, Loss: 0.2580518126487732, Accuracy: 0.84375\n",
            "Epoch 30, Loss: 0.2738999128341675, Accuracy: 0.78125\n",
            "Epoch 30, Loss: 0.19617067277431488, Accuracy: 0.90625\n",
            "Epoch 30, Loss: 0.2539769113063812, Accuracy: 0.8125\n",
            "Epoch 30, Loss: 0.2619054913520813, Accuracy: 0.78125\n",
            "Epoch 30, Loss: 0.36364662647247314, Accuracy: 0.8125\n",
            "Epoch 30, Loss: 0.3227417767047882, Accuracy: 0.78125\n",
            "Epoch 30, Loss: 0.31681323051452637, Accuracy: 0.75\n",
            "Epoch 30, Loss: 0.3055698871612549, Accuracy: 0.78125\n",
            "Epoch 30, Loss: 0.23149743676185608, Accuracy: 0.84375\n",
            "Epoch 30, Loss: 0.2727912366390228, Accuracy: 0.78125\n",
            "Epoch 30, Loss: 0.27795732021331787, Accuracy: 0.84375\n",
            "Epoch 30, Loss: 0.1557738482952118, Accuracy: 0.875\n",
            "Epoch 30, Loss: 0.23973490297794342, Accuracy: 0.84375\n",
            "Epoch 30, Loss: 0.27459460496902466, Accuracy: 0.875\n",
            "Epoch 30, Loss: 0.2936903238296509, Accuracy: 0.78125\n",
            "Epoch 30, Loss: 0.3099365234375, Accuracy: 0.78125\n",
            "Epoch 30, Loss: 0.29307064414024353, Accuracy: 0.75\n",
            "Epoch 30, Loss: 0.33005982637405396, Accuracy: 0.71875\n",
            "Epoch 30, Loss: 0.3249667286872864, Accuracy: 0.78125\n",
            "Epoch 30, Loss: 0.42716526985168457, Accuracy: 0.625\n",
            "Epoch 30, Loss: 0.22518715262413025, Accuracy: 0.84375\n",
            "Epoch 30, Loss: 0.2994610071182251, Accuracy: 0.78125\n",
            "Epoch 30, Loss: 0.3520200848579407, Accuracy: 0.78125\n",
            "Epoch 30, Loss: 0.25549888610839844, Accuracy: 0.8125\n",
            "Epoch 30, Loss: 0.27725622057914734, Accuracy: 0.84375\n",
            "Epoch 30, Loss: 0.30890780687332153, Accuracy: 0.8125\n",
            "Epoch 30, Loss: 0.33177459239959717, Accuracy: 0.84375\n",
            "Epoch 30, Loss: 0.1532641500234604, Accuracy: 0.96875\n",
            "Epoch 30, Loss: 0.22035665810108185, Accuracy: 0.8125\n",
            "Epoch 30, Loss: 0.21658790111541748, Accuracy: 0.8125\n",
            "Epoch 30, Loss: 0.25392553210258484, Accuracy: 0.84375\n",
            "Epoch 30, Loss: 0.17449426651000977, Accuracy: 0.875\n",
            "Epoch 30, Loss: 0.2140655219554901, Accuracy: 0.875\n",
            "Epoch 30, Loss: 0.32809701561927795, Accuracy: 0.8125\n",
            "Epoch 30, Loss: 0.32870543003082275, Accuracy: 0.75\n",
            "Epoch 30, Loss: 0.25507476925849915, Accuracy: 0.84375\n",
            "Epoch 30, Loss: 0.31490492820739746, Accuracy: 0.78125\n",
            "Epoch 30, Loss: 0.24535049498081207, Accuracy: 0.875\n",
            "Epoch 30, Loss: 0.18196290731430054, Accuracy: 0.90625\n",
            "Epoch 30, Loss: 0.2360212504863739, Accuracy: 0.84375\n",
            "Epoch 30, Loss: 0.2067088782787323, Accuracy: 0.84375\n",
            "Epoch 30, Loss: 0.2129063457250595, Accuracy: 0.875\n",
            "Epoch 30, Loss: 0.22669683396816254, Accuracy: 0.78125\n",
            "Epoch 30, Loss: 0.35642343759536743, Accuracy: 0.6875\n",
            "Epoch 30, Loss: 0.21022188663482666, Accuracy: 0.84375\n",
            "Epoch 30, Loss: 0.21622562408447266, Accuracy: 0.875\n",
            "Epoch 30, Loss: 0.21584387123584747, Accuracy: 0.875\n",
            "Epoch 30, Loss: 0.33973127603530884, Accuracy: 0.75\n",
            "Epoch 30, Loss: 0.16634716093540192, Accuracy: 0.875\n",
            "Epoch 30, Loss: 0.220977783203125, Accuracy: 0.875\n",
            "Epoch 30, Loss: 0.3743455708026886, Accuracy: 0.75\n",
            "Epoch 30, Loss: 0.3153137266635895, Accuracy: 0.78125\n",
            "Epoch 30, Loss: 0.33140021562576294, Accuracy: 0.71875\n",
            "Epoch 30, Loss: 0.2529124319553375, Accuracy: 0.8125\n",
            "Epoch 30, Loss: 0.3877169191837311, Accuracy: 0.65625\n",
            "Epoch 30, Loss: 0.24140332639217377, Accuracy: 0.8125\n",
            "Epoch 30, Loss: 0.3283284902572632, Accuracy: 0.78125\n",
            "Epoch 30, Loss: 0.2196861058473587, Accuracy: 0.875\n",
            "Epoch 30, Loss: 0.24976646900177002, Accuracy: 0.875\n",
            "Epoch 30, Loss: 0.30854111909866333, Accuracy: 0.8125\n",
            "Epoch 30, Loss: 0.18435902893543243, Accuracy: 0.875\n",
            "Epoch 30, Loss: 0.3341425359249115, Accuracy: 0.78125\n",
            "Epoch 30, Loss: 0.29867690801620483, Accuracy: 0.6875\n",
            "Epoch 30, Loss: 0.24014732241630554, Accuracy: 0.71875\n",
            "Epoch 30, Loss: 0.27171197533607483, Accuracy: 0.8125\n",
            "Epoch 30, Loss: 0.23682457208633423, Accuracy: 0.84375\n",
            "Epoch 30, Loss: 0.38877299427986145, Accuracy: 0.75\n",
            "Epoch 30, Loss: 0.31490689516067505, Accuracy: 0.71875\n",
            "Epoch 30, Loss: 0.344902902841568, Accuracy: 0.71875\n",
            "Epoch 30, Loss: 0.22211022675037384, Accuracy: 0.8125\n",
            "Epoch 30, Loss: 0.26070719957351685, Accuracy: 0.8125\n",
            "Epoch 30, Loss: 0.22433869540691376, Accuracy: 0.875\n",
            "Epoch 30, Loss: 0.20632947981357574, Accuracy: 0.90625\n",
            "Epoch 30, Loss: 0.1610799878835678, Accuracy: 0.9375\n",
            "Epoch 30, Loss: 0.2444707453250885, Accuracy: 0.84375\n",
            "Epoch 30, Loss: 0.3172057569026947, Accuracy: 0.7083333134651184\n",
            " 3/12 [======>.......................] - ETA: 0s - loss: 0.8441 - accuracy: 0.7083"
          ]
        },
        {
          "name": "stderr",
          "output_type": "stream",
          "text": [
            "2024-05-05 06:09:11.199945: W tensorflow/core/framework/local_rendezvous.cc:404] Local rendezvous is aborting with status: OUT_OF_RANGE: End of sequence\n"
          ]
        },
        {
          "name": "stdout",
          "output_type": "stream",
          "text": [
            "12/12 [==============================] - 1s 46ms/step - loss: 0.8303 - accuracy: 0.7302\n"
          ]
        }
      ],
      "source": [
        "optimizer = keras.optimizers.Adam()\n",
        "\n",
        "student_model.compile(optimizer=optimizer,\n",
        "              loss='sparse_categorical_crossentropy',\n",
        "              metrics=['accuracy'])\n",
        "\n",
        "for epoch in range(30):\n",
        "    for images, labels in ds_train:\n",
        "        loss, accuracy = train_step(images, labels, teacher_model, student_model, optimizer)\n",
        "        print(f\"Epoch {epoch+1}, Loss: {loss.numpy()}, Accuracy: {accuracy.numpy()}\")\n",
        "    student_model.evaluate(ds_validation)"
      ]
    },
    {
      "cell_type": "markdown",
      "metadata": {
        "id": "_ZVQfpFDN-Or"
      },
      "source": [
        "## Evaluating Distilled Model\n"
      ]
    },
    {
      "cell_type": "code",
      "execution_count": 29,
      "metadata": {
        "id": "r3WFEAeOOBBm"
      },
      "outputs": [
        {
          "name": "stdout",
          "output_type": "stream",
          "text": [
            "12/12 [==============================] - 1s 44ms/step - loss: 0.6715 - accuracy: 0.7602\n"
          ]
        },
        {
          "data": {
            "text/plain": [
              "[0.6714575290679932, 0.7602179646492004]"
            ]
          },
          "execution_count": 29,
          "metadata": {},
          "output_type": "execute_result"
        }
      ],
      "source": [
        "student_model.evaluate(ds_test)"
      ]
    },
    {
      "cell_type": "markdown",
      "metadata": {
        "id": "7uJIOdUyOd4Y"
      },
      "source": [
        "## Saving Distilled Model\n"
      ]
    },
    {
      "cell_type": "code",
      "execution_count": 30,
      "metadata": {
        "id": "scyr7LgfOhSH"
      },
      "outputs": [],
      "source": [
        "student_model.save('models/student-model.keras')"
      ]
    },
    {
      "cell_type": "markdown",
      "metadata": {
        "id": "1p-rxk3_OvY1"
      },
      "source": [
        "# Pruning\n"
      ]
    },
    {
      "cell_type": "markdown",
      "metadata": {
        "id": "2UabWJ6sO3sT"
      },
      "source": [
        "## Pruing Parameters\n"
      ]
    },
    {
      "cell_type": "code",
      "execution_count": 31,
      "metadata": {
        "id": "InCJtVBzO202"
      },
      "outputs": [],
      "source": [
        "prune_low_magnitude = tfmot.sparsity.keras.prune_low_magnitude\n",
        "\n",
        "batch_size = 32\n",
        "pruning_epochs = 5\n",
        "total_images = len(ds_train)\n",
        "end_step = np.ceil(total_images/batch_size).astype(np.int32) * pruning_epochs\n",
        "\n",
        "pruning_params = {\n",
        "      'pruning_schedule': tfmot.sparsity.keras.PolynomialDecay(initial_sparsity=0.50,\n",
        "                                                               final_sparsity=0.80,\n",
        "                                                               begin_step=0,\n",
        "                                                               end_step=end_step)\n",
        "}\n"
      ]
    },
    {
      "cell_type": "markdown",
      "metadata": {
        "id": "WWlel_c3Pgjc"
      },
      "source": [
        "## Compiling Student Pruning Model\n"
      ]
    },
    {
      "cell_type": "code",
      "execution_count": 32,
      "metadata": {
        "id": "DxVnUl3GOu9x"
      },
      "outputs": [
        {
          "name": "stdout",
          "output_type": "stream",
          "text": [
            "Model: \"model\"\n",
            "_________________________________________________________________\n",
            " Layer (type)                Output Shape              Param #   \n",
            "=================================================================\n",
            " input_1 (InputLayer)        [(None, 224, 224, 3)]     0         \n",
            "                                                                 \n",
            " prune_low_magnitude_conv2d  (None, 112, 112, 16)      882       \n",
            "  (PruneLowMagnitude)                                            \n",
            "                                                                 \n",
            " prune_low_magnitude_batch_  (None, 112, 112, 16)      65        \n",
            " normalization (PruneLowMag                                      \n",
            " nitude)                                                         \n",
            "                                                                 \n",
            " prune_low_magnitude_re_lu   (None, 112, 112, 16)      1         \n",
            " (PruneLowMagnitude)                                             \n",
            "                                                                 \n",
            " prune_low_magnitude_depthw  (None, 112, 112, 16)      161       \n",
            " ise_conv2d (PruneLowMagnit                                      \n",
            " ude)                                                            \n",
            "                                                                 \n",
            " prune_low_magnitude_batch_  (None, 112, 112, 16)      65        \n",
            " normalization_1 (PruneLowM                                      \n",
            " agnitude)                                                       \n",
            "                                                                 \n",
            " prune_low_magnitude_re_lu_  (None, 112, 112, 16)      1         \n",
            " 1 (PruneLowMagnitude)                                           \n",
            "                                                                 \n",
            " prune_low_magnitude_conv2d  (None, 112, 112, 32)      1058      \n",
            " _1 (PruneLowMagnitude)                                          \n",
            "                                                                 \n",
            " prune_low_magnitude_batch_  (None, 112, 112, 32)      129       \n",
            " normalization_2 (PruneLowM                                      \n",
            " agnitude)                                                       \n",
            "                                                                 \n",
            " prune_low_magnitude_re_lu_  (None, 112, 112, 32)      1         \n",
            " 2 (PruneLowMagnitude)                                           \n",
            "                                                                 \n",
            " prune_low_magnitude_depthw  (None, 56, 56, 32)        321       \n",
            " ise_conv2d_1 (PruneLowMagn                                      \n",
            " itude)                                                          \n",
            "                                                                 \n",
            " prune_low_magnitude_batch_  (None, 56, 56, 32)        129       \n",
            " normalization_3 (PruneLowM                                      \n",
            " agnitude)                                                       \n",
            "                                                                 \n",
            " prune_low_magnitude_re_lu_  (None, 56, 56, 32)        1         \n",
            " 3 (PruneLowMagnitude)                                           \n",
            "                                                                 \n",
            " prune_low_magnitude_conv2d  (None, 56, 56, 64)        4162      \n",
            " _2 (PruneLowMagnitude)                                          \n",
            "                                                                 \n",
            " prune_low_magnitude_batch_  (None, 56, 56, 64)        257       \n",
            " normalization_4 (PruneLowM                                      \n",
            " agnitude)                                                       \n",
            "                                                                 \n",
            " prune_low_magnitude_re_lu_  (None, 56, 56, 64)        1         \n",
            " 4 (PruneLowMagnitude)                                           \n",
            "                                                                 \n",
            " prune_low_magnitude_depthw  (None, 56, 56, 64)        641       \n",
            " ise_conv2d_2 (PruneLowMagn                                      \n",
            " itude)                                                          \n",
            "                                                                 \n",
            " prune_low_magnitude_batch_  (None, 56, 56, 64)        257       \n",
            " normalization_5 (PruneLowM                                      \n",
            " agnitude)                                                       \n",
            "                                                                 \n",
            " prune_low_magnitude_re_lu_  (None, 56, 56, 64)        1         \n",
            " 5 (PruneLowMagnitude)                                           \n",
            "                                                                 \n",
            " prune_low_magnitude_conv2d  (None, 56, 56, 128)       16514     \n",
            " _3 (PruneLowMagnitude)                                          \n",
            "                                                                 \n",
            " prune_low_magnitude_batch_  (None, 56, 56, 128)       513       \n",
            " normalization_6 (PruneLowM                                      \n",
            " agnitude)                                                       \n",
            "                                                                 \n",
            " prune_low_magnitude_re_lu_  (None, 56, 56, 128)       1         \n",
            " 6 (PruneLowMagnitude)                                           \n",
            "                                                                 \n",
            " prune_low_magnitude_global  (None, 128)               1         \n",
            " _average_pooling2d (PruneL                                      \n",
            " owMagnitude)                                                    \n",
            "                                                                 \n",
            " prune_low_magnitude_dense   (None, 5)                 1287      \n",
            " (PruneLowMagnitude)                                             \n",
            "                                                                 \n",
            "=================================================================\n",
            "Total params: 26449 (103.41 KB)\n",
            "Trainable params: 13893 (54.27 KB)\n",
            "Non-trainable params: 12556 (49.14 KB)\n",
            "_________________________________________________________________\n"
          ]
        }
      ],
      "source": [
        "student_pruning_model = prune_low_magnitude(student_model, **pruning_params)\n",
        "student_pruning_model.compile(optimizer='adam',\n",
        "              loss=keras.losses.SparseCategoricalCrossentropy(from_logits=True),\n",
        "              metrics=['accuracy'])\n",
        "student_pruning_model.summary()"
      ]
    },
    {
      "cell_type": "markdown",
      "metadata": {
        "id": "vTv1KmH9P4xW"
      },
      "source": [
        "## Fitting Pruining Model\n"
      ]
    },
    {
      "cell_type": "code",
      "execution_count": 33,
      "metadata": {
        "id": "Cg_qn9wkPsfL"
      },
      "outputs": [
        {
          "name": "stdout",
          "output_type": "stream",
          "text": [
            "Epoch 1/5\n"
          ]
        },
        {
          "name": "stderr",
          "output_type": "stream",
          "text": [
            "/Users/sanjeev/Desktop/Sanjeev/.venv/lib/python3.9/site-packages/tf_keras/src/backend.py:5729: UserWarning: \"`sparse_categorical_crossentropy` received `from_logits=True`, but the `output` argument was produced by a Softmax activation and thus does not represent logits. Was this intended?\n",
            "  output, from_logits = _get_logits(\n"
          ]
        },
        {
          "name": "stdout",
          "output_type": "stream",
          "text": [
            "92/92 [==============================] - 22s 169ms/step - loss: 0.5278 - accuracy: 0.8147 - val_loss: 0.7732 - val_accuracy: 0.7439\n",
            "Epoch 2/5\n",
            "92/92 [==============================] - 16s 175ms/step - loss: 0.5130 - accuracy: 0.8239 - val_loss: 0.7579 - val_accuracy: 0.7439\n",
            "Epoch 3/5\n",
            "92/92 [==============================] - 16s 178ms/step - loss: 0.5051 - accuracy: 0.8283 - val_loss: 0.7632 - val_accuracy: 0.7439\n",
            "Epoch 4/5\n",
            "92/92 [==============================] - 16s 176ms/step - loss: 0.4993 - accuracy: 0.8297 - val_loss: 0.7424 - val_accuracy: 0.7520\n",
            "Epoch 5/5\n",
            "92/92 [==============================] - 16s 177ms/step - loss: 0.4953 - accuracy: 0.8283 - val_loss: 0.7301 - val_accuracy: 0.7493\n"
          ]
        },
        {
          "data": {
            "text/plain": [
              "<tf_keras.src.callbacks.History at 0x31c30c9a0>"
            ]
          },
          "execution_count": 33,
          "metadata": {},
          "output_type": "execute_result"
        }
      ],
      "source": [
        "logdir = tempfile.mkdtemp()\n",
        "\n",
        "callbacks = [\n",
        "  tfmot.sparsity.keras.UpdatePruningStep(),\n",
        "  tfmot.sparsity.keras.PruningSummaries(log_dir=logdir),\n",
        "]\n",
        "\n",
        "student_pruning_model.fit(ds_train,\n",
        "    validation_data=ds_validation,\n",
        "    epochs=pruning_epochs, callbacks=callbacks)"
      ]
    },
    {
      "cell_type": "markdown",
      "metadata": {
        "id": "Sxo1fZQIQCR1"
      },
      "source": [
        "## Pruned Model\n"
      ]
    },
    {
      "cell_type": "code",
      "execution_count": 34,
      "metadata": {
        "id": "gRrY7I3qQCBB"
      },
      "outputs": [],
      "source": [
        "pruned_student_model = tfmot.sparsity.keras.strip_pruning(student_pruning_model)"
      ]
    },
    {
      "cell_type": "markdown",
      "metadata": {
        "id": "-yU0YwBUQSPe"
      },
      "source": [
        "## Evaluating Pruned Model on Test Set\n"
      ]
    },
    {
      "cell_type": "code",
      "execution_count": 35,
      "metadata": {
        "id": "um47FIGvQWce"
      },
      "outputs": [
        {
          "name": "stderr",
          "output_type": "stream",
          "text": [
            "WARNING:absl:At this time, the v2.11+ optimizer `tf.keras.optimizers.Adam` runs slowly on M1/M2 Macs, please use the legacy TF-Keras optimizer instead, located at `tf.keras.optimizers.legacy.Adam`.\n"
          ]
        },
        {
          "name": "stdout",
          "output_type": "stream",
          "text": [
            "12/12 [==============================] - 1s 38ms/step - loss: 0.5559 - accuracy: 0.8147\n"
          ]
        },
        {
          "data": {
            "text/plain": [
              "[0.5558675527572632, 0.8147138953208923]"
            ]
          },
          "execution_count": 35,
          "metadata": {},
          "output_type": "execute_result"
        }
      ],
      "source": [
        "pruned_student_model.compile(optimizer=keras.optimizers.Adam(learning_rate=0.0001),\n",
        "    loss=tf.keras.losses.SparseCategoricalCrossentropy(),\n",
        "    metrics=['accuracy'])\n",
        "\n",
        "pruned_student_model.evaluate(ds_test)"
      ]
    },
    {
      "cell_type": "markdown",
      "metadata": {},
      "source": [
        "## Saving Pruned Model\n"
      ]
    },
    {
      "cell_type": "code",
      "execution_count": 36,
      "metadata": {},
      "outputs": [],
      "source": [
        "pruned_student_model.save('models/pruned_student_model.keras')"
      ]
    },
    {
      "cell_type": "markdown",
      "metadata": {
        "id": "1P0I1b6_QNuL"
      },
      "source": [
        "# Quantization Aware Training\n"
      ]
    },
    {
      "cell_type": "markdown",
      "metadata": {
        "id": "z3aLtpS3Qs7x"
      },
      "source": [
        "## Preparing model for Quantization\n"
      ]
    },
    {
      "cell_type": "code",
      "execution_count": 37,
      "metadata": {
        "id": "lHCNvGqaQsS6"
      },
      "outputs": [],
      "source": [
        "quantize_model = tfmot.quantization.keras.quantize_model\n",
        "\n",
        "q_aware_student_model = quantize_model(pruned_student_model)\n",
        "\n",
        "q_aware_student_model.compile(optimizer='adam',\n",
        "              loss=keras.losses.SparseCategoricalCrossentropy(from_logits=True),\n",
        "              metrics=['accuracy'])"
      ]
    },
    {
      "cell_type": "markdown",
      "metadata": {
        "id": "rS8ZjNcSQ-K7"
      },
      "source": [
        "## Training on Quantized Model\n"
      ]
    },
    {
      "cell_type": "code",
      "execution_count": 38,
      "metadata": {
        "id": "FqM9m5i0QPk2"
      },
      "outputs": [
        {
          "name": "stdout",
          "output_type": "stream",
          "text": [
            "Epoch 1/5\n"
          ]
        },
        {
          "name": "stdout",
          "output_type": "stream",
          "text": [
            "92/92 [==============================] - 319s 3s/step - loss: 0.5021 - accuracy: 0.8287 - val_loss: 0.8193 - val_accuracy: 0.7166\n",
            "Epoch 2/5\n",
            "92/92 [==============================] - 20s 221ms/step - loss: 0.4908 - accuracy: 0.8331 - val_loss: 0.8701 - val_accuracy: 0.7112\n",
            "Epoch 3/5\n",
            "92/92 [==============================] - 20s 217ms/step - loss: 0.4883 - accuracy: 0.8321 - val_loss: 0.7974 - val_accuracy: 0.7302\n",
            "Epoch 4/5\n",
            "92/92 [==============================] - 20s 215ms/step - loss: 0.4811 - accuracy: 0.8328 - val_loss: 0.7688 - val_accuracy: 0.7548\n",
            "Epoch 5/5\n",
            "92/92 [==============================] - 20s 215ms/step - loss: 0.4746 - accuracy: 0.8375 - val_loss: 0.7620 - val_accuracy: 0.7357\n"
          ]
        },
        {
          "data": {
            "text/plain": [
              "<tf_keras.src.callbacks.History at 0x36abf65b0>"
            ]
          },
          "execution_count": 38,
          "metadata": {},
          "output_type": "execute_result"
        }
      ],
      "source": [
        "q_aware_student_model.fit(\n",
        "    ds_train,\n",
        "    validation_data=ds_validation,\n",
        "    epochs=5\n",
        ")"
      ]
    },
    {
      "cell_type": "markdown",
      "metadata": {
        "id": "JloEv9tdRJWD"
      },
      "source": [
        "## Evaluating Accuracy on Quantized Model\n"
      ]
    },
    {
      "cell_type": "code",
      "execution_count": 39,
      "metadata": {
        "id": "FXIOrP03RFB9"
      },
      "outputs": [
        {
          "name": "stdout",
          "output_type": "stream",
          "text": [
            "12/12 [==============================] - 1s 47ms/step - loss: 0.6239 - accuracy: 0.7847\n"
          ]
        },
        {
          "data": {
            "text/plain": [
              "[0.6239137053489685, 0.7847411632537842]"
            ]
          },
          "execution_count": 39,
          "metadata": {},
          "output_type": "execute_result"
        }
      ],
      "source": [
        "q_aware_student_model.evaluate(ds_test)"
      ]
    },
    {
      "cell_type": "markdown",
      "metadata": {},
      "source": [
        "## Saving Qunatized Model\n"
      ]
    },
    {
      "cell_type": "code",
      "execution_count": 40,
      "metadata": {},
      "outputs": [],
      "source": [
        "q_aware_student_model.save('models/quantized_student_model.keras')"
      ]
    },
    {
      "cell_type": "markdown",
      "metadata": {
        "id": "Yt36mo5jRnBA"
      },
      "source": [
        "# Creating TFLite - For Edge Device\n"
      ]
    },
    {
      "cell_type": "code",
      "execution_count": 41,
      "metadata": {
        "id": "z7CIbPaqRl-r"
      },
      "outputs": [
        {
          "name": "stdout",
          "output_type": "stream",
          "text": [
            "INFO:tensorflow:Assets written to: /var/folders/2v/nf7c3wvd0p3b6_m_mjdx_1kw0000gn/T/tmprpzs5f7f/assets\n"
          ]
        },
        {
          "name": "stderr",
          "output_type": "stream",
          "text": [
            "INFO:tensorflow:Assets written to: /var/folders/2v/nf7c3wvd0p3b6_m_mjdx_1kw0000gn/T/tmprpzs5f7f/assets\n",
            "/Users/sanjeev/Desktop/Sanjeev/.venv/lib/python3.9/site-packages/tensorflow/lite/python/convert.py:964: UserWarning: Statistics for quantized inputs were expected, but not specified; continuing anyway.\n",
            "  warnings.warn(\n",
            "WARNING: All log messages before absl::InitializeLog() is called are written to STDERR\n",
            "W0000 00:00:1714904252.489128 2216169 tf_tfl_flatbuffer_helpers.cc:390] Ignored output_format.\n",
            "W0000 00:00:1714904252.489188 2216169 tf_tfl_flatbuffer_helpers.cc:393] Ignored drop_control_dependency.\n",
            "2024-05-05 06:17:32.489570: I tensorflow/cc/saved_model/reader.cc:83] Reading SavedModel from: /var/folders/2v/nf7c3wvd0p3b6_m_mjdx_1kw0000gn/T/tmprpzs5f7f\n",
            "2024-05-05 06:17:32.493968: I tensorflow/cc/saved_model/reader.cc:51] Reading meta graph with tags { serve }\n",
            "2024-05-05 06:17:32.493975: I tensorflow/cc/saved_model/reader.cc:146] Reading SavedModel debug info (if present) from: /var/folders/2v/nf7c3wvd0p3b6_m_mjdx_1kw0000gn/T/tmprpzs5f7f\n",
            "2024-05-05 06:17:32.536825: I tensorflow/compiler/mlir/mlir_graph_optimization_pass.cc:388] MLIR V1 optimization pass is not enabled\n",
            "2024-05-05 06:17:32.542392: I tensorflow/cc/saved_model/loader.cc:234] Restoring SavedModel bundle.\n",
            "2024-05-05 06:17:32.675889: I tensorflow/cc/saved_model/loader.cc:218] Running initialization op on SavedModel bundle at path: /var/folders/2v/nf7c3wvd0p3b6_m_mjdx_1kw0000gn/T/tmprpzs5f7f\n",
            "2024-05-05 06:17:32.715891: I tensorflow/cc/saved_model/loader.cc:317] SavedModel load for tags { serve }; Status: success: OK. Took 226321 microseconds.\n",
            "2024-05-05 06:17:32.759537: I tensorflow/compiler/mlir/tensorflow/utils/dump_mlir_util.cc:268] disabling MLIR crash reproducer, set env var `MLIR_CRASH_REPRODUCER_DIRECTORY` to enable.\n"
          ]
        }
      ],
      "source": [
        "converter = tf.lite.TFLiteConverter.from_keras_model(q_aware_student_model)\n",
        "converter.optimizations = [tf.lite.Optimize.DEFAULT]\n",
        "\n",
        "quantized_tflite_model = converter.convert()"
      ]
    },
    {
      "cell_type": "code",
      "execution_count": 42,
      "metadata": {},
      "outputs": [],
      "source": [
        "tflite_file = './models/model.tflite'\n",
        "\n",
        "with open(tflite_file, 'wb') as f:\n",
        "    f.write(quantized_tflite_model)"
      ]
    },
    {
      "cell_type": "markdown",
      "metadata": {},
      "source": [
        "# Evaluating TFLite Models Accuracy\n"
      ]
    },
    {
      "cell_type": "code",
      "execution_count": 43,
      "metadata": {},
      "outputs": [
        {
          "name": "stderr",
          "output_type": "stream",
          "text": [
            "INFO: Created TensorFlow Lite XNNPACK delegate for CPU.\n"
          ]
        }
      ],
      "source": [
        "interpreter = tf.lite.Interpreter(model_path=\"models/model.tflite\")\n",
        "interpreter.allocate_tensors()\n",
        "\n",
        "input_details = interpreter.get_input_details()\n",
        "output_details = interpreter.get_output_details()"
      ]
    },
    {
      "cell_type": "code",
      "execution_count": 44,
      "metadata": {},
      "outputs": [
        {
          "name": "stdout",
          "output_type": "stream",
          "text": [
            "Model accuracy on TF Flowers dataset: 0.7847\n"
          ]
        },
        {
          "name": "stderr",
          "output_type": "stream",
          "text": [
            "2024-05-05 06:17:33.238554: W tensorflow/core/framework/local_rendezvous.cc:404] Local rendezvous is aborting with status: OUT_OF_RANGE: End of sequence\n"
          ]
        }
      ],
      "source": [
        "def evaluate_model(interpreter, test_data):\n",
        "    input_index = input_details[0]['index']\n",
        "    output_index = output_details[0]['index']\n",
        "\n",
        "    total_seen = 0\n",
        "    num_correct = 0\n",
        "\n",
        "    for img, label in ds_test:\n",
        "        for i in range(img.shape[0]):\n",
        "            inp = img[i].numpy().reshape(input_details[0]['shape'])\n",
        "            interpreter.set_tensor(input_index, inp)\n",
        "            interpreter.invoke()\n",
        "\n",
        "            predictions = interpreter.get_tensor(output_index)\n",
        "            predicted_label = np.argmax(predictions)\n",
        "            if predicted_label == label[i].numpy():\n",
        "                num_correct += 1\n",
        "            total_seen += 1\n",
        "\n",
        "    accuracy = num_correct / total_seen\n",
        "    return accuracy\n",
        "\n",
        "accuracy = evaluate_model(interpreter, ds_test)\n",
        "print(f\"Model accuracy on TF Flowers dataset: {accuracy:.4f}\")\n"
      ]
    },
    {
      "cell_type": "code",
      "execution_count": 50,
      "metadata": {},
      "outputs": [
        {
          "name": "stdout",
          "output_type": "stream",
          "text": [
            "zsh:cd:1: string not in pwd: ls\n"
          ]
        }
      ],
      "source": [
        "!cd ls -lr"
      ]
    },
    {
      "cell_type": "code",
      "execution_count": 54,
      "metadata": {},
      "outputs": [
        {
          "name": "stdout",
          "output_type": "stream",
          "text": [
            "Model: \"model\"\n",
            "_________________________________________________________________\n",
            " Layer (type)                Output Shape              Param #   \n",
            "=================================================================\n",
            " input_1 (InputLayer)        [(None, 224, 224, 3)]     0         \n",
            "                                                                 \n",
            " quantize_layer (QuantizeLa  (None, 224, 224, 3)       3         \n",
            " yer)                                                            \n",
            "                                                                 \n",
            " quant_conv2d (QuantizeWrap  (None, 112, 112, 16)      481       \n",
            " perV2)                                                          \n",
            "                                                                 \n",
            " quant_batch_normalization   (None, 112, 112, 16)      65        \n",
            " (QuantizeWrapperV2)                                             \n",
            "                                                                 \n",
            " quant_re_lu (QuantizeWrapp  (None, 112, 112, 16)      3         \n",
            " erV2)                                                           \n",
            "                                                                 \n",
            " quant_depthwise_conv2d (Qu  (None, 112, 112, 16)      163       \n",
            " antizeWrapperV2)                                                \n",
            "                                                                 \n",
            " quant_batch_normalization_  (None, 112, 112, 16)      65        \n",
            " 1 (QuantizeWrapperV2)                                           \n",
            "                                                                 \n",
            " quant_re_lu_1 (QuantizeWra  (None, 112, 112, 16)      3         \n",
            " pperV2)                                                         \n",
            "                                                                 \n",
            " quant_conv2d_1 (QuantizeWr  (None, 112, 112, 32)      609       \n",
            " apperV2)                                                        \n",
            "                                                                 \n",
            " quant_batch_normalization_  (None, 112, 112, 32)      129       \n",
            " 2 (QuantizeWrapperV2)                                           \n",
            "                                                                 \n",
            " quant_re_lu_2 (QuantizeWra  (None, 112, 112, 32)      3         \n",
            " pperV2)                                                         \n",
            "                                                                 \n",
            " quant_depthwise_conv2d_1 (  (None, 56, 56, 32)        323       \n",
            " QuantizeWrapperV2)                                              \n",
            "                                                                 \n",
            " quant_batch_normalization_  (None, 56, 56, 32)        129       \n",
            " 3 (QuantizeWrapperV2)                                           \n",
            "                                                                 \n",
            " quant_re_lu_3 (QuantizeWra  (None, 56, 56, 32)        3         \n",
            " pperV2)                                                         \n",
            "                                                                 \n",
            " quant_conv2d_2 (QuantizeWr  (None, 56, 56, 64)        2241      \n",
            " apperV2)                                                        \n",
            "                                                                 \n",
            " quant_batch_normalization_  (None, 56, 56, 64)        257       \n",
            " 4 (QuantizeWrapperV2)                                           \n",
            "                                                                 \n",
            " quant_re_lu_4 (QuantizeWra  (None, 56, 56, 64)        3         \n",
            " pperV2)                                                         \n",
            "                                                                 \n",
            " quant_depthwise_conv2d_2 (  (None, 56, 56, 64)        643       \n",
            " QuantizeWrapperV2)                                              \n",
            "                                                                 \n",
            " quant_batch_normalization_  (None, 56, 56, 64)        257       \n",
            " 5 (QuantizeWrapperV2)                                           \n",
            "                                                                 \n",
            " quant_re_lu_5 (QuantizeWra  (None, 56, 56, 64)        3         \n",
            " pperV2)                                                         \n",
            "                                                                 \n",
            " quant_conv2d_3 (QuantizeWr  (None, 56, 56, 128)       8577      \n",
            " apperV2)                                                        \n",
            "                                                                 \n",
            " quant_batch_normalization_  (None, 56, 56, 128)       513       \n",
            " 6 (QuantizeWrapperV2)                                           \n",
            "                                                                 \n",
            " quant_re_lu_6 (QuantizeWra  (None, 56, 56, 128)       3         \n",
            " pperV2)                                                         \n",
            "                                                                 \n",
            " quant_global_average_pooli  (None, 128)               3         \n",
            " ng2d (QuantizeWrapperV2)                                        \n",
            "                                                                 \n",
            " quant_dense (QuantizeWrapp  (None, 5)                 650       \n",
            " erV2)                                                           \n",
            "                                                                 \n",
            "=================================================================\n",
            "Total params: 15129 (59.10 KB)\n",
            "Trainable params: 13893 (54.27 KB)\n",
            "Non-trainable params: 1236 (4.83 KB)\n",
            "_________________________________________________________________\n"
          ]
        }
      ],
      "source": [
        "q_aware_student_model.summary()"
      ]
    },
    {
      "cell_type": "code",
      "execution_count": 55,
      "metadata": {},
      "outputs": [
        {
          "data": {
            "text/html": [
              "<pre style=\"white-space:pre;overflow-x:auto;line-height:normal;font-family:Menlo,'DejaVu Sans Mono',consolas,'Courier New',monospace\"><span style=\"font-weight: bold\">Model: \"sequential\"</span>\n",
              "</pre>\n"
            ],
            "text/plain": [
              "\u001b[1mModel: \"sequential\"\u001b[0m\n"
            ]
          },
          "metadata": {},
          "output_type": "display_data"
        },
        {
          "data": {
            "text/html": [
              "<pre style=\"white-space:pre;overflow-x:auto;line-height:normal;font-family:Menlo,'DejaVu Sans Mono',consolas,'Courier New',monospace\">┏━━━━━━━━━━━━━━━━━━━━━━━━━━━━━━━━━┳━━━━━━━━━━━━━━━━━━━━━━━━┳━━━━━━━━━━━━━━━┓\n",
              "┃<span style=\"font-weight: bold\"> Layer (type)                    </span>┃<span style=\"font-weight: bold\"> Output Shape           </span>┃<span style=\"font-weight: bold\">       Param # </span>┃\n",
              "┡━━━━━━━━━━━━━━━━━━━━━━━━━━━━━━━━━╇━━━━━━━━━━━━━━━━━━━━━━━━╇━━━━━━━━━━━━━━━┩\n",
              "│ resnet50 (<span style=\"color: #0087ff; text-decoration-color: #0087ff\">Functional</span>)           │ (<span style=\"color: #00d7ff; text-decoration-color: #00d7ff\">None</span>, <span style=\"color: #00af00; text-decoration-color: #00af00\">7</span>, <span style=\"color: #00af00; text-decoration-color: #00af00\">7</span>, <span style=\"color: #00af00; text-decoration-color: #00af00\">2048</span>)     │    <span style=\"color: #00af00; text-decoration-color: #00af00\">23,587,712</span> │\n",
              "├─────────────────────────────────┼────────────────────────┼───────────────┤\n",
              "│ global_average_pooling2d        │ (<span style=\"color: #00d7ff; text-decoration-color: #00d7ff\">None</span>, <span style=\"color: #00af00; text-decoration-color: #00af00\">2048</span>)           │             <span style=\"color: #00af00; text-decoration-color: #00af00\">0</span> │\n",
              "│ (<span style=\"color: #0087ff; text-decoration-color: #0087ff\">GlobalAveragePooling2D</span>)        │                        │               │\n",
              "├─────────────────────────────────┼────────────────────────┼───────────────┤\n",
              "│ dense (<span style=\"color: #0087ff; text-decoration-color: #0087ff\">Dense</span>)                   │ (<span style=\"color: #00d7ff; text-decoration-color: #00d7ff\">None</span>, <span style=\"color: #00af00; text-decoration-color: #00af00\">256</span>)            │       <span style=\"color: #00af00; text-decoration-color: #00af00\">524,544</span> │\n",
              "├─────────────────────────────────┼────────────────────────┼───────────────┤\n",
              "│ dense_1 (<span style=\"color: #0087ff; text-decoration-color: #0087ff\">Dense</span>)                 │ (<span style=\"color: #00d7ff; text-decoration-color: #00d7ff\">None</span>, <span style=\"color: #00af00; text-decoration-color: #00af00\">5</span>)              │         <span style=\"color: #00af00; text-decoration-color: #00af00\">1,285</span> │\n",
              "└─────────────────────────────────┴────────────────────────┴───────────────┘\n",
              "</pre>\n"
            ],
            "text/plain": [
              "┏━━━━━━━━━━━━━━━━━━━━━━━━━━━━━━━━━┳━━━━━━━━━━━━━━━━━━━━━━━━┳━━━━━━━━━━━━━━━┓\n",
              "┃\u001b[1m \u001b[0m\u001b[1mLayer (type)                   \u001b[0m\u001b[1m \u001b[0m┃\u001b[1m \u001b[0m\u001b[1mOutput Shape          \u001b[0m\u001b[1m \u001b[0m┃\u001b[1m \u001b[0m\u001b[1m      Param #\u001b[0m\u001b[1m \u001b[0m┃\n",
              "┡━━━━━━━━━━━━━━━━━━━━━━━━━━━━━━━━━╇━━━━━━━━━━━━━━━━━━━━━━━━╇━━━━━━━━━━━━━━━┩\n",
              "│ resnet50 (\u001b[38;5;33mFunctional\u001b[0m)           │ (\u001b[38;5;45mNone\u001b[0m, \u001b[38;5;34m7\u001b[0m, \u001b[38;5;34m7\u001b[0m, \u001b[38;5;34m2048\u001b[0m)     │    \u001b[38;5;34m23,587,712\u001b[0m │\n",
              "├─────────────────────────────────┼────────────────────────┼───────────────┤\n",
              "│ global_average_pooling2d        │ (\u001b[38;5;45mNone\u001b[0m, \u001b[38;5;34m2048\u001b[0m)           │             \u001b[38;5;34m0\u001b[0m │\n",
              "│ (\u001b[38;5;33mGlobalAveragePooling2D\u001b[0m)        │                        │               │\n",
              "├─────────────────────────────────┼────────────────────────┼───────────────┤\n",
              "│ dense (\u001b[38;5;33mDense\u001b[0m)                   │ (\u001b[38;5;45mNone\u001b[0m, \u001b[38;5;34m256\u001b[0m)            │       \u001b[38;5;34m524,544\u001b[0m │\n",
              "├─────────────────────────────────┼────────────────────────┼───────────────┤\n",
              "│ dense_1 (\u001b[38;5;33mDense\u001b[0m)                 │ (\u001b[38;5;45mNone\u001b[0m, \u001b[38;5;34m5\u001b[0m)              │         \u001b[38;5;34m1,285\u001b[0m │\n",
              "└─────────────────────────────────┴────────────────────────┴───────────────┘\n"
            ]
          },
          "metadata": {},
          "output_type": "display_data"
        },
        {
          "data": {
            "text/html": [
              "<pre style=\"white-space:pre;overflow-x:auto;line-height:normal;font-family:Menlo,'DejaVu Sans Mono',consolas,'Courier New',monospace\"><span style=\"font-weight: bold\"> Total params: </span><span style=\"color: #00af00; text-decoration-color: #00af00\">25,165,201</span> (96.00 MB)\n",
              "</pre>\n"
            ],
            "text/plain": [
              "\u001b[1m Total params: \u001b[0m\u001b[38;5;34m25,165,201\u001b[0m (96.00 MB)\n"
            ]
          },
          "metadata": {},
          "output_type": "display_data"
        },
        {
          "data": {
            "text/html": [
              "<pre style=\"white-space:pre;overflow-x:auto;line-height:normal;font-family:Menlo,'DejaVu Sans Mono',consolas,'Courier New',monospace\"><span style=\"font-weight: bold\"> Trainable params: </span><span style=\"color: #00af00; text-decoration-color: #00af00\">525,829</span> (2.01 MB)\n",
              "</pre>\n"
            ],
            "text/plain": [
              "\u001b[1m Trainable params: \u001b[0m\u001b[38;5;34m525,829\u001b[0m (2.01 MB)\n"
            ]
          },
          "metadata": {},
          "output_type": "display_data"
        },
        {
          "data": {
            "text/html": [
              "<pre style=\"white-space:pre;overflow-x:auto;line-height:normal;font-family:Menlo,'DejaVu Sans Mono',consolas,'Courier New',monospace\"><span style=\"font-weight: bold\"> Non-trainable params: </span><span style=\"color: #00af00; text-decoration-color: #00af00\">23,587,712</span> (89.98 MB)\n",
              "</pre>\n"
            ],
            "text/plain": [
              "\u001b[1m Non-trainable params: \u001b[0m\u001b[38;5;34m23,587,712\u001b[0m (89.98 MB)\n"
            ]
          },
          "metadata": {},
          "output_type": "display_data"
        },
        {
          "data": {
            "text/html": [
              "<pre style=\"white-space:pre;overflow-x:auto;line-height:normal;font-family:Menlo,'DejaVu Sans Mono',consolas,'Courier New',monospace\"><span style=\"font-weight: bold\"> Optimizer params: </span><span style=\"color: #00af00; text-decoration-color: #00af00\">1,051,660</span> (4.01 MB)\n",
              "</pre>\n"
            ],
            "text/plain": [
              "\u001b[1m Optimizer params: \u001b[0m\u001b[38;5;34m1,051,660\u001b[0m (4.01 MB)\n"
            ]
          },
          "metadata": {},
          "output_type": "display_data"
        }
      ],
      "source": [
        "teacher_model.summary()"
      ]
    },
    {
      "cell_type": "code",
      "execution_count": null,
      "metadata": {},
      "outputs": [],
      "source": []
    },
    {
      "cell_type": "code",
      "execution_count": null,
      "metadata": {},
      "outputs": [],
      "source": []
    }
  ],
  "metadata": {
    "accelerator": "GPU",
    "colab": {
      "gpuType": "T4",
      "provenance": []
    },
    "kernelspec": {
      "display_name": "Python 3",
      "name": "python3"
    },
    "language_info": {
      "codemirror_mode": {
        "name": "ipython",
        "version": 3
      },
      "file_extension": ".py",
      "mimetype": "text/x-python",
      "name": "python",
      "nbconvert_exporter": "python",
      "pygments_lexer": "ipython3",
      "version": "3.9.6"
    }
  },
  "nbformat": 4,
  "nbformat_minor": 0
}
